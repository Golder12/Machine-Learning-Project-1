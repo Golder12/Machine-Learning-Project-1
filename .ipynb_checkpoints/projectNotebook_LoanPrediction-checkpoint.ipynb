{
 "cells": [
  {
   "cell_type": "markdown",
   "id": "2ccf01c0",
   "metadata": {},
   "source": [
    "# Project statement\n",
    "SuperLender is a local digital lending company, which prides itself in its effective use of credit risk models to deliver profitable and high-impact loan alternative. Its assessment approach is based on two main risk drivers of loan default prediction:. 1) willingness to pay and 2) ability to pay. Since not all customers pay back, the company invests in experienced data scientist to build robust models to effectively predict the odds of repayment.\n",
    "\n",
    "These two fundamental drivers need to be determined at the point of each application to allow the credit grantor to make a calculated decision based on repayment odds, which in turn determines if an applicant should get a loan, and if so - what the size, price and tenure of the offer will be.\n",
    "\n",
    "There are two types of risk models in general: New business risk, which would be used to assess the risk of application(s) associated with the first loan that he/she applies. The second is a repeat or behaviour risk model, in which case the customer has been a client and applies for a repeat loan. In the latter case - we will have additional performance on how he/she repaid their prior loans, which we can incorporate into our risk model.\n",
    "\n",
    "It is your job to predict if a loan was good or bad, i.e. accurately predict binary outcome variable, where Good is 1 and Bad is 0."
   ]
  },
  {
   "cell_type": "markdown",
   "id": "f7058379",
   "metadata": {},
   "source": [
    "## Data\n",
    "We have three datasets:\n",
    "1) traindemographics.csv : This holds customer's demographic data.\n",
    "\n",
    "2) trainperf.csv : This holds data of the repeat loan that the customer has taken for which we need to predict the performance of.  \n",
    "\n",
    "3) trainprevloans.csv : This dataset contains all previous loans that the customer had prior to the loan above that we want to predict the performance of.\n",
    "\n",
    "Further descriptions of the dataset and the data contained in them is given at the time of loading the dataset in cells ahead."
   ]
  },
  {
   "cell_type": "code",
   "execution_count": 2091,
   "id": "5d00e182",
   "metadata": {},
   "outputs": [],
   "source": [
    "import pandas as pd\n",
    "import warnings\n",
    "import sys\n",
    "import seaborn as sns\n",
    "import matplotlib.pyplot as plt\n",
    "from datetime import datetime, date\n",
    "import numpy as np\n",
    "from googlemaps import Client as GoogleMaps\n",
    "import folium\n",
    "from folium import Choropleth, Circle, Marker\n",
    "from folium.plugins import MarkerCluster\n",
    "from geopy.geocoders import Nominatim\n",
    "from sklearn.model_selection import train_test_split, KFold\n",
    "from sklearn.preprocessing import StandardScaler, MinMaxScaler\n",
    "from sklearn.linear_model import LogisticRegression\n",
    "import category_encoders as ce\n",
    "from sklearn.metrics import accuracy_score, confusion_matrix, ConfusionMatrixDisplay, classification_report\n",
    "from imblearn.over_sampling import SMOTE\n",
    "from sklearn.neighbors import KNeighborsClassifier\n",
    "import calendar\n",
    "from sklearn.preprocessing import binarize"
   ]
  },
  {
   "cell_type": "code",
   "execution_count": 1875,
   "id": "9dee2991",
   "metadata": {},
   "outputs": [],
   "source": [
    "#preventing any warning messages from displaying during code execution\n",
    "warnings.filterwarnings('ignore')"
   ]
  },
  {
   "cell_type": "markdown",
   "id": "32ab4812",
   "metadata": {},
   "source": [
    "Next, the datasets are stored in variables in one cell and the next cell then holds the description of the data."
   ]
  },
  {
   "cell_type": "code",
   "execution_count": 1876,
   "id": "4dd32fd9",
   "metadata": {},
   "outputs": [
    {
     "data": {
      "text/html": [
       "<div>\n",
       "<style scoped>\n",
       "    .dataframe tbody tr th:only-of-type {\n",
       "        vertical-align: middle;\n",
       "    }\n",
       "\n",
       "    .dataframe tbody tr th {\n",
       "        vertical-align: top;\n",
       "    }\n",
       "\n",
       "    .dataframe thead th {\n",
       "        text-align: right;\n",
       "    }\n",
       "</style>\n",
       "<table border=\"1\" class=\"dataframe\">\n",
       "  <thead>\n",
       "    <tr style=\"text-align: right;\">\n",
       "      <th></th>\n",
       "      <th>customerid</th>\n",
       "      <th>birthdate</th>\n",
       "      <th>bank_account_type</th>\n",
       "      <th>longitude_gps</th>\n",
       "      <th>latitude_gps</th>\n",
       "      <th>bank_name_clients</th>\n",
       "      <th>bank_branch_clients</th>\n",
       "      <th>employment_status_clients</th>\n",
       "      <th>level_of_education_clients</th>\n",
       "    </tr>\n",
       "  </thead>\n",
       "  <tbody>\n",
       "    <tr>\n",
       "      <th>0</th>\n",
       "      <td>8a858e135cb22031015cbafc76964ebd</td>\n",
       "      <td>1973-10-10 00:00:00.000000</td>\n",
       "      <td>Savings</td>\n",
       "      <td>3.319219</td>\n",
       "      <td>6.528604</td>\n",
       "      <td>GT Bank</td>\n",
       "      <td>NaN</td>\n",
       "      <td>NaN</td>\n",
       "      <td>NaN</td>\n",
       "    </tr>\n",
       "    <tr>\n",
       "      <th>1</th>\n",
       "      <td>8a858e275c7ea5ec015c82482d7c3996</td>\n",
       "      <td>1986-01-21 00:00:00.000000</td>\n",
       "      <td>Savings</td>\n",
       "      <td>3.325598</td>\n",
       "      <td>7.119403</td>\n",
       "      <td>Sterling Bank</td>\n",
       "      <td>NaN</td>\n",
       "      <td>Permanent</td>\n",
       "      <td>NaN</td>\n",
       "    </tr>\n",
       "    <tr>\n",
       "      <th>2</th>\n",
       "      <td>8a858e5b5bd99460015bdc95cd485634</td>\n",
       "      <td>1987-04-01 00:00:00.000000</td>\n",
       "      <td>Savings</td>\n",
       "      <td>5.746100</td>\n",
       "      <td>5.563174</td>\n",
       "      <td>Fidelity Bank</td>\n",
       "      <td>NaN</td>\n",
       "      <td>NaN</td>\n",
       "      <td>NaN</td>\n",
       "    </tr>\n",
       "    <tr>\n",
       "      <th>3</th>\n",
       "      <td>8a858efd5ca70688015cabd1f1e94b55</td>\n",
       "      <td>1991-07-19 00:00:00.000000</td>\n",
       "      <td>Savings</td>\n",
       "      <td>3.362850</td>\n",
       "      <td>6.642485</td>\n",
       "      <td>GT Bank</td>\n",
       "      <td>NaN</td>\n",
       "      <td>Permanent</td>\n",
       "      <td>NaN</td>\n",
       "    </tr>\n",
       "    <tr>\n",
       "      <th>4</th>\n",
       "      <td>8a858e785acd3412015acd48f4920d04</td>\n",
       "      <td>1982-11-22 00:00:00.000000</td>\n",
       "      <td>Savings</td>\n",
       "      <td>8.455332</td>\n",
       "      <td>11.971410</td>\n",
       "      <td>GT Bank</td>\n",
       "      <td>NaN</td>\n",
       "      <td>Permanent</td>\n",
       "      <td>NaN</td>\n",
       "    </tr>\n",
       "  </tbody>\n",
       "</table>\n",
       "</div>"
      ],
      "text/plain": [
       "                         customerid                   birthdate  \\\n",
       "0  8a858e135cb22031015cbafc76964ebd  1973-10-10 00:00:00.000000   \n",
       "1  8a858e275c7ea5ec015c82482d7c3996  1986-01-21 00:00:00.000000   \n",
       "2  8a858e5b5bd99460015bdc95cd485634  1987-04-01 00:00:00.000000   \n",
       "3  8a858efd5ca70688015cabd1f1e94b55  1991-07-19 00:00:00.000000   \n",
       "4  8a858e785acd3412015acd48f4920d04  1982-11-22 00:00:00.000000   \n",
       "\n",
       "  bank_account_type  longitude_gps  latitude_gps bank_name_clients  \\\n",
       "0           Savings       3.319219      6.528604           GT Bank   \n",
       "1           Savings       3.325598      7.119403     Sterling Bank   \n",
       "2           Savings       5.746100      5.563174     Fidelity Bank   \n",
       "3           Savings       3.362850      6.642485           GT Bank   \n",
       "4           Savings       8.455332     11.971410           GT Bank   \n",
       "\n",
       "  bank_branch_clients employment_status_clients level_of_education_clients  \n",
       "0                 NaN                       NaN                        NaN  \n",
       "1                 NaN                 Permanent                        NaN  \n",
       "2                 NaN                       NaN                        NaN  \n",
       "3                 NaN                 Permanent                        NaN  \n",
       "4                 NaN                 Permanent                        NaN  "
      ]
     },
     "execution_count": 1876,
     "metadata": {},
     "output_type": "execute_result"
    }
   ],
   "source": [
    "#loading traindemographics.csv into a variable called demographic\n",
    "demographic = pd.read_csv('traindemographics.csv')\n",
    "demographic.head()"
   ]
  },
  {
   "cell_type": "markdown",
   "id": "feda9f32",
   "metadata": {},
   "source": [
    "Description of demographic data:\n",
    "- customerid (Primary key used to merge to other data)\n",
    "- birthdate (date of birth of the customer)\n",
    "- bank_account_type (type of primary bank account)\n",
    "- longitude_gps\n",
    "- latitude_gps\n",
    "- bank_name_clients (name of the bank)\n",
    "- bank_branch_clients (location of the branch - not compulsory - so missing in a lot of the cases)\n",
    "- employment_status_clients (type of employment that customer has)\n",
    "- level_of_education_clients (highest level of education)\n"
   ]
  },
  {
   "cell_type": "code",
   "execution_count": 1877,
   "id": "1834b2a6",
   "metadata": {},
   "outputs": [
    {
     "data": {
      "text/html": [
       "<div>\n",
       "<style scoped>\n",
       "    .dataframe tbody tr th:only-of-type {\n",
       "        vertical-align: middle;\n",
       "    }\n",
       "\n",
       "    .dataframe tbody tr th {\n",
       "        vertical-align: top;\n",
       "    }\n",
       "\n",
       "    .dataframe thead th {\n",
       "        text-align: right;\n",
       "    }\n",
       "</style>\n",
       "<table border=\"1\" class=\"dataframe\">\n",
       "  <thead>\n",
       "    <tr style=\"text-align: right;\">\n",
       "      <th></th>\n",
       "      <th>customerid</th>\n",
       "      <th>systemloanid</th>\n",
       "      <th>loannumber</th>\n",
       "      <th>approveddate</th>\n",
       "      <th>creationdate</th>\n",
       "      <th>loanamount</th>\n",
       "      <th>totaldue</th>\n",
       "      <th>termdays</th>\n",
       "      <th>referredby</th>\n",
       "      <th>good_bad_flag</th>\n",
       "    </tr>\n",
       "  </thead>\n",
       "  <tbody>\n",
       "    <tr>\n",
       "      <th>0</th>\n",
       "      <td>8a2a81a74ce8c05d014cfb32a0da1049</td>\n",
       "      <td>301994762</td>\n",
       "      <td>12</td>\n",
       "      <td>2017-07-25 08:22:56.000000</td>\n",
       "      <td>2017-07-25 07:22:47.000000</td>\n",
       "      <td>30000.0</td>\n",
       "      <td>34500.0</td>\n",
       "      <td>30</td>\n",
       "      <td>NaN</td>\n",
       "      <td>Good</td>\n",
       "    </tr>\n",
       "    <tr>\n",
       "      <th>1</th>\n",
       "      <td>8a85886e54beabf90154c0a29ae757c0</td>\n",
       "      <td>301965204</td>\n",
       "      <td>2</td>\n",
       "      <td>2017-07-05 17:04:41.000000</td>\n",
       "      <td>2017-07-05 16:04:18.000000</td>\n",
       "      <td>15000.0</td>\n",
       "      <td>17250.0</td>\n",
       "      <td>30</td>\n",
       "      <td>NaN</td>\n",
       "      <td>Good</td>\n",
       "    </tr>\n",
       "    <tr>\n",
       "      <th>2</th>\n",
       "      <td>8a8588f35438fe12015444567666018e</td>\n",
       "      <td>301966580</td>\n",
       "      <td>7</td>\n",
       "      <td>2017-07-06 14:52:57.000000</td>\n",
       "      <td>2017-07-06 13:52:51.000000</td>\n",
       "      <td>20000.0</td>\n",
       "      <td>22250.0</td>\n",
       "      <td>15</td>\n",
       "      <td>NaN</td>\n",
       "      <td>Good</td>\n",
       "    </tr>\n",
       "    <tr>\n",
       "      <th>3</th>\n",
       "      <td>8a85890754145ace015429211b513e16</td>\n",
       "      <td>301999343</td>\n",
       "      <td>3</td>\n",
       "      <td>2017-07-27 19:00:41.000000</td>\n",
       "      <td>2017-07-27 18:00:35.000000</td>\n",
       "      <td>10000.0</td>\n",
       "      <td>11500.0</td>\n",
       "      <td>15</td>\n",
       "      <td>NaN</td>\n",
       "      <td>Good</td>\n",
       "    </tr>\n",
       "    <tr>\n",
       "      <th>4</th>\n",
       "      <td>8a858970548359cc0154883481981866</td>\n",
       "      <td>301962360</td>\n",
       "      <td>9</td>\n",
       "      <td>2017-07-03 23:42:45.000000</td>\n",
       "      <td>2017-07-03 22:42:39.000000</td>\n",
       "      <td>40000.0</td>\n",
       "      <td>44000.0</td>\n",
       "      <td>30</td>\n",
       "      <td>NaN</td>\n",
       "      <td>Good</td>\n",
       "    </tr>\n",
       "  </tbody>\n",
       "</table>\n",
       "</div>"
      ],
      "text/plain": [
       "                         customerid  systemloanid  loannumber  \\\n",
       "0  8a2a81a74ce8c05d014cfb32a0da1049     301994762          12   \n",
       "1  8a85886e54beabf90154c0a29ae757c0     301965204           2   \n",
       "2  8a8588f35438fe12015444567666018e     301966580           7   \n",
       "3  8a85890754145ace015429211b513e16     301999343           3   \n",
       "4  8a858970548359cc0154883481981866     301962360           9   \n",
       "\n",
       "                 approveddate                creationdate  loanamount  \\\n",
       "0  2017-07-25 08:22:56.000000  2017-07-25 07:22:47.000000     30000.0   \n",
       "1  2017-07-05 17:04:41.000000  2017-07-05 16:04:18.000000     15000.0   \n",
       "2  2017-07-06 14:52:57.000000  2017-07-06 13:52:51.000000     20000.0   \n",
       "3  2017-07-27 19:00:41.000000  2017-07-27 18:00:35.000000     10000.0   \n",
       "4  2017-07-03 23:42:45.000000  2017-07-03 22:42:39.000000     40000.0   \n",
       "\n",
       "   totaldue  termdays referredby good_bad_flag  \n",
       "0   34500.0        30        NaN          Good  \n",
       "1   17250.0        30        NaN          Good  \n",
       "2   22250.0        15        NaN          Good  \n",
       "3   11500.0        15        NaN          Good  \n",
       "4   44000.0        30        NaN          Good  "
      ]
     },
     "execution_count": 1877,
     "metadata": {},
     "output_type": "execute_result"
    }
   ],
   "source": [
    "#loading trainperf.csv into a variable called performance\n",
    "performance = pd.read_csv('trainperf.csv')\n",
    "performance.head()"
   ]
  },
  {
   "cell_type": "markdown",
   "id": "a31d8809",
   "metadata": {},
   "source": [
    "Performance data (trainperf.csv) : This is the repeat loan that the customer has taken for which we need to predict the performance of. Basically, we need to predict whether this loan would default given all previous loans and demographics of a customer.\n",
    "Description of data:\n",
    "- customerid (Primary key used to merge to other data)\n",
    "- systemloanid (The id associated with the particular loan. The same customerId can have multiple systemloanid’s for each loan he/she has taken out)\n",
    "- loannumber (The number of the loan that you have to predict)\n",
    "- approveddate (Date that loan was approved)\n",
    "- creationdate (Date that loan application was created)\n",
    "- loanamount (Loan value taken)\n",
    "- totaldue (Total repayment required to settle the loan - this is the capital loan value disbursed +interest and fees)\n",
    "- termdays (Term of loan)\n",
    "- referredby (customerId of the customer that referred this person - is missing, then not referred)\n",
    "- good_bad_flag (good = settled loan on time; bad = did not settled loan on time) - this is the target variable that we need to predict"
   ]
  },
  {
   "cell_type": "code",
   "execution_count": 1878,
   "id": "a3c84035",
   "metadata": {},
   "outputs": [
    {
     "data": {
      "text/html": [
       "<div>\n",
       "<style scoped>\n",
       "    .dataframe tbody tr th:only-of-type {\n",
       "        vertical-align: middle;\n",
       "    }\n",
       "\n",
       "    .dataframe tbody tr th {\n",
       "        vertical-align: top;\n",
       "    }\n",
       "\n",
       "    .dataframe thead th {\n",
       "        text-align: right;\n",
       "    }\n",
       "</style>\n",
       "<table border=\"1\" class=\"dataframe\">\n",
       "  <thead>\n",
       "    <tr style=\"text-align: right;\">\n",
       "      <th></th>\n",
       "      <th>customerid</th>\n",
       "      <th>systemloanid</th>\n",
       "      <th>loannumber</th>\n",
       "      <th>approveddate</th>\n",
       "      <th>creationdate</th>\n",
       "      <th>loanamount</th>\n",
       "      <th>totaldue</th>\n",
       "      <th>termdays</th>\n",
       "      <th>closeddate</th>\n",
       "      <th>referredby</th>\n",
       "      <th>firstduedate</th>\n",
       "      <th>firstrepaiddate</th>\n",
       "    </tr>\n",
       "  </thead>\n",
       "  <tbody>\n",
       "    <tr>\n",
       "      <th>0</th>\n",
       "      <td>8a2a81a74ce8c05d014cfb32a0da1049</td>\n",
       "      <td>301682320</td>\n",
       "      <td>2</td>\n",
       "      <td>2016-08-15 18:22:40.000000</td>\n",
       "      <td>2016-08-15 17:22:32.000000</td>\n",
       "      <td>10000.0</td>\n",
       "      <td>13000.0</td>\n",
       "      <td>30</td>\n",
       "      <td>2016-09-01 16:06:48.000000</td>\n",
       "      <td>NaN</td>\n",
       "      <td>2016-09-14 00:00:00.000000</td>\n",
       "      <td>2016-09-01 15:51:43.000000</td>\n",
       "    </tr>\n",
       "    <tr>\n",
       "      <th>1</th>\n",
       "      <td>8a2a81a74ce8c05d014cfb32a0da1049</td>\n",
       "      <td>301883808</td>\n",
       "      <td>9</td>\n",
       "      <td>2017-04-28 18:39:07.000000</td>\n",
       "      <td>2017-04-28 17:38:53.000000</td>\n",
       "      <td>10000.0</td>\n",
       "      <td>13000.0</td>\n",
       "      <td>30</td>\n",
       "      <td>2017-05-28 14:44:49.000000</td>\n",
       "      <td>NaN</td>\n",
       "      <td>2017-05-30 00:00:00.000000</td>\n",
       "      <td>2017-05-26 00:00:00.000000</td>\n",
       "    </tr>\n",
       "    <tr>\n",
       "      <th>2</th>\n",
       "      <td>8a2a81a74ce8c05d014cfb32a0da1049</td>\n",
       "      <td>301831714</td>\n",
       "      <td>8</td>\n",
       "      <td>2017-03-05 10:56:25.000000</td>\n",
       "      <td>2017-03-05 09:56:19.000000</td>\n",
       "      <td>20000.0</td>\n",
       "      <td>23800.0</td>\n",
       "      <td>30</td>\n",
       "      <td>2017-04-26 22:18:56.000000</td>\n",
       "      <td>NaN</td>\n",
       "      <td>2017-04-04 00:00:00.000000</td>\n",
       "      <td>2017-04-26 22:03:47.000000</td>\n",
       "    </tr>\n",
       "    <tr>\n",
       "      <th>3</th>\n",
       "      <td>8a8588f35438fe12015444567666018e</td>\n",
       "      <td>301861541</td>\n",
       "      <td>5</td>\n",
       "      <td>2017-04-09 18:25:55.000000</td>\n",
       "      <td>2017-04-09 17:25:42.000000</td>\n",
       "      <td>10000.0</td>\n",
       "      <td>11500.0</td>\n",
       "      <td>15</td>\n",
       "      <td>2017-04-24 01:35:52.000000</td>\n",
       "      <td>NaN</td>\n",
       "      <td>2017-04-24 00:00:00.000000</td>\n",
       "      <td>2017-04-24 00:48:43.000000</td>\n",
       "    </tr>\n",
       "    <tr>\n",
       "      <th>4</th>\n",
       "      <td>8a85890754145ace015429211b513e16</td>\n",
       "      <td>301941754</td>\n",
       "      <td>2</td>\n",
       "      <td>2017-06-17 09:29:57.000000</td>\n",
       "      <td>2017-06-17 08:29:50.000000</td>\n",
       "      <td>10000.0</td>\n",
       "      <td>11500.0</td>\n",
       "      <td>15</td>\n",
       "      <td>2017-07-14 21:18:43.000000</td>\n",
       "      <td>NaN</td>\n",
       "      <td>2017-07-03 00:00:00.000000</td>\n",
       "      <td>2017-07-14 21:08:35.000000</td>\n",
       "    </tr>\n",
       "  </tbody>\n",
       "</table>\n",
       "</div>"
      ],
      "text/plain": [
       "                         customerid  systemloanid  loannumber  \\\n",
       "0  8a2a81a74ce8c05d014cfb32a0da1049     301682320           2   \n",
       "1  8a2a81a74ce8c05d014cfb32a0da1049     301883808           9   \n",
       "2  8a2a81a74ce8c05d014cfb32a0da1049     301831714           8   \n",
       "3  8a8588f35438fe12015444567666018e     301861541           5   \n",
       "4  8a85890754145ace015429211b513e16     301941754           2   \n",
       "\n",
       "                 approveddate                creationdate  loanamount  \\\n",
       "0  2016-08-15 18:22:40.000000  2016-08-15 17:22:32.000000     10000.0   \n",
       "1  2017-04-28 18:39:07.000000  2017-04-28 17:38:53.000000     10000.0   \n",
       "2  2017-03-05 10:56:25.000000  2017-03-05 09:56:19.000000     20000.0   \n",
       "3  2017-04-09 18:25:55.000000  2017-04-09 17:25:42.000000     10000.0   \n",
       "4  2017-06-17 09:29:57.000000  2017-06-17 08:29:50.000000     10000.0   \n",
       "\n",
       "   totaldue  termdays                  closeddate referredby  \\\n",
       "0   13000.0        30  2016-09-01 16:06:48.000000        NaN   \n",
       "1   13000.0        30  2017-05-28 14:44:49.000000        NaN   \n",
       "2   23800.0        30  2017-04-26 22:18:56.000000        NaN   \n",
       "3   11500.0        15  2017-04-24 01:35:52.000000        NaN   \n",
       "4   11500.0        15  2017-07-14 21:18:43.000000        NaN   \n",
       "\n",
       "                 firstduedate             firstrepaiddate  \n",
       "0  2016-09-14 00:00:00.000000  2016-09-01 15:51:43.000000  \n",
       "1  2017-05-30 00:00:00.000000  2017-05-26 00:00:00.000000  \n",
       "2  2017-04-04 00:00:00.000000  2017-04-26 22:03:47.000000  \n",
       "3  2017-04-24 00:00:00.000000  2017-04-24 00:48:43.000000  \n",
       "4  2017-07-03 00:00:00.000000  2017-07-14 21:08:35.000000  "
      ]
     },
     "execution_count": 1878,
     "metadata": {},
     "output_type": "execute_result"
    }
   ],
   "source": [
    "#loading trainprevloans.csv into a variable called demographic\n",
    "previous = pd.read_csv('trainprevloans.csv')\n",
    "previous.head()"
   ]
  },
  {
   "cell_type": "markdown",
   "id": "c0d94e86",
   "metadata": {},
   "source": [
    "Previous loans data (trainprevloans.csv) : This dataset contains all previous loans that the customer had prior to the loan above that we want to predict the performance of. Each loan will have a different systemloanid, but the same customerid for each customer.\n",
    "Description of data:\n",
    "- customerid (Primary key used to merge to other data)\n",
    "- systemloanid (The id associated with the particular loan. The same customerId can have multiple systemloanid’s for each loan he/she has taken out)\n",
    "- loannumber (The number of the loan that you have to predict)\n",
    "- approveddate (Date that loan was approved)\n",
    "- creationdate (Date that loan application was created)\n",
    "- loanamount (Date that loan application was created)\n",
    "- totaldue (Total repayment required to settle the loan - this is the capital loan value disbursed +interest and fees) termdays (Term of loan)\n",
    "- closeddate (Date that the loan was settled)\n",
    "- referredby (customerId of the customer that referred this person - is missing, then not refrerred)\n",
    "- firstduedate (Date of first payment due in cases where the term is longer than 30 days. So in the case where the term is 60+ days - then there are multiple monthly payments due - and this dates reflects the date of the first payment)\n",
    "- firstrepaiddate (Actual date that he/she paid the first payment as defined above)"
   ]
  },
  {
   "cell_type": "markdown",
   "id": "d5cacda4",
   "metadata": {},
   "source": [
    "We have 3 separate datasets and the way forward would be to join the three. But we need to know if it can be a straightforward action.\n",
    "\n",
    "In the next cell, we check to see if all customers recorded in the demographic dataset exist in the other two datasets. \n",
    "\n",
    "The result of the check is stored in 'customerCheck' variable."
   ]
  },
  {
   "cell_type": "code",
   "execution_count": 1879,
   "id": "fc0fa3f1",
   "metadata": {},
   "outputs": [],
   "source": [
    "customerCheck = demographic.assign(InPerformance=demographic.customerid.isin(performance.customerid), InPrevious=demographic.customerid.isin(previous.customerid))\n",
    "customerCheck = customerCheck[['customerid','InPerformance','InPrevious']]"
   ]
  },
  {
   "cell_type": "code",
   "execution_count": 1880,
   "id": "e2ab41ba",
   "metadata": {},
   "outputs": [
    {
     "data": {
      "text/html": [
       "<div>\n",
       "<style scoped>\n",
       "    .dataframe tbody tr th:only-of-type {\n",
       "        vertical-align: middle;\n",
       "    }\n",
       "\n",
       "    .dataframe tbody tr th {\n",
       "        vertical-align: top;\n",
       "    }\n",
       "\n",
       "    .dataframe thead th {\n",
       "        text-align: right;\n",
       "    }\n",
       "</style>\n",
       "<table border=\"1\" class=\"dataframe\">\n",
       "  <thead>\n",
       "    <tr style=\"text-align: right;\">\n",
       "      <th></th>\n",
       "      <th>customerid</th>\n",
       "      <th>birthdate</th>\n",
       "      <th>bank_account_type</th>\n",
       "      <th>longitude_gps</th>\n",
       "      <th>latitude_gps</th>\n",
       "      <th>bank_name_clients</th>\n",
       "      <th>bank_branch_clients</th>\n",
       "      <th>employment_status_clients</th>\n",
       "      <th>level_of_education_clients</th>\n",
       "      <th>InPerformance</th>\n",
       "      <th>InPrevious</th>\n",
       "    </tr>\n",
       "  </thead>\n",
       "  <tbody>\n",
       "    <tr>\n",
       "      <th>0</th>\n",
       "      <td>8a858e135cb22031015cbafc76964ebd</td>\n",
       "      <td>1973-10-10 00:00:00.000000</td>\n",
       "      <td>Savings</td>\n",
       "      <td>3.319219</td>\n",
       "      <td>6.528604</td>\n",
       "      <td>GT Bank</td>\n",
       "      <td>NaN</td>\n",
       "      <td>NaN</td>\n",
       "      <td>NaN</td>\n",
       "      <td>True</td>\n",
       "      <td>True</td>\n",
       "    </tr>\n",
       "    <tr>\n",
       "      <th>1</th>\n",
       "      <td>8a858e275c7ea5ec015c82482d7c3996</td>\n",
       "      <td>1986-01-21 00:00:00.000000</td>\n",
       "      <td>Savings</td>\n",
       "      <td>3.325598</td>\n",
       "      <td>7.119403</td>\n",
       "      <td>Sterling Bank</td>\n",
       "      <td>NaN</td>\n",
       "      <td>Permanent</td>\n",
       "      <td>NaN</td>\n",
       "      <td>True</td>\n",
       "      <td>True</td>\n",
       "    </tr>\n",
       "    <tr>\n",
       "      <th>2</th>\n",
       "      <td>8a858e5b5bd99460015bdc95cd485634</td>\n",
       "      <td>1987-04-01 00:00:00.000000</td>\n",
       "      <td>Savings</td>\n",
       "      <td>5.746100</td>\n",
       "      <td>5.563174</td>\n",
       "      <td>Fidelity Bank</td>\n",
       "      <td>NaN</td>\n",
       "      <td>NaN</td>\n",
       "      <td>NaN</td>\n",
       "      <td>True</td>\n",
       "      <td>True</td>\n",
       "    </tr>\n",
       "    <tr>\n",
       "      <th>3</th>\n",
       "      <td>8a858efd5ca70688015cabd1f1e94b55</td>\n",
       "      <td>1991-07-19 00:00:00.000000</td>\n",
       "      <td>Savings</td>\n",
       "      <td>3.362850</td>\n",
       "      <td>6.642485</td>\n",
       "      <td>GT Bank</td>\n",
       "      <td>NaN</td>\n",
       "      <td>Permanent</td>\n",
       "      <td>NaN</td>\n",
       "      <td>True</td>\n",
       "      <td>True</td>\n",
       "    </tr>\n",
       "    <tr>\n",
       "      <th>4</th>\n",
       "      <td>8a858e785acd3412015acd48f4920d04</td>\n",
       "      <td>1982-11-22 00:00:00.000000</td>\n",
       "      <td>Savings</td>\n",
       "      <td>8.455332</td>\n",
       "      <td>11.971410</td>\n",
       "      <td>GT Bank</td>\n",
       "      <td>NaN</td>\n",
       "      <td>Permanent</td>\n",
       "      <td>NaN</td>\n",
       "      <td>False</td>\n",
       "      <td>False</td>\n",
       "    </tr>\n",
       "    <tr>\n",
       "      <th>...</th>\n",
       "      <td>...</td>\n",
       "      <td>...</td>\n",
       "      <td>...</td>\n",
       "      <td>...</td>\n",
       "      <td>...</td>\n",
       "      <td>...</td>\n",
       "      <td>...</td>\n",
       "      <td>...</td>\n",
       "      <td>...</td>\n",
       "      <td>...</td>\n",
       "      <td>...</td>\n",
       "    </tr>\n",
       "    <tr>\n",
       "      <th>4341</th>\n",
       "      <td>8a858f155554552501555588ca2b3b40</td>\n",
       "      <td>1985-12-13 00:00:00.000000</td>\n",
       "      <td>Other</td>\n",
       "      <td>3.236753</td>\n",
       "      <td>7.030168</td>\n",
       "      <td>Stanbic IBTC</td>\n",
       "      <td>NaN</td>\n",
       "      <td>Permanent</td>\n",
       "      <td>Graduate</td>\n",
       "      <td>True</td>\n",
       "      <td>True</td>\n",
       "    </tr>\n",
       "    <tr>\n",
       "      <th>4342</th>\n",
       "      <td>8a858fc65cf978f4015cf97cee3a02ce</td>\n",
       "      <td>1982-07-01 00:00:00.000000</td>\n",
       "      <td>Savings</td>\n",
       "      <td>7.013750</td>\n",
       "      <td>4.875662</td>\n",
       "      <td>GT Bank</td>\n",
       "      <td>NaN</td>\n",
       "      <td>NaN</td>\n",
       "      <td>NaN</td>\n",
       "      <td>True</td>\n",
       "      <td>True</td>\n",
       "    </tr>\n",
       "    <tr>\n",
       "      <th>4343</th>\n",
       "      <td>8a858f4f5b66de3a015b66fc83c61902</td>\n",
       "      <td>1989-09-26 00:00:00.000000</td>\n",
       "      <td>Savings</td>\n",
       "      <td>6.295530</td>\n",
       "      <td>7.092508</td>\n",
       "      <td>GT Bank</td>\n",
       "      <td>NaN</td>\n",
       "      <td>Permanent</td>\n",
       "      <td>NaN</td>\n",
       "      <td>False</td>\n",
       "      <td>False</td>\n",
       "    </tr>\n",
       "    <tr>\n",
       "      <th>4344</th>\n",
       "      <td>8aaae7a74400b28201441c8b62514150</td>\n",
       "      <td>1985-09-06 00:00:00.000000</td>\n",
       "      <td>Savings</td>\n",
       "      <td>3.354206</td>\n",
       "      <td>6.539070</td>\n",
       "      <td>GT Bank</td>\n",
       "      <td>HEAD OFFICE</td>\n",
       "      <td>Permanent</td>\n",
       "      <td>Primary</td>\n",
       "      <td>False</td>\n",
       "      <td>False</td>\n",
       "    </tr>\n",
       "    <tr>\n",
       "      <th>4345</th>\n",
       "      <td>8a85896653e2e18b0153e69c1b90265c</td>\n",
       "      <td>1975-06-05 00:00:00.000000</td>\n",
       "      <td>Savings</td>\n",
       "      <td>6.661014</td>\n",
       "      <td>7.472700</td>\n",
       "      <td>UBA</td>\n",
       "      <td>NaN</td>\n",
       "      <td>Permanent</td>\n",
       "      <td>NaN</td>\n",
       "      <td>False</td>\n",
       "      <td>False</td>\n",
       "    </tr>\n",
       "  </tbody>\n",
       "</table>\n",
       "<p>4346 rows × 11 columns</p>\n",
       "</div>"
      ],
      "text/plain": [
       "                            customerid                   birthdate  \\\n",
       "0     8a858e135cb22031015cbafc76964ebd  1973-10-10 00:00:00.000000   \n",
       "1     8a858e275c7ea5ec015c82482d7c3996  1986-01-21 00:00:00.000000   \n",
       "2     8a858e5b5bd99460015bdc95cd485634  1987-04-01 00:00:00.000000   \n",
       "3     8a858efd5ca70688015cabd1f1e94b55  1991-07-19 00:00:00.000000   \n",
       "4     8a858e785acd3412015acd48f4920d04  1982-11-22 00:00:00.000000   \n",
       "...                                ...                         ...   \n",
       "4341  8a858f155554552501555588ca2b3b40  1985-12-13 00:00:00.000000   \n",
       "4342  8a858fc65cf978f4015cf97cee3a02ce  1982-07-01 00:00:00.000000   \n",
       "4343  8a858f4f5b66de3a015b66fc83c61902  1989-09-26 00:00:00.000000   \n",
       "4344  8aaae7a74400b28201441c8b62514150  1985-09-06 00:00:00.000000   \n",
       "4345  8a85896653e2e18b0153e69c1b90265c  1975-06-05 00:00:00.000000   \n",
       "\n",
       "     bank_account_type  longitude_gps  latitude_gps bank_name_clients  \\\n",
       "0              Savings       3.319219      6.528604           GT Bank   \n",
       "1              Savings       3.325598      7.119403     Sterling Bank   \n",
       "2              Savings       5.746100      5.563174     Fidelity Bank   \n",
       "3              Savings       3.362850      6.642485           GT Bank   \n",
       "4              Savings       8.455332     11.971410           GT Bank   \n",
       "...                ...            ...           ...               ...   \n",
       "4341             Other       3.236753      7.030168      Stanbic IBTC   \n",
       "4342           Savings       7.013750      4.875662           GT Bank   \n",
       "4343           Savings       6.295530      7.092508           GT Bank   \n",
       "4344           Savings       3.354206      6.539070           GT Bank   \n",
       "4345           Savings       6.661014      7.472700               UBA   \n",
       "\n",
       "     bank_branch_clients employment_status_clients level_of_education_clients  \\\n",
       "0                    NaN                       NaN                        NaN   \n",
       "1                    NaN                 Permanent                        NaN   \n",
       "2                    NaN                       NaN                        NaN   \n",
       "3                    NaN                 Permanent                        NaN   \n",
       "4                    NaN                 Permanent                        NaN   \n",
       "...                  ...                       ...                        ...   \n",
       "4341                 NaN                 Permanent                   Graduate   \n",
       "4342                 NaN                       NaN                        NaN   \n",
       "4343                 NaN                 Permanent                        NaN   \n",
       "4344         HEAD OFFICE                 Permanent                    Primary   \n",
       "4345                 NaN                 Permanent                        NaN   \n",
       "\n",
       "      InPerformance  InPrevious  \n",
       "0              True        True  \n",
       "1              True        True  \n",
       "2              True        True  \n",
       "3              True        True  \n",
       "4             False       False  \n",
       "...             ...         ...  \n",
       "4341           True        True  \n",
       "4342           True        True  \n",
       "4343          False       False  \n",
       "4344          False       False  \n",
       "4345          False       False  \n",
       "\n",
       "[4346 rows x 11 columns]"
      ]
     },
     "execution_count": 1880,
     "metadata": {},
     "output_type": "execute_result"
    }
   ],
   "source": [
    "demographic.assign(InPerformance=demographic.customerid.isin(performance.customerid), InPrevious=demographic.customerid.isin(previous.customerid))\n"
   ]
  },
  {
   "cell_type": "code",
   "execution_count": 1881,
   "id": "512210e8",
   "metadata": {},
   "outputs": [
    {
     "data": {
      "text/html": [
       "<div>\n",
       "<style scoped>\n",
       "    .dataframe tbody tr th:only-of-type {\n",
       "        vertical-align: middle;\n",
       "    }\n",
       "\n",
       "    .dataframe tbody tr th {\n",
       "        vertical-align: top;\n",
       "    }\n",
       "\n",
       "    .dataframe thead th {\n",
       "        text-align: right;\n",
       "    }\n",
       "</style>\n",
       "<table border=\"1\" class=\"dataframe\">\n",
       "  <thead>\n",
       "    <tr style=\"text-align: right;\">\n",
       "      <th></th>\n",
       "      <th>customerid</th>\n",
       "      <th>InPerformance</th>\n",
       "      <th>InPrevious</th>\n",
       "    </tr>\n",
       "  </thead>\n",
       "  <tbody>\n",
       "    <tr>\n",
       "      <th>0</th>\n",
       "      <td>8a858e135cb22031015cbafc76964ebd</td>\n",
       "      <td>True</td>\n",
       "      <td>True</td>\n",
       "    </tr>\n",
       "    <tr>\n",
       "      <th>1</th>\n",
       "      <td>8a858e275c7ea5ec015c82482d7c3996</td>\n",
       "      <td>True</td>\n",
       "      <td>True</td>\n",
       "    </tr>\n",
       "    <tr>\n",
       "      <th>2</th>\n",
       "      <td>8a858e5b5bd99460015bdc95cd485634</td>\n",
       "      <td>True</td>\n",
       "      <td>True</td>\n",
       "    </tr>\n",
       "    <tr>\n",
       "      <th>3</th>\n",
       "      <td>8a858efd5ca70688015cabd1f1e94b55</td>\n",
       "      <td>True</td>\n",
       "      <td>True</td>\n",
       "    </tr>\n",
       "    <tr>\n",
       "      <th>4</th>\n",
       "      <td>8a858e785acd3412015acd48f4920d04</td>\n",
       "      <td>False</td>\n",
       "      <td>False</td>\n",
       "    </tr>\n",
       "    <tr>\n",
       "      <th>...</th>\n",
       "      <td>...</td>\n",
       "      <td>...</td>\n",
       "      <td>...</td>\n",
       "    </tr>\n",
       "    <tr>\n",
       "      <th>4341</th>\n",
       "      <td>8a858f155554552501555588ca2b3b40</td>\n",
       "      <td>True</td>\n",
       "      <td>True</td>\n",
       "    </tr>\n",
       "    <tr>\n",
       "      <th>4342</th>\n",
       "      <td>8a858fc65cf978f4015cf97cee3a02ce</td>\n",
       "      <td>True</td>\n",
       "      <td>True</td>\n",
       "    </tr>\n",
       "    <tr>\n",
       "      <th>4343</th>\n",
       "      <td>8a858f4f5b66de3a015b66fc83c61902</td>\n",
       "      <td>False</td>\n",
       "      <td>False</td>\n",
       "    </tr>\n",
       "    <tr>\n",
       "      <th>4344</th>\n",
       "      <td>8aaae7a74400b28201441c8b62514150</td>\n",
       "      <td>False</td>\n",
       "      <td>False</td>\n",
       "    </tr>\n",
       "    <tr>\n",
       "      <th>4345</th>\n",
       "      <td>8a85896653e2e18b0153e69c1b90265c</td>\n",
       "      <td>False</td>\n",
       "      <td>False</td>\n",
       "    </tr>\n",
       "  </tbody>\n",
       "</table>\n",
       "<p>4346 rows × 3 columns</p>\n",
       "</div>"
      ],
      "text/plain": [
       "                            customerid  InPerformance  InPrevious\n",
       "0     8a858e135cb22031015cbafc76964ebd           True        True\n",
       "1     8a858e275c7ea5ec015c82482d7c3996           True        True\n",
       "2     8a858e5b5bd99460015bdc95cd485634           True        True\n",
       "3     8a858efd5ca70688015cabd1f1e94b55           True        True\n",
       "4     8a858e785acd3412015acd48f4920d04          False       False\n",
       "...                                ...            ...         ...\n",
       "4341  8a858f155554552501555588ca2b3b40           True        True\n",
       "4342  8a858fc65cf978f4015cf97cee3a02ce           True        True\n",
       "4343  8a858f4f5b66de3a015b66fc83c61902          False       False\n",
       "4344  8aaae7a74400b28201441c8b62514150          False       False\n",
       "4345  8a85896653e2e18b0153e69c1b90265c          False       False\n",
       "\n",
       "[4346 rows x 3 columns]"
      ]
     },
     "execution_count": 1881,
     "metadata": {},
     "output_type": "execute_result"
    }
   ],
   "source": [
    "customerCheck"
   ]
  },
  {
   "cell_type": "markdown",
   "id": "1f3988db",
   "metadata": {},
   "source": [
    "From the display above of the contents of the 'customercheck' variable, we can see for each customer in the 'demographic' dataset, there are two boolean values associated with it.\n",
    "\n",
    "The 'Inperformance' column is for the dataset performance and the 'InPrevious' column is for the dataset previous. \n",
    "'True' implies that record is in a dataset corresponding to that column and 'False' implies that is not.\n",
    "For the records shown, so far we only see 'True,True' and 'False,False' pairs.\n",
    "Let us confirm that with a groupby applied to the 'customercheck' dataframe."
   ]
  },
  {
   "cell_type": "code",
   "execution_count": 1882,
   "id": "db6d0a1d",
   "metadata": {
    "scrolled": true
   },
   "outputs": [
    {
     "data": {
      "text/plain": [
       "InPerformance  InPrevious  customerid                      \n",
       "False          False       8a858edd57f790040157ffe9b6ed3fbb    2\n",
       "                           8a858f965bb63a25015bbf63fd062e2e    2\n",
       "                           8a858fca5c35df2c015c39ad8695343e    2\n",
       "                           8a858e625c8d993a015c938f829f77ee    2\n",
       "                           8a28afc7474813a40147639ec637156b    1\n",
       "                                                              ..\n",
       "True           True        8a858e105bd92644015bd9db3a0f3be2    1\n",
       "                           8a858e105bd92644015bdca43c877d2c    1\n",
       "                           8a858e105bd92644015bdd2f7a981936    1\n",
       "                           8a858e105bd92644015bdd374f0d1a3a    1\n",
       "                           8a858fff5c79144c015c7bdbfc086ce1    1\n",
       "Length: 4334, dtype: int64"
      ]
     },
     "execution_count": 1882,
     "metadata": {},
     "output_type": "execute_result"
    }
   ],
   "source": [
    "customerCheck.groupby(['InPerformance','InPrevious']).value_counts()"
   ]
  },
  {
   "cell_type": "markdown",
   "id": "77d792cf",
   "metadata": {},
   "source": [
    "From the groupby results above, we can see that in the 'customercheck' dataframe, there are only two existing pairs, 'True,True' and 'False,False'. This means there are only two possible scenarios for a customer:\n",
    "\n",
    "1) A customer that has previously made loans(True,True)\n",
    "2) A customer that has not taken out a loan before (False, False)\n",
    "\n",
    "The records which have counts of 2 are most likely duplicates."
   ]
  },
  {
   "cell_type": "markdown",
   "id": "d5684df7",
   "metadata": {},
   "source": [
    "Next, we look at the more information about the dataframes and the data it contains"
   ]
  },
  {
   "cell_type": "code",
   "execution_count": 1883,
   "id": "7bba7267",
   "metadata": {},
   "outputs": [
    {
     "name": "stdout",
     "output_type": "stream",
     "text": [
      "<class 'pandas.core.frame.DataFrame'>\n",
      "RangeIndex: 4346 entries, 0 to 4345\n",
      "Data columns (total 9 columns):\n",
      " #   Column                      Non-Null Count  Dtype  \n",
      "---  ------                      --------------  -----  \n",
      " 0   customerid                  4346 non-null   object \n",
      " 1   birthdate                   4346 non-null   object \n",
      " 2   bank_account_type           4346 non-null   object \n",
      " 3   longitude_gps               4346 non-null   float64\n",
      " 4   latitude_gps                4346 non-null   float64\n",
      " 5   bank_name_clients           4346 non-null   object \n",
      " 6   bank_branch_clients         51 non-null     object \n",
      " 7   employment_status_clients   3698 non-null   object \n",
      " 8   level_of_education_clients  587 non-null    object \n",
      "dtypes: float64(2), object(7)\n",
      "memory usage: 305.7+ KB\n"
     ]
    }
   ],
   "source": [
    "demographic.info()"
   ]
  },
  {
   "cell_type": "markdown",
   "id": "59f572bf",
   "metadata": {},
   "source": [
    "From the summary above of the 'demographic' dataframe, we can see that there are 4346 entries and with missing values in two of the columns:employment_status_clients and bank_branch_clients. There are only 2 numerical columns out of the 9 columns."
   ]
  },
  {
   "cell_type": "code",
   "execution_count": 1884,
   "id": "1d44b3aa",
   "metadata": {},
   "outputs": [
    {
     "name": "stdout",
     "output_type": "stream",
     "text": [
      "<class 'pandas.core.frame.DataFrame'>\n",
      "RangeIndex: 4368 entries, 0 to 4367\n",
      "Data columns (total 10 columns):\n",
      " #   Column         Non-Null Count  Dtype  \n",
      "---  ------         --------------  -----  \n",
      " 0   customerid     4368 non-null   object \n",
      " 1   systemloanid   4368 non-null   int64  \n",
      " 2   loannumber     4368 non-null   int64  \n",
      " 3   approveddate   4368 non-null   object \n",
      " 4   creationdate   4368 non-null   object \n",
      " 5   loanamount     4368 non-null   float64\n",
      " 6   totaldue       4368 non-null   float64\n",
      " 7   termdays       4368 non-null   int64  \n",
      " 8   referredby     587 non-null    object \n",
      " 9   good_bad_flag  4368 non-null   object \n",
      "dtypes: float64(2), int64(3), object(5)\n",
      "memory usage: 341.4+ KB\n"
     ]
    }
   ],
   "source": [
    "performance.info()"
   ]
  },
  {
   "cell_type": "markdown",
   "id": "0075dd83",
   "metadata": {},
   "source": [
    "From the summary above for the 'performance' dataframe, we can see that there are 4368 entries and only one column has missing values:referredby. There are 5 numerical columns and 5 categorical columns."
   ]
  },
  {
   "cell_type": "code",
   "execution_count": 1885,
   "id": "1ee74436",
   "metadata": {},
   "outputs": [
    {
     "name": "stdout",
     "output_type": "stream",
     "text": [
      "<class 'pandas.core.frame.DataFrame'>\n",
      "RangeIndex: 18183 entries, 0 to 18182\n",
      "Data columns (total 12 columns):\n",
      " #   Column           Non-Null Count  Dtype  \n",
      "---  ------           --------------  -----  \n",
      " 0   customerid       18183 non-null  object \n",
      " 1   systemloanid     18183 non-null  int64  \n",
      " 2   loannumber       18183 non-null  int64  \n",
      " 3   approveddate     18183 non-null  object \n",
      " 4   creationdate     18183 non-null  object \n",
      " 5   loanamount       18183 non-null  float64\n",
      " 6   totaldue         18183 non-null  float64\n",
      " 7   termdays         18183 non-null  int64  \n",
      " 8   closeddate       18183 non-null  object \n",
      " 9   referredby       1026 non-null   object \n",
      " 10  firstduedate     18183 non-null  object \n",
      " 11  firstrepaiddate  18183 non-null  object \n",
      "dtypes: float64(2), int64(3), object(7)\n",
      "memory usage: 1.7+ MB\n"
     ]
    }
   ],
   "source": [
    "previous.info()"
   ]
  },
  {
   "cell_type": "markdown",
   "id": "338a0920",
   "metadata": {},
   "source": [
    "From the summary above for the 'previous' dataframe, we can see this dataframe has the most records: 18183.  Only one column has missing values: referred by.\n",
    "There are five numerical columns out of the twelve columns."
   ]
  },
  {
   "cell_type": "markdown",
   "id": "f5b1ac00",
   "metadata": {},
   "source": [
    "From the summaries above, we saw that the 'previous' dataframe has the most entries out of all the dataframes. \n",
    "From the groupby done earlier on the customer check as well, we could see that if a customer exists in the previous dataframe, then they also exist in the performance dataframe.\n",
    "If there is anything the number of entries is telling us between these two dataframes is that there is one to many relationship between these two dataframes: previous dataframe is on the many side. \n",
    "\n",
    "This can further be seen below when we obtain the records of customer whose id is '8a858e105bd92644015bd9db3a0f3be2' from both dataframes. The customer exists once in performance but twice in previous."
   ]
  },
  {
   "cell_type": "code",
   "execution_count": 1886,
   "id": "0694b11b",
   "metadata": {},
   "outputs": [
    {
     "data": {
      "text/html": [
       "<div>\n",
       "<style scoped>\n",
       "    .dataframe tbody tr th:only-of-type {\n",
       "        vertical-align: middle;\n",
       "    }\n",
       "\n",
       "    .dataframe tbody tr th {\n",
       "        vertical-align: top;\n",
       "    }\n",
       "\n",
       "    .dataframe thead th {\n",
       "        text-align: right;\n",
       "    }\n",
       "</style>\n",
       "<table border=\"1\" class=\"dataframe\">\n",
       "  <thead>\n",
       "    <tr style=\"text-align: right;\">\n",
       "      <th></th>\n",
       "      <th>customerid</th>\n",
       "      <th>systemloanid</th>\n",
       "      <th>loannumber</th>\n",
       "      <th>approveddate</th>\n",
       "      <th>creationdate</th>\n",
       "      <th>loanamount</th>\n",
       "      <th>totaldue</th>\n",
       "      <th>termdays</th>\n",
       "      <th>referredby</th>\n",
       "      <th>good_bad_flag</th>\n",
       "    </tr>\n",
       "  </thead>\n",
       "  <tbody>\n",
       "    <tr>\n",
       "      <th>2899</th>\n",
       "      <td>8a858e105bd92644015bd9db3a0f3be2</td>\n",
       "      <td>301981450</td>\n",
       "      <td>3</td>\n",
       "      <td>2017-07-17 09:50:07.000000</td>\n",
       "      <td>2017-07-17 08:50:00.000000</td>\n",
       "      <td>10000.0</td>\n",
       "      <td>13000.0</td>\n",
       "      <td>30</td>\n",
       "      <td>NaN</td>\n",
       "      <td>Good</td>\n",
       "    </tr>\n",
       "  </tbody>\n",
       "</table>\n",
       "</div>"
      ],
      "text/plain": [
       "                            customerid  systemloanid  loannumber  \\\n",
       "2899  8a858e105bd92644015bd9db3a0f3be2     301981450           3   \n",
       "\n",
       "                    approveddate                creationdate  loanamount  \\\n",
       "2899  2017-07-17 09:50:07.000000  2017-07-17 08:50:00.000000     10000.0   \n",
       "\n",
       "      totaldue  termdays referredby good_bad_flag  \n",
       "2899   13000.0        30        NaN          Good  "
      ]
     },
     "execution_count": 1886,
     "metadata": {},
     "output_type": "execute_result"
    }
   ],
   "source": [
    "#records from performance dataframe of customer whose is '8a858e105bd92644015bd9db3a0f3be2'\n",
    "\n",
    "performance.loc[performance['customerid'] == '8a858e105bd92644015bd9db3a0f3be2']"
   ]
  },
  {
   "cell_type": "code",
   "execution_count": 1887,
   "id": "6e61910a",
   "metadata": {},
   "outputs": [
    {
     "data": {
      "text/html": [
       "<div>\n",
       "<style scoped>\n",
       "    .dataframe tbody tr th:only-of-type {\n",
       "        vertical-align: middle;\n",
       "    }\n",
       "\n",
       "    .dataframe tbody tr th {\n",
       "        vertical-align: top;\n",
       "    }\n",
       "\n",
       "    .dataframe thead th {\n",
       "        text-align: right;\n",
       "    }\n",
       "</style>\n",
       "<table border=\"1\" class=\"dataframe\">\n",
       "  <thead>\n",
       "    <tr style=\"text-align: right;\">\n",
       "      <th></th>\n",
       "      <th>customerid</th>\n",
       "      <th>systemloanid</th>\n",
       "      <th>loannumber</th>\n",
       "      <th>approveddate</th>\n",
       "      <th>creationdate</th>\n",
       "      <th>loanamount</th>\n",
       "      <th>totaldue</th>\n",
       "      <th>termdays</th>\n",
       "      <th>closeddate</th>\n",
       "      <th>referredby</th>\n",
       "      <th>firstduedate</th>\n",
       "      <th>firstrepaiddate</th>\n",
       "    </tr>\n",
       "  </thead>\n",
       "  <tbody>\n",
       "    <tr>\n",
       "      <th>7765</th>\n",
       "      <td>8a858e105bd92644015bd9db3a0f3be2</td>\n",
       "      <td>301940743</td>\n",
       "      <td>2</td>\n",
       "      <td>2017-06-16 10:43:41.000000</td>\n",
       "      <td>2017-06-16 09:43:35.000000</td>\n",
       "      <td>10000.0</td>\n",
       "      <td>13000.0</td>\n",
       "      <td>30</td>\n",
       "      <td>2017-07-15 07:03:02.000000</td>\n",
       "      <td>NaN</td>\n",
       "      <td>2017-07-17 00:00:00.000000</td>\n",
       "      <td>2017-07-15 06:52:53.000000</td>\n",
       "    </tr>\n",
       "    <tr>\n",
       "      <th>12030</th>\n",
       "      <td>8a858e105bd92644015bd9db3a0f3be2</td>\n",
       "      <td>301911310</td>\n",
       "      <td>1</td>\n",
       "      <td>2017-05-17 13:00:00.000000</td>\n",
       "      <td>2017-05-17 11:58:51.000000</td>\n",
       "      <td>10000.0</td>\n",
       "      <td>13000.0</td>\n",
       "      <td>30</td>\n",
       "      <td>2017-06-16 10:36:38.000000</td>\n",
       "      <td>NaN</td>\n",
       "      <td>2017-06-16 00:00:00.000000</td>\n",
       "      <td>2017-06-16 10:26:29.000000</td>\n",
       "    </tr>\n",
       "  </tbody>\n",
       "</table>\n",
       "</div>"
      ],
      "text/plain": [
       "                             customerid  systemloanid  loannumber  \\\n",
       "7765   8a858e105bd92644015bd9db3a0f3be2     301940743           2   \n",
       "12030  8a858e105bd92644015bd9db3a0f3be2     301911310           1   \n",
       "\n",
       "                     approveddate                creationdate  loanamount  \\\n",
       "7765   2017-06-16 10:43:41.000000  2017-06-16 09:43:35.000000     10000.0   \n",
       "12030  2017-05-17 13:00:00.000000  2017-05-17 11:58:51.000000     10000.0   \n",
       "\n",
       "       totaldue  termdays                  closeddate referredby  \\\n",
       "7765    13000.0        30  2017-07-15 07:03:02.000000        NaN   \n",
       "12030   13000.0        30  2017-06-16 10:36:38.000000        NaN   \n",
       "\n",
       "                     firstduedate             firstrepaiddate  \n",
       "7765   2017-07-17 00:00:00.000000  2017-07-15 06:52:53.000000  \n",
       "12030  2017-06-16 00:00:00.000000  2017-06-16 10:26:29.000000  "
      ]
     },
     "execution_count": 1887,
     "metadata": {},
     "output_type": "execute_result"
    }
   ],
   "source": [
    "#records from previous dataframe of customer whose is '8a858e105bd92644015bd9db3a0f3be2'\n",
    "\n",
    "previous.loc[previous['customerid'] == '8a858e105bd92644015bd9db3a0f3be2']"
   ]
  },
  {
   "cell_type": "markdown",
   "id": "cf751f62",
   "metadata": {},
   "source": [
    "#### Checking for duplicates\n",
    "We can check for duplicates in the dataframes"
   ]
  },
  {
   "cell_type": "code",
   "execution_count": 1888,
   "id": "162d2be0",
   "metadata": {},
   "outputs": [
    {
     "name": "stdout",
     "output_type": "stream",
     "text": [
      "Duplicate Rows :\n"
     ]
    },
    {
     "data": {
      "text/html": [
       "<div>\n",
       "<style scoped>\n",
       "    .dataframe tbody tr th:only-of-type {\n",
       "        vertical-align: middle;\n",
       "    }\n",
       "\n",
       "    .dataframe tbody tr th {\n",
       "        vertical-align: top;\n",
       "    }\n",
       "\n",
       "    .dataframe thead th {\n",
       "        text-align: right;\n",
       "    }\n",
       "</style>\n",
       "<table border=\"1\" class=\"dataframe\">\n",
       "  <thead>\n",
       "    <tr style=\"text-align: right;\">\n",
       "      <th></th>\n",
       "      <th>customerid</th>\n",
       "      <th>birthdate</th>\n",
       "      <th>bank_account_type</th>\n",
       "      <th>longitude_gps</th>\n",
       "      <th>latitude_gps</th>\n",
       "      <th>bank_name_clients</th>\n",
       "      <th>bank_branch_clients</th>\n",
       "      <th>employment_status_clients</th>\n",
       "      <th>level_of_education_clients</th>\n",
       "    </tr>\n",
       "  </thead>\n",
       "  <tbody>\n",
       "    <tr>\n",
       "      <th>159</th>\n",
       "      <td>8a858fca5c35df2c015c39ad8695343e</td>\n",
       "      <td>1980-11-26 00:00:00.000000</td>\n",
       "      <td>Savings</td>\n",
       "      <td>3.352588</td>\n",
       "      <td>7.211089</td>\n",
       "      <td>GT Bank</td>\n",
       "      <td>NaN</td>\n",
       "      <td>Permanent</td>\n",
       "      <td>NaN</td>\n",
       "    </tr>\n",
       "    <tr>\n",
       "      <th>517</th>\n",
       "      <td>8a858edd57f790040157ffe9b6ed3fbb</td>\n",
       "      <td>1988-01-18 00:00:00.000000</td>\n",
       "      <td>Other</td>\n",
       "      <td>3.782563</td>\n",
       "      <td>7.171356</td>\n",
       "      <td>First Bank</td>\n",
       "      <td>NaN</td>\n",
       "      <td>Permanent</td>\n",
       "      <td>Secondary</td>\n",
       "    </tr>\n",
       "    <tr>\n",
       "      <th>776</th>\n",
       "      <td>8a858f965bb63a25015bbf63fd062e2e</td>\n",
       "      <td>1974-02-25 00:00:00.000000</td>\n",
       "      <td>Savings</td>\n",
       "      <td>3.936366</td>\n",
       "      <td>6.817958</td>\n",
       "      <td>Stanbic IBTC</td>\n",
       "      <td>NaN</td>\n",
       "      <td>Permanent</td>\n",
       "      <td>NaN</td>\n",
       "    </tr>\n",
       "    <tr>\n",
       "      <th>1015</th>\n",
       "      <td>8a858fe65675195a015679452588279c</td>\n",
       "      <td>1982-08-01 00:00:00.000000</td>\n",
       "      <td>Savings</td>\n",
       "      <td>7.533646</td>\n",
       "      <td>9.046885</td>\n",
       "      <td>UBA</td>\n",
       "      <td>NaN</td>\n",
       "      <td>Permanent</td>\n",
       "      <td>NaN</td>\n",
       "    </tr>\n",
       "    <tr>\n",
       "      <th>1090</th>\n",
       "      <td>8a858e6c5c88d145015c8b9627cd5a48</td>\n",
       "      <td>1979-09-30 00:00:00.000000</td>\n",
       "      <td>Savings</td>\n",
       "      <td>3.367008</td>\n",
       "      <td>6.497313</td>\n",
       "      <td>Sterling Bank</td>\n",
       "      <td>NaN</td>\n",
       "      <td>Permanent</td>\n",
       "      <td>NaN</td>\n",
       "    </tr>\n",
       "    <tr>\n",
       "      <th>1188</th>\n",
       "      <td>8a858fc75cd62882015cdaf2f4311b3f</td>\n",
       "      <td>1975-10-27 00:00:00.000000</td>\n",
       "      <td>Savings</td>\n",
       "      <td>7.437607</td>\n",
       "      <td>9.088935</td>\n",
       "      <td>GT Bank</td>\n",
       "      <td>NaN</td>\n",
       "      <td>Permanent</td>\n",
       "      <td>NaN</td>\n",
       "    </tr>\n",
       "    <tr>\n",
       "      <th>1480</th>\n",
       "      <td>8a858fe05d421ff4015d4c87d2a21ceb</td>\n",
       "      <td>1983-01-20 00:00:00.000000</td>\n",
       "      <td>Savings</td>\n",
       "      <td>8.526960</td>\n",
       "      <td>12.023015</td>\n",
       "      <td>Skye Bank</td>\n",
       "      <td>NaN</td>\n",
       "      <td>Permanent</td>\n",
       "      <td>NaN</td>\n",
       "    </tr>\n",
       "    <tr>\n",
       "      <th>1928</th>\n",
       "      <td>8a858e625c8d993a015c938f829f77ee</td>\n",
       "      <td>1988-12-20 00:00:00.000000</td>\n",
       "      <td>Savings</td>\n",
       "      <td>5.768333</td>\n",
       "      <td>5.561992</td>\n",
       "      <td>First Bank</td>\n",
       "      <td>NaN</td>\n",
       "      <td>Permanent</td>\n",
       "      <td>NaN</td>\n",
       "    </tr>\n",
       "    <tr>\n",
       "      <th>1996</th>\n",
       "      <td>8a858ec65cc6352b015cc64525ea0763</td>\n",
       "      <td>1985-01-30 00:00:00.000000</td>\n",
       "      <td>Savings</td>\n",
       "      <td>3.845728</td>\n",
       "      <td>7.411737</td>\n",
       "      <td>GT Bank</td>\n",
       "      <td>NaN</td>\n",
       "      <td>Permanent</td>\n",
       "      <td>NaN</td>\n",
       "    </tr>\n",
       "    <tr>\n",
       "      <th>4126</th>\n",
       "      <td>8a858f1e5baffcc9015bb02b505f180d</td>\n",
       "      <td>1983-04-06 00:00:00.000000</td>\n",
       "      <td>Savings</td>\n",
       "      <td>6.969350</td>\n",
       "      <td>4.818535</td>\n",
       "      <td>GT Bank</td>\n",
       "      <td>NaN</td>\n",
       "      <td>Permanent</td>\n",
       "      <td>NaN</td>\n",
       "    </tr>\n",
       "    <tr>\n",
       "      <th>4266</th>\n",
       "      <td>8a858f1e5cc4bc81015cc548e1eb5206</td>\n",
       "      <td>1979-09-15 00:00:00.000000</td>\n",
       "      <td>Savings</td>\n",
       "      <td>6.285242</td>\n",
       "      <td>4.922719</td>\n",
       "      <td>UBA</td>\n",
       "      <td>NaN</td>\n",
       "      <td>Permanent</td>\n",
       "      <td>NaN</td>\n",
       "    </tr>\n",
       "    <tr>\n",
       "      <th>4286</th>\n",
       "      <td>8a858f9f5679951a01567a5b90644817</td>\n",
       "      <td>1984-12-17 00:00:00.000000</td>\n",
       "      <td>Savings</td>\n",
       "      <td>4.196662</td>\n",
       "      <td>12.429509</td>\n",
       "      <td>Access Bank</td>\n",
       "      <td>NaN</td>\n",
       "      <td>Permanent</td>\n",
       "      <td>NaN</td>\n",
       "    </tr>\n",
       "  </tbody>\n",
       "</table>\n",
       "</div>"
      ],
      "text/plain": [
       "                            customerid                   birthdate  \\\n",
       "159   8a858fca5c35df2c015c39ad8695343e  1980-11-26 00:00:00.000000   \n",
       "517   8a858edd57f790040157ffe9b6ed3fbb  1988-01-18 00:00:00.000000   \n",
       "776   8a858f965bb63a25015bbf63fd062e2e  1974-02-25 00:00:00.000000   \n",
       "1015  8a858fe65675195a015679452588279c  1982-08-01 00:00:00.000000   \n",
       "1090  8a858e6c5c88d145015c8b9627cd5a48  1979-09-30 00:00:00.000000   \n",
       "1188  8a858fc75cd62882015cdaf2f4311b3f  1975-10-27 00:00:00.000000   \n",
       "1480  8a858fe05d421ff4015d4c87d2a21ceb  1983-01-20 00:00:00.000000   \n",
       "1928  8a858e625c8d993a015c938f829f77ee  1988-12-20 00:00:00.000000   \n",
       "1996  8a858ec65cc6352b015cc64525ea0763  1985-01-30 00:00:00.000000   \n",
       "4126  8a858f1e5baffcc9015bb02b505f180d  1983-04-06 00:00:00.000000   \n",
       "4266  8a858f1e5cc4bc81015cc548e1eb5206  1979-09-15 00:00:00.000000   \n",
       "4286  8a858f9f5679951a01567a5b90644817  1984-12-17 00:00:00.000000   \n",
       "\n",
       "     bank_account_type  longitude_gps  latitude_gps bank_name_clients  \\\n",
       "159            Savings       3.352588      7.211089           GT Bank   \n",
       "517              Other       3.782563      7.171356        First Bank   \n",
       "776            Savings       3.936366      6.817958      Stanbic IBTC   \n",
       "1015           Savings       7.533646      9.046885               UBA   \n",
       "1090           Savings       3.367008      6.497313     Sterling Bank   \n",
       "1188           Savings       7.437607      9.088935           GT Bank   \n",
       "1480           Savings       8.526960     12.023015         Skye Bank   \n",
       "1928           Savings       5.768333      5.561992        First Bank   \n",
       "1996           Savings       3.845728      7.411737           GT Bank   \n",
       "4126           Savings       6.969350      4.818535           GT Bank   \n",
       "4266           Savings       6.285242      4.922719               UBA   \n",
       "4286           Savings       4.196662     12.429509       Access Bank   \n",
       "\n",
       "     bank_branch_clients employment_status_clients level_of_education_clients  \n",
       "159                  NaN                 Permanent                        NaN  \n",
       "517                  NaN                 Permanent                  Secondary  \n",
       "776                  NaN                 Permanent                        NaN  \n",
       "1015                 NaN                 Permanent                        NaN  \n",
       "1090                 NaN                 Permanent                        NaN  \n",
       "1188                 NaN                 Permanent                        NaN  \n",
       "1480                 NaN                 Permanent                        NaN  \n",
       "1928                 NaN                 Permanent                        NaN  \n",
       "1996                 NaN                 Permanent                        NaN  \n",
       "4126                 NaN                 Permanent                        NaN  \n",
       "4266                 NaN                 Permanent                        NaN  \n",
       "4286                 NaN                 Permanent                        NaN  "
      ]
     },
     "execution_count": 1888,
     "metadata": {},
     "output_type": "execute_result"
    }
   ],
   "source": [
    "duplicate = demographic[demographic.duplicated()]\n",
    " \n",
    "print(\"Duplicate Rows :\")\n",
    " \n",
    "# Print the resultant Dataframe\n",
    "duplicate"
   ]
  },
  {
   "cell_type": "code",
   "execution_count": 1889,
   "id": "8126c7c5",
   "metadata": {},
   "outputs": [
    {
     "name": "stdout",
     "output_type": "stream",
     "text": [
      "Duplicate Rows :\n"
     ]
    },
    {
     "data": {
      "text/html": [
       "<div>\n",
       "<style scoped>\n",
       "    .dataframe tbody tr th:only-of-type {\n",
       "        vertical-align: middle;\n",
       "    }\n",
       "\n",
       "    .dataframe tbody tr th {\n",
       "        vertical-align: top;\n",
       "    }\n",
       "\n",
       "    .dataframe thead th {\n",
       "        text-align: right;\n",
       "    }\n",
       "</style>\n",
       "<table border=\"1\" class=\"dataframe\">\n",
       "  <thead>\n",
       "    <tr style=\"text-align: right;\">\n",
       "      <th></th>\n",
       "      <th>customerid</th>\n",
       "      <th>systemloanid</th>\n",
       "      <th>loannumber</th>\n",
       "      <th>approveddate</th>\n",
       "      <th>creationdate</th>\n",
       "      <th>loanamount</th>\n",
       "      <th>totaldue</th>\n",
       "      <th>termdays</th>\n",
       "      <th>referredby</th>\n",
       "      <th>good_bad_flag</th>\n",
       "    </tr>\n",
       "  </thead>\n",
       "  <tbody>\n",
       "  </tbody>\n",
       "</table>\n",
       "</div>"
      ],
      "text/plain": [
       "Empty DataFrame\n",
       "Columns: [customerid, systemloanid, loannumber, approveddate, creationdate, loanamount, totaldue, termdays, referredby, good_bad_flag]\n",
       "Index: []"
      ]
     },
     "execution_count": 1889,
     "metadata": {},
     "output_type": "execute_result"
    }
   ],
   "source": [
    "duplicate = performance[performance.duplicated()]\n",
    " \n",
    "print(\"Duplicate Rows :\")\n",
    " \n",
    "# Print the resultant Dataframe\n",
    "duplicate"
   ]
  },
  {
   "cell_type": "code",
   "execution_count": 1890,
   "id": "1b37a211",
   "metadata": {},
   "outputs": [
    {
     "name": "stdout",
     "output_type": "stream",
     "text": [
      "Duplicate Rows :\n"
     ]
    },
    {
     "data": {
      "text/html": [
       "<div>\n",
       "<style scoped>\n",
       "    .dataframe tbody tr th:only-of-type {\n",
       "        vertical-align: middle;\n",
       "    }\n",
       "\n",
       "    .dataframe tbody tr th {\n",
       "        vertical-align: top;\n",
       "    }\n",
       "\n",
       "    .dataframe thead th {\n",
       "        text-align: right;\n",
       "    }\n",
       "</style>\n",
       "<table border=\"1\" class=\"dataframe\">\n",
       "  <thead>\n",
       "    <tr style=\"text-align: right;\">\n",
       "      <th></th>\n",
       "      <th>customerid</th>\n",
       "      <th>systemloanid</th>\n",
       "      <th>loannumber</th>\n",
       "      <th>approveddate</th>\n",
       "      <th>creationdate</th>\n",
       "      <th>loanamount</th>\n",
       "      <th>totaldue</th>\n",
       "      <th>termdays</th>\n",
       "      <th>closeddate</th>\n",
       "      <th>referredby</th>\n",
       "      <th>firstduedate</th>\n",
       "      <th>firstrepaiddate</th>\n",
       "    </tr>\n",
       "  </thead>\n",
       "  <tbody>\n",
       "  </tbody>\n",
       "</table>\n",
       "</div>"
      ],
      "text/plain": [
       "Empty DataFrame\n",
       "Columns: [customerid, systemloanid, loannumber, approveddate, creationdate, loanamount, totaldue, termdays, closeddate, referredby, firstduedate, firstrepaiddate]\n",
       "Index: []"
      ]
     },
     "execution_count": 1890,
     "metadata": {},
     "output_type": "execute_result"
    }
   ],
   "source": [
    "duplicate = previous[previous.duplicated()]\n",
    " \n",
    "print(\"Duplicate Rows :\")\n",
    " \n",
    "# Print the resultant Dataframe\n",
    "duplicate"
   ]
  },
  {
   "cell_type": "markdown",
   "id": "9b902002",
   "metadata": {},
   "source": [
    "Only duplicates in the demographic dataframe and those will be dealt with below."
   ]
  },
  {
   "cell_type": "code",
   "execution_count": 1891,
   "id": "16d92ac2",
   "metadata": {},
   "outputs": [],
   "source": [
    "demographic.drop_duplicates(inplace=True)"
   ]
  },
  {
   "cell_type": "code",
   "execution_count": 1892,
   "id": "09a9c883",
   "metadata": {
    "scrolled": true
   },
   "outputs": [],
   "source": [
    "customerCheck = demographic.assign(InPerformance=demographic.customerid.isin(performance.customerid), InPrevious=demographic.customerid.isin(previous.customerid))\n",
    "customerCheck = customerCheck[['customerid','InPerformance','InPrevious']]"
   ]
  },
  {
   "cell_type": "code",
   "execution_count": 1893,
   "id": "0ccdb1e8",
   "metadata": {},
   "outputs": [
    {
     "data": {
      "text/plain": [
       "InPerformance  InPrevious  customerid                      \n",
       "False          False       8a28afc7474813a40147639ec637156b    1\n",
       "                           8a3735d5518aba7301518ac34413010d    1\n",
       "                           8a858f465668e3d60156790caa5f49da    1\n",
       "                           8a858f3d5ab81f53015ab8334351169b    1\n",
       "                           8a858f3d5add42e2015ae0d08df06d16    1\n",
       "                                                              ..\n",
       "True           True        8a858e0f5c45466f015c5469454d1227    1\n",
       "                           8a858e0f5c45466f015c55c7e09d5e9c    1\n",
       "                           8a858e105b434e9e015b437dbfab3920    1\n",
       "                           8a858e105bd92644015bd9db3a0f3be2    1\n",
       "                           8a858fff5c79144c015c7bdbfc086ce1    1\n",
       "Length: 4334, dtype: int64"
      ]
     },
     "execution_count": 1893,
     "metadata": {},
     "output_type": "execute_result"
    }
   ],
   "source": [
    "#checking the value counts again and we can see that the earlier assumption of duplicates\n",
    "#was true and now all records have only one count\n",
    "customerCheck.groupby(['InPerformance','InPrevious']).value_counts()\n"
   ]
  },
  {
   "cell_type": "markdown",
   "id": "4f58d88a",
   "metadata": {},
   "source": [
    "Depending on this project and its data, there is going to be a need for two models:\n",
    "- the first model which would predict for non-new customers based on demographic and previous loans data.\n",
    "- the second model which predict for new customers based on just demographic data.\n",
    "\n",
    "As a group we are going to deal with and develop the first model."
   ]
  },
  {
   "cell_type": "markdown",
   "id": "e70358c0",
   "metadata": {},
   "source": [
    "### Determining how the dataframes are going to be concatenated."
   ]
  },
  {
   "cell_type": "markdown",
   "id": "2bef9a17",
   "metadata": {},
   "source": [
    "#### Checking the primary key columns between the data sets along which records will be connected"
   ]
  },
  {
   "cell_type": "markdown",
   "id": "5bb58b68",
   "metadata": {},
   "source": [
    "##### customerid"
   ]
  },
  {
   "cell_type": "markdown",
   "id": "2ebd0eea",
   "metadata": {},
   "source": [
    "Performance dataframe has 18183 entries and previous has 4368 entries."
   ]
  },
  {
   "cell_type": "code",
   "execution_count": 1894,
   "id": "7c7f4738",
   "metadata": {},
   "outputs": [
    {
     "data": {
      "text/html": [
       "<div>\n",
       "<style scoped>\n",
       "    .dataframe tbody tr th:only-of-type {\n",
       "        vertical-align: middle;\n",
       "    }\n",
       "\n",
       "    .dataframe tbody tr th {\n",
       "        vertical-align: top;\n",
       "    }\n",
       "\n",
       "    .dataframe thead th {\n",
       "        text-align: right;\n",
       "    }\n",
       "</style>\n",
       "<table border=\"1\" class=\"dataframe\">\n",
       "  <thead>\n",
       "    <tr style=\"text-align: right;\">\n",
       "      <th></th>\n",
       "      <th>customerid</th>\n",
       "    </tr>\n",
       "  </thead>\n",
       "  <tbody>\n",
       "    <tr>\n",
       "      <th>0</th>\n",
       "      <td>8a2a81a74ce8c05d014cfb32a0da1049</td>\n",
       "    </tr>\n",
       "    <tr>\n",
       "      <th>1</th>\n",
       "      <td>8a85886e54beabf90154c0a29ae757c0</td>\n",
       "    </tr>\n",
       "    <tr>\n",
       "      <th>2</th>\n",
       "      <td>8a8588f35438fe12015444567666018e</td>\n",
       "    </tr>\n",
       "    <tr>\n",
       "      <th>3</th>\n",
       "      <td>8a85890754145ace015429211b513e16</td>\n",
       "    </tr>\n",
       "    <tr>\n",
       "      <th>4</th>\n",
       "      <td>8a858970548359cc0154883481981866</td>\n",
       "    </tr>\n",
       "    <tr>\n",
       "      <th>...</th>\n",
       "      <td>...</td>\n",
       "    </tr>\n",
       "    <tr>\n",
       "      <th>4363</th>\n",
       "      <td>8a858e6d58b0cc520158beeb14b22a5a</td>\n",
       "    </tr>\n",
       "    <tr>\n",
       "      <th>4364</th>\n",
       "      <td>8a858ee85cf400f5015cf44ab1c42d5c</td>\n",
       "    </tr>\n",
       "    <tr>\n",
       "      <th>4365</th>\n",
       "      <td>8a858f365b2547f3015b284597147c94</td>\n",
       "    </tr>\n",
       "    <tr>\n",
       "      <th>4366</th>\n",
       "      <td>8a858f935ca09667015ca0ee3bc63f51</td>\n",
       "    </tr>\n",
       "    <tr>\n",
       "      <th>4367</th>\n",
       "      <td>8a858fd458639fcc015868eb14b542ad</td>\n",
       "    </tr>\n",
       "  </tbody>\n",
       "</table>\n",
       "<p>4368 rows × 1 columns</p>\n",
       "</div>"
      ],
      "text/plain": [
       "                            customerid\n",
       "0     8a2a81a74ce8c05d014cfb32a0da1049\n",
       "1     8a85886e54beabf90154c0a29ae757c0\n",
       "2     8a8588f35438fe12015444567666018e\n",
       "3     8a85890754145ace015429211b513e16\n",
       "4     8a858970548359cc0154883481981866\n",
       "...                                ...\n",
       "4363  8a858e6d58b0cc520158beeb14b22a5a\n",
       "4364  8a858ee85cf400f5015cf44ab1c42d5c\n",
       "4365  8a858f365b2547f3015b284597147c94\n",
       "4366  8a858f935ca09667015ca0ee3bc63f51\n",
       "4367  8a858fd458639fcc015868eb14b542ad\n",
       "\n",
       "[4368 rows x 1 columns]"
      ]
     },
     "execution_count": 1894,
     "metadata": {},
     "output_type": "execute_result"
    }
   ],
   "source": [
    "performanceids = pd.DataFrame(performance['customerid'])\n",
    "performanceids"
   ]
  },
  {
   "cell_type": "code",
   "execution_count": 1895,
   "id": "caa63d50",
   "metadata": {},
   "outputs": [
    {
     "data": {
      "text/plain": [
       "customerid\n",
       "8a1088a0484472eb01484669e3ce4e0b    1\n",
       "8a1a1e7e4f707f8b014f797718316cad    1\n",
       "8a1a32fc49b632520149c3b8fdf85139    1\n",
       "8a1eb5ba49a682300149c3c068b806c7    1\n",
       "8a1edbf14734127f0147356fdb1b1eb2    1\n",
       "dtype: int64"
      ]
     },
     "execution_count": 1895,
     "metadata": {},
     "output_type": "execute_result"
    }
   ],
   "source": [
    "performanceids.groupby('customerid').value_counts().nlargest()"
   ]
  },
  {
   "cell_type": "code",
   "execution_count": 1896,
   "id": "b50e91aa",
   "metadata": {},
   "outputs": [
    {
     "data": {
      "text/html": [
       "<div>\n",
       "<style scoped>\n",
       "    .dataframe tbody tr th:only-of-type {\n",
       "        vertical-align: middle;\n",
       "    }\n",
       "\n",
       "    .dataframe tbody tr th {\n",
       "        vertical-align: top;\n",
       "    }\n",
       "\n",
       "    .dataframe thead th {\n",
       "        text-align: right;\n",
       "    }\n",
       "</style>\n",
       "<table border=\"1\" class=\"dataframe\">\n",
       "  <thead>\n",
       "    <tr style=\"text-align: right;\">\n",
       "      <th></th>\n",
       "      <th>customerid</th>\n",
       "    </tr>\n",
       "  </thead>\n",
       "  <tbody>\n",
       "    <tr>\n",
       "      <th>0</th>\n",
       "      <td>8a2a81a74ce8c05d014cfb32a0da1049</td>\n",
       "    </tr>\n",
       "    <tr>\n",
       "      <th>1</th>\n",
       "      <td>8a2a81a74ce8c05d014cfb32a0da1049</td>\n",
       "    </tr>\n",
       "    <tr>\n",
       "      <th>2</th>\n",
       "      <td>8a2a81a74ce8c05d014cfb32a0da1049</td>\n",
       "    </tr>\n",
       "    <tr>\n",
       "      <th>3</th>\n",
       "      <td>8a8588f35438fe12015444567666018e</td>\n",
       "    </tr>\n",
       "    <tr>\n",
       "      <th>4</th>\n",
       "      <td>8a85890754145ace015429211b513e16</td>\n",
       "    </tr>\n",
       "    <tr>\n",
       "      <th>...</th>\n",
       "      <td>...</td>\n",
       "    </tr>\n",
       "    <tr>\n",
       "      <th>18178</th>\n",
       "      <td>8a858899538ddb8e0153a2b555421fc5</td>\n",
       "    </tr>\n",
       "    <tr>\n",
       "      <th>18179</th>\n",
       "      <td>8a858899538ddb8e0153a2b555421fc5</td>\n",
       "    </tr>\n",
       "    <tr>\n",
       "      <th>18180</th>\n",
       "      <td>8a858899538ddb8e0153a2b555421fc5</td>\n",
       "    </tr>\n",
       "    <tr>\n",
       "      <th>18181</th>\n",
       "      <td>8a858f0656b7820c0156c92ca3ba436f</td>\n",
       "    </tr>\n",
       "    <tr>\n",
       "      <th>18182</th>\n",
       "      <td>8a858faf5679a838015688de3028143d</td>\n",
       "    </tr>\n",
       "  </tbody>\n",
       "</table>\n",
       "<p>18183 rows × 1 columns</p>\n",
       "</div>"
      ],
      "text/plain": [
       "                             customerid\n",
       "0      8a2a81a74ce8c05d014cfb32a0da1049\n",
       "1      8a2a81a74ce8c05d014cfb32a0da1049\n",
       "2      8a2a81a74ce8c05d014cfb32a0da1049\n",
       "3      8a8588f35438fe12015444567666018e\n",
       "4      8a85890754145ace015429211b513e16\n",
       "...                                 ...\n",
       "18178  8a858899538ddb8e0153a2b555421fc5\n",
       "18179  8a858899538ddb8e0153a2b555421fc5\n",
       "18180  8a858899538ddb8e0153a2b555421fc5\n",
       "18181  8a858f0656b7820c0156c92ca3ba436f\n",
       "18182  8a858faf5679a838015688de3028143d\n",
       "\n",
       "[18183 rows x 1 columns]"
      ]
     },
     "execution_count": 1896,
     "metadata": {},
     "output_type": "execute_result"
    }
   ],
   "source": [
    "previousids = pd.DataFrame(previous['customerid'])\n",
    "previousids"
   ]
  },
  {
   "cell_type": "code",
   "execution_count": 1897,
   "id": "245810ba",
   "metadata": {},
   "outputs": [
    {
     "data": {
      "text/plain": [
       "customerid\n",
       "8a858f7d5578012a01557ea194d94948    26\n",
       "8a858e4456ced8470156d73452f85335    22\n",
       "8a85886f54517ee0015470749d3c3ce7    21\n",
       "8a85888c548fb3d50154947fe59c32cf    21\n",
       "8a858899538ddb8e0153a780c56e34bb    21\n",
       "dtype: int64"
      ]
     },
     "execution_count": 1897,
     "metadata": {},
     "output_type": "execute_result"
    }
   ],
   "source": [
    "previousids.groupby('customerid').value_counts().nlargest()"
   ]
  },
  {
   "cell_type": "markdown",
   "id": "f7039683",
   "metadata": {},
   "source": [
    "From the analysis above, one can see that the most times a customer appears in the performance data is once, whereas the most times a customer appears in the previous data is 26 times. This confirms it is ideal to add the 'performance' dataframe to the previous dataframe."
   ]
  },
  {
   "cell_type": "markdown",
   "id": "f549db45",
   "metadata": {},
   "source": [
    "##### adding the performance dataframe to the previous loans dataframe"
   ]
  },
  {
   "cell_type": "markdown",
   "id": "c60a2f72",
   "metadata": {},
   "source": [
    "Between the two dataframes,there are a number of similar columns. To add the two dataframes together, the column names of the incoming dataframe,'performance', will be changed to be able to distinguish the columns."
   ]
  },
  {
   "cell_type": "code",
   "execution_count": 1898,
   "id": "10527f0f",
   "metadata": {},
   "outputs": [
    {
     "data": {
      "text/plain": [
       "Index(['customerid', 'systemloanid', 'loannumber', 'approveddate',\n",
       "       'creationdate', 'loanamount', 'totaldue', 'termdays', 'referredby',\n",
       "       'good_bad_flag'],\n",
       "      dtype='object')"
      ]
     },
     "execution_count": 1898,
     "metadata": {},
     "output_type": "execute_result"
    }
   ],
   "source": [
    "performance.columns"
   ]
  },
  {
   "cell_type": "code",
   "execution_count": 1899,
   "id": "a2ea0799",
   "metadata": {},
   "outputs": [
    {
     "data": {
      "text/plain": [
       "Index(['customerid', 'systemloanid', 'loannumber', 'approveddate',\n",
       "       'creationdate', 'loanamount', 'totaldue', 'termdays', 'closeddate',\n",
       "       'referredby', 'firstduedate', 'firstrepaiddate'],\n",
       "      dtype='object')"
      ]
     },
     "execution_count": 1899,
     "metadata": {},
     "output_type": "execute_result"
    }
   ],
   "source": [
    "previous.columns"
   ]
  },
  {
   "cell_type": "markdown",
   "id": "1c0f7f86",
   "metadata": {},
   "source": [
    "From the cells above, we can see the similar columns: \n",
    "customerid, systemloanid,loannumber,approveddate,creationdate,loanamount,totaldue,termdays and referred by. \n",
    "All of these columns,apart from customerid and systemloanid, will be renamed now.\n",
    "Customerid and systemloanid will not be renamed because they are going to be dropped ahead."
   ]
  },
  {
   "cell_type": "code",
   "execution_count": 1900,
   "id": "df7cba89",
   "metadata": {},
   "outputs": [],
   "source": [
    "performance.columns = ['customerid','perfsystemloanid','perf_loannumber','perf_approveddate','perf_creationdate','perf_loanamount','perf_totaldue','perf_termdays','perf_referredby','good_bad_flag']"
   ]
  },
  {
   "cell_type": "code",
   "execution_count": 1901,
   "id": "f81d3564",
   "metadata": {},
   "outputs": [
    {
     "data": {
      "text/plain": [
       "Index(['customerid', 'perfsystemloanid', 'perf_loannumber',\n",
       "       'perf_approveddate', 'perf_creationdate', 'perf_loanamount',\n",
       "       'perf_totaldue', 'perf_termdays', 'perf_referredby', 'good_bad_flag'],\n",
       "      dtype='object')"
      ]
     },
     "execution_count": 1901,
     "metadata": {},
     "output_type": "execute_result"
    }
   ],
   "source": [
    "performance.columns"
   ]
  },
  {
   "cell_type": "code",
   "execution_count": 1902,
   "id": "219b2aae",
   "metadata": {},
   "outputs": [
    {
     "name": "stdout",
     "output_type": "stream",
     "text": [
      "<class 'pandas.core.frame.DataFrame'>\n",
      "RangeIndex: 18183 entries, 0 to 18182\n",
      "Data columns (total 12 columns):\n",
      " #   Column           Non-Null Count  Dtype  \n",
      "---  ------           --------------  -----  \n",
      " 0   customerid       18183 non-null  object \n",
      " 1   systemloanid     18183 non-null  int64  \n",
      " 2   loannumber       18183 non-null  int64  \n",
      " 3   approveddate     18183 non-null  object \n",
      " 4   creationdate     18183 non-null  object \n",
      " 5   loanamount       18183 non-null  float64\n",
      " 6   totaldue         18183 non-null  float64\n",
      " 7   termdays         18183 non-null  int64  \n",
      " 8   closeddate       18183 non-null  object \n",
      " 9   referredby       1026 non-null   object \n",
      " 10  firstduedate     18183 non-null  object \n",
      " 11  firstrepaiddate  18183 non-null  object \n",
      "dtypes: float64(2), int64(3), object(7)\n",
      "memory usage: 1.7+ MB\n"
     ]
    }
   ],
   "source": [
    "previous.info()"
   ]
  },
  {
   "cell_type": "code",
   "execution_count": 1903,
   "id": "2950612e",
   "metadata": {},
   "outputs": [],
   "source": [
    "#joining previous and performance dataframes in a dataframe called 'previousCustomers'\n",
    "previousCustomers = pd.merge(previous, performance, on='customerid')"
   ]
  },
  {
   "cell_type": "code",
   "execution_count": 1904,
   "id": "efbfafed",
   "metadata": {},
   "outputs": [
    {
     "data": {
      "text/html": [
       "<div>\n",
       "<style scoped>\n",
       "    .dataframe tbody tr th:only-of-type {\n",
       "        vertical-align: middle;\n",
       "    }\n",
       "\n",
       "    .dataframe tbody tr th {\n",
       "        vertical-align: top;\n",
       "    }\n",
       "\n",
       "    .dataframe thead th {\n",
       "        text-align: right;\n",
       "    }\n",
       "</style>\n",
       "<table border=\"1\" class=\"dataframe\">\n",
       "  <thead>\n",
       "    <tr style=\"text-align: right;\">\n",
       "      <th></th>\n",
       "      <th>customerid</th>\n",
       "      <th>systemloanid</th>\n",
       "      <th>loannumber</th>\n",
       "      <th>approveddate</th>\n",
       "      <th>creationdate</th>\n",
       "      <th>loanamount</th>\n",
       "      <th>totaldue</th>\n",
       "      <th>termdays</th>\n",
       "      <th>closeddate</th>\n",
       "      <th>referredby</th>\n",
       "      <th>...</th>\n",
       "      <th>firstrepaiddate</th>\n",
       "      <th>perfsystemloanid</th>\n",
       "      <th>perf_loannumber</th>\n",
       "      <th>perf_approveddate</th>\n",
       "      <th>perf_creationdate</th>\n",
       "      <th>perf_loanamount</th>\n",
       "      <th>perf_totaldue</th>\n",
       "      <th>perf_termdays</th>\n",
       "      <th>perf_referredby</th>\n",
       "      <th>good_bad_flag</th>\n",
       "    </tr>\n",
       "  </thead>\n",
       "  <tbody>\n",
       "    <tr>\n",
       "      <th>0</th>\n",
       "      <td>8a2a81a74ce8c05d014cfb32a0da1049</td>\n",
       "      <td>301682320</td>\n",
       "      <td>2</td>\n",
       "      <td>2016-08-15 18:22:40.000000</td>\n",
       "      <td>2016-08-15 17:22:32.000000</td>\n",
       "      <td>10000.0</td>\n",
       "      <td>13000.0</td>\n",
       "      <td>30</td>\n",
       "      <td>2016-09-01 16:06:48.000000</td>\n",
       "      <td>NaN</td>\n",
       "      <td>...</td>\n",
       "      <td>2016-09-01 15:51:43.000000</td>\n",
       "      <td>301994762</td>\n",
       "      <td>12</td>\n",
       "      <td>2017-07-25 08:22:56.000000</td>\n",
       "      <td>2017-07-25 07:22:47.000000</td>\n",
       "      <td>30000.0</td>\n",
       "      <td>34500.0</td>\n",
       "      <td>30</td>\n",
       "      <td>NaN</td>\n",
       "      <td>Good</td>\n",
       "    </tr>\n",
       "    <tr>\n",
       "      <th>1</th>\n",
       "      <td>8a2a81a74ce8c05d014cfb32a0da1049</td>\n",
       "      <td>301883808</td>\n",
       "      <td>9</td>\n",
       "      <td>2017-04-28 18:39:07.000000</td>\n",
       "      <td>2017-04-28 17:38:53.000000</td>\n",
       "      <td>10000.0</td>\n",
       "      <td>13000.0</td>\n",
       "      <td>30</td>\n",
       "      <td>2017-05-28 14:44:49.000000</td>\n",
       "      <td>NaN</td>\n",
       "      <td>...</td>\n",
       "      <td>2017-05-26 00:00:00.000000</td>\n",
       "      <td>301994762</td>\n",
       "      <td>12</td>\n",
       "      <td>2017-07-25 08:22:56.000000</td>\n",
       "      <td>2017-07-25 07:22:47.000000</td>\n",
       "      <td>30000.0</td>\n",
       "      <td>34500.0</td>\n",
       "      <td>30</td>\n",
       "      <td>NaN</td>\n",
       "      <td>Good</td>\n",
       "    </tr>\n",
       "    <tr>\n",
       "      <th>2</th>\n",
       "      <td>8a2a81a74ce8c05d014cfb32a0da1049</td>\n",
       "      <td>301831714</td>\n",
       "      <td>8</td>\n",
       "      <td>2017-03-05 10:56:25.000000</td>\n",
       "      <td>2017-03-05 09:56:19.000000</td>\n",
       "      <td>20000.0</td>\n",
       "      <td>23800.0</td>\n",
       "      <td>30</td>\n",
       "      <td>2017-04-26 22:18:56.000000</td>\n",
       "      <td>NaN</td>\n",
       "      <td>...</td>\n",
       "      <td>2017-04-26 22:03:47.000000</td>\n",
       "      <td>301994762</td>\n",
       "      <td>12</td>\n",
       "      <td>2017-07-25 08:22:56.000000</td>\n",
       "      <td>2017-07-25 07:22:47.000000</td>\n",
       "      <td>30000.0</td>\n",
       "      <td>34500.0</td>\n",
       "      <td>30</td>\n",
       "      <td>NaN</td>\n",
       "      <td>Good</td>\n",
       "    </tr>\n",
       "    <tr>\n",
       "      <th>3</th>\n",
       "      <td>8a2a81a74ce8c05d014cfb32a0da1049</td>\n",
       "      <td>301923941</td>\n",
       "      <td>10</td>\n",
       "      <td>2017-06-01 13:34:30.000000</td>\n",
       "      <td>2017-06-01 12:34:21.000000</td>\n",
       "      <td>20000.0</td>\n",
       "      <td>24500.0</td>\n",
       "      <td>30</td>\n",
       "      <td>2017-06-25 15:24:06.000000</td>\n",
       "      <td>NaN</td>\n",
       "      <td>...</td>\n",
       "      <td>2017-06-25 15:13:56.000000</td>\n",
       "      <td>301994762</td>\n",
       "      <td>12</td>\n",
       "      <td>2017-07-25 08:22:56.000000</td>\n",
       "      <td>2017-07-25 07:22:47.000000</td>\n",
       "      <td>30000.0</td>\n",
       "      <td>34500.0</td>\n",
       "      <td>30</td>\n",
       "      <td>NaN</td>\n",
       "      <td>Good</td>\n",
       "    </tr>\n",
       "    <tr>\n",
       "      <th>4</th>\n",
       "      <td>8a2a81a74ce8c05d014cfb32a0da1049</td>\n",
       "      <td>301954468</td>\n",
       "      <td>11</td>\n",
       "      <td>2017-06-28 10:58:34.000000</td>\n",
       "      <td>2017-06-28 09:58:25.000000</td>\n",
       "      <td>20000.0</td>\n",
       "      <td>24500.0</td>\n",
       "      <td>30</td>\n",
       "      <td>2017-07-25 08:14:36.000000</td>\n",
       "      <td>NaN</td>\n",
       "      <td>...</td>\n",
       "      <td>2017-07-25 08:04:27.000000</td>\n",
       "      <td>301994762</td>\n",
       "      <td>12</td>\n",
       "      <td>2017-07-25 08:22:56.000000</td>\n",
       "      <td>2017-07-25 07:22:47.000000</td>\n",
       "      <td>30000.0</td>\n",
       "      <td>34500.0</td>\n",
       "      <td>30</td>\n",
       "      <td>NaN</td>\n",
       "      <td>Good</td>\n",
       "    </tr>\n",
       "    <tr>\n",
       "      <th>...</th>\n",
       "      <td>...</td>\n",
       "      <td>...</td>\n",
       "      <td>...</td>\n",
       "      <td>...</td>\n",
       "      <td>...</td>\n",
       "      <td>...</td>\n",
       "      <td>...</td>\n",
       "      <td>...</td>\n",
       "      <td>...</td>\n",
       "      <td>...</td>\n",
       "      <td>...</td>\n",
       "      <td>...</td>\n",
       "      <td>...</td>\n",
       "      <td>...</td>\n",
       "      <td>...</td>\n",
       "      <td>...</td>\n",
       "      <td>...</td>\n",
       "      <td>...</td>\n",
       "      <td>...</td>\n",
       "      <td>...</td>\n",
       "      <td>...</td>\n",
       "    </tr>\n",
       "    <tr>\n",
       "      <th>18178</th>\n",
       "      <td>8a858f305c8dd672015c92b0711a3333</td>\n",
       "      <td>301941335</td>\n",
       "      <td>1</td>\n",
       "      <td>2017-06-16 18:16:37.000000</td>\n",
       "      <td>2017-06-16 17:15:29.000000</td>\n",
       "      <td>10000.0</td>\n",
       "      <td>11500.0</td>\n",
       "      <td>15</td>\n",
       "      <td>2017-06-26 14:02:03.000000</td>\n",
       "      <td>NaN</td>\n",
       "      <td>...</td>\n",
       "      <td>2017-06-26 13:51:54.000000</td>\n",
       "      <td>301978946</td>\n",
       "      <td>2</td>\n",
       "      <td>2017-07-15 10:42:38.000000</td>\n",
       "      <td>2017-07-15 09:42:24.000000</td>\n",
       "      <td>10000.0</td>\n",
       "      <td>11500.0</td>\n",
       "      <td>15</td>\n",
       "      <td>NaN</td>\n",
       "      <td>Good</td>\n",
       "    </tr>\n",
       "    <tr>\n",
       "      <th>18179</th>\n",
       "      <td>8a858fe7568ed7420156920bff565cc7</td>\n",
       "      <td>301955570</td>\n",
       "      <td>1</td>\n",
       "      <td>2017-06-29 01:25:57.000000</td>\n",
       "      <td>2017-06-29 00:25:48.000000</td>\n",
       "      <td>10000.0</td>\n",
       "      <td>11500.0</td>\n",
       "      <td>15</td>\n",
       "      <td>2017-07-05 14:31:17.000000</td>\n",
       "      <td>NaN</td>\n",
       "      <td>...</td>\n",
       "      <td>2017-07-05 14:21:08.000000</td>\n",
       "      <td>301976025</td>\n",
       "      <td>2</td>\n",
       "      <td>2017-07-13 13:07:40.000000</td>\n",
       "      <td>2017-07-13 12:07:32.000000</td>\n",
       "      <td>10000.0</td>\n",
       "      <td>13000.0</td>\n",
       "      <td>30</td>\n",
       "      <td>NaN</td>\n",
       "      <td>Good</td>\n",
       "    </tr>\n",
       "    <tr>\n",
       "      <th>18180</th>\n",
       "      <td>8a858f6459b6456d0159b69978f22bed</td>\n",
       "      <td>301796830</td>\n",
       "      <td>1</td>\n",
       "      <td>2017-01-19 14:00:16.000000</td>\n",
       "      <td>2017-01-19 13:00:02.000000</td>\n",
       "      <td>10000.0</td>\n",
       "      <td>11500.0</td>\n",
       "      <td>15</td>\n",
       "      <td>2017-02-15 09:06:34.000000</td>\n",
       "      <td>NaN</td>\n",
       "      <td>...</td>\n",
       "      <td>2017-02-15 08:51:25.000000</td>\n",
       "      <td>301969032</td>\n",
       "      <td>2</td>\n",
       "      <td>2017-07-08 10:12:52.000000</td>\n",
       "      <td>2017-07-08 09:12:37.000000</td>\n",
       "      <td>10000.0</td>\n",
       "      <td>13000.0</td>\n",
       "      <td>30</td>\n",
       "      <td>NaN</td>\n",
       "      <td>Good</td>\n",
       "    </tr>\n",
       "    <tr>\n",
       "      <th>18181</th>\n",
       "      <td>8a858fad5ccb633e015ccbe337372ab3</td>\n",
       "      <td>301946936</td>\n",
       "      <td>1</td>\n",
       "      <td>2017-06-21 20:19:29.000000</td>\n",
       "      <td>2017-06-21 19:18:21.000000</td>\n",
       "      <td>10000.0</td>\n",
       "      <td>13000.0</td>\n",
       "      <td>30</td>\n",
       "      <td>2017-07-07 17:08:47.000000</td>\n",
       "      <td>8a858eaa55a0b8ae0155ad2cab5e49cc</td>\n",
       "      <td>...</td>\n",
       "      <td>2017-07-07 16:58:38.000000</td>\n",
       "      <td>301977456</td>\n",
       "      <td>2</td>\n",
       "      <td>2017-07-14 12:00:54.000000</td>\n",
       "      <td>2017-07-14 11:00:48.000000</td>\n",
       "      <td>10000.0</td>\n",
       "      <td>13000.0</td>\n",
       "      <td>30</td>\n",
       "      <td>8a858eaa55a0b8ae0155ad2cab5e49cc</td>\n",
       "      <td>Good</td>\n",
       "    </tr>\n",
       "    <tr>\n",
       "      <th>18182</th>\n",
       "      <td>8a858f0656b7820c0156c92ca3ba436f</td>\n",
       "      <td>301697691</td>\n",
       "      <td>1</td>\n",
       "      <td>2016-08-27 20:03:45.000000</td>\n",
       "      <td>2016-08-27 19:03:34.000000</td>\n",
       "      <td>10000.0</td>\n",
       "      <td>13000.0</td>\n",
       "      <td>30</td>\n",
       "      <td>2016-10-15 10:17:54.000000</td>\n",
       "      <td>NaN</td>\n",
       "      <td>...</td>\n",
       "      <td>2016-10-15 10:02:45.000000</td>\n",
       "      <td>301996908</td>\n",
       "      <td>2</td>\n",
       "      <td>2017-07-26 12:48:14.000000</td>\n",
       "      <td>2017-07-26 11:46:58.000000</td>\n",
       "      <td>10000.0</td>\n",
       "      <td>13000.0</td>\n",
       "      <td>30</td>\n",
       "      <td>NaN</td>\n",
       "      <td>Bad</td>\n",
       "    </tr>\n",
       "  </tbody>\n",
       "</table>\n",
       "<p>18183 rows × 21 columns</p>\n",
       "</div>"
      ],
      "text/plain": [
       "                             customerid  systemloanid  loannumber  \\\n",
       "0      8a2a81a74ce8c05d014cfb32a0da1049     301682320           2   \n",
       "1      8a2a81a74ce8c05d014cfb32a0da1049     301883808           9   \n",
       "2      8a2a81a74ce8c05d014cfb32a0da1049     301831714           8   \n",
       "3      8a2a81a74ce8c05d014cfb32a0da1049     301923941          10   \n",
       "4      8a2a81a74ce8c05d014cfb32a0da1049     301954468          11   \n",
       "...                                 ...           ...         ...   \n",
       "18178  8a858f305c8dd672015c92b0711a3333     301941335           1   \n",
       "18179  8a858fe7568ed7420156920bff565cc7     301955570           1   \n",
       "18180  8a858f6459b6456d0159b69978f22bed     301796830           1   \n",
       "18181  8a858fad5ccb633e015ccbe337372ab3     301946936           1   \n",
       "18182  8a858f0656b7820c0156c92ca3ba436f     301697691           1   \n",
       "\n",
       "                     approveddate                creationdate  loanamount  \\\n",
       "0      2016-08-15 18:22:40.000000  2016-08-15 17:22:32.000000     10000.0   \n",
       "1      2017-04-28 18:39:07.000000  2017-04-28 17:38:53.000000     10000.0   \n",
       "2      2017-03-05 10:56:25.000000  2017-03-05 09:56:19.000000     20000.0   \n",
       "3      2017-06-01 13:34:30.000000  2017-06-01 12:34:21.000000     20000.0   \n",
       "4      2017-06-28 10:58:34.000000  2017-06-28 09:58:25.000000     20000.0   \n",
       "...                           ...                         ...         ...   \n",
       "18178  2017-06-16 18:16:37.000000  2017-06-16 17:15:29.000000     10000.0   \n",
       "18179  2017-06-29 01:25:57.000000  2017-06-29 00:25:48.000000     10000.0   \n",
       "18180  2017-01-19 14:00:16.000000  2017-01-19 13:00:02.000000     10000.0   \n",
       "18181  2017-06-21 20:19:29.000000  2017-06-21 19:18:21.000000     10000.0   \n",
       "18182  2016-08-27 20:03:45.000000  2016-08-27 19:03:34.000000     10000.0   \n",
       "\n",
       "       totaldue  termdays                  closeddate  \\\n",
       "0       13000.0        30  2016-09-01 16:06:48.000000   \n",
       "1       13000.0        30  2017-05-28 14:44:49.000000   \n",
       "2       23800.0        30  2017-04-26 22:18:56.000000   \n",
       "3       24500.0        30  2017-06-25 15:24:06.000000   \n",
       "4       24500.0        30  2017-07-25 08:14:36.000000   \n",
       "...         ...       ...                         ...   \n",
       "18178   11500.0        15  2017-06-26 14:02:03.000000   \n",
       "18179   11500.0        15  2017-07-05 14:31:17.000000   \n",
       "18180   11500.0        15  2017-02-15 09:06:34.000000   \n",
       "18181   13000.0        30  2017-07-07 17:08:47.000000   \n",
       "18182   13000.0        30  2016-10-15 10:17:54.000000   \n",
       "\n",
       "                             referredby  ...             firstrepaiddate  \\\n",
       "0                                   NaN  ...  2016-09-01 15:51:43.000000   \n",
       "1                                   NaN  ...  2017-05-26 00:00:00.000000   \n",
       "2                                   NaN  ...  2017-04-26 22:03:47.000000   \n",
       "3                                   NaN  ...  2017-06-25 15:13:56.000000   \n",
       "4                                   NaN  ...  2017-07-25 08:04:27.000000   \n",
       "...                                 ...  ...                         ...   \n",
       "18178                               NaN  ...  2017-06-26 13:51:54.000000   \n",
       "18179                               NaN  ...  2017-07-05 14:21:08.000000   \n",
       "18180                               NaN  ...  2017-02-15 08:51:25.000000   \n",
       "18181  8a858eaa55a0b8ae0155ad2cab5e49cc  ...  2017-07-07 16:58:38.000000   \n",
       "18182                               NaN  ...  2016-10-15 10:02:45.000000   \n",
       "\n",
       "      perfsystemloanid  perf_loannumber           perf_approveddate  \\\n",
       "0            301994762               12  2017-07-25 08:22:56.000000   \n",
       "1            301994762               12  2017-07-25 08:22:56.000000   \n",
       "2            301994762               12  2017-07-25 08:22:56.000000   \n",
       "3            301994762               12  2017-07-25 08:22:56.000000   \n",
       "4            301994762               12  2017-07-25 08:22:56.000000   \n",
       "...                ...              ...                         ...   \n",
       "18178        301978946                2  2017-07-15 10:42:38.000000   \n",
       "18179        301976025                2  2017-07-13 13:07:40.000000   \n",
       "18180        301969032                2  2017-07-08 10:12:52.000000   \n",
       "18181        301977456                2  2017-07-14 12:00:54.000000   \n",
       "18182        301996908                2  2017-07-26 12:48:14.000000   \n",
       "\n",
       "                perf_creationdate perf_loanamount  perf_totaldue  \\\n",
       "0      2017-07-25 07:22:47.000000         30000.0        34500.0   \n",
       "1      2017-07-25 07:22:47.000000         30000.0        34500.0   \n",
       "2      2017-07-25 07:22:47.000000         30000.0        34500.0   \n",
       "3      2017-07-25 07:22:47.000000         30000.0        34500.0   \n",
       "4      2017-07-25 07:22:47.000000         30000.0        34500.0   \n",
       "...                           ...             ...            ...   \n",
       "18178  2017-07-15 09:42:24.000000         10000.0        11500.0   \n",
       "18179  2017-07-13 12:07:32.000000         10000.0        13000.0   \n",
       "18180  2017-07-08 09:12:37.000000         10000.0        13000.0   \n",
       "18181  2017-07-14 11:00:48.000000         10000.0        13000.0   \n",
       "18182  2017-07-26 11:46:58.000000         10000.0        13000.0   \n",
       "\n",
       "       perf_termdays                   perf_referredby good_bad_flag  \n",
       "0                 30                               NaN          Good  \n",
       "1                 30                               NaN          Good  \n",
       "2                 30                               NaN          Good  \n",
       "3                 30                               NaN          Good  \n",
       "4                 30                               NaN          Good  \n",
       "...              ...                               ...           ...  \n",
       "18178             15                               NaN          Good  \n",
       "18179             30                               NaN          Good  \n",
       "18180             30                               NaN          Good  \n",
       "18181             30  8a858eaa55a0b8ae0155ad2cab5e49cc          Good  \n",
       "18182             30                               NaN           Bad  \n",
       "\n",
       "[18183 rows x 21 columns]"
      ]
     },
     "execution_count": 1904,
     "metadata": {},
     "output_type": "execute_result"
    }
   ],
   "source": [
    "previousCustomers"
   ]
  },
  {
   "cell_type": "code",
   "execution_count": 1905,
   "id": "fa663874",
   "metadata": {},
   "outputs": [
    {
     "name": "stdout",
     "output_type": "stream",
     "text": [
      "<class 'pandas.core.frame.DataFrame'>\n",
      "Int64Index: 18183 entries, 0 to 18182\n",
      "Data columns (total 21 columns):\n",
      " #   Column             Non-Null Count  Dtype  \n",
      "---  ------             --------------  -----  \n",
      " 0   customerid         18183 non-null  object \n",
      " 1   systemloanid       18183 non-null  int64  \n",
      " 2   loannumber         18183 non-null  int64  \n",
      " 3   approveddate       18183 non-null  object \n",
      " 4   creationdate       18183 non-null  object \n",
      " 5   loanamount         18183 non-null  float64\n",
      " 6   totaldue           18183 non-null  float64\n",
      " 7   termdays           18183 non-null  int64  \n",
      " 8   closeddate         18183 non-null  object \n",
      " 9   referredby         1026 non-null   object \n",
      " 10  firstduedate       18183 non-null  object \n",
      " 11  firstrepaiddate    18183 non-null  object \n",
      " 12  perfsystemloanid   18183 non-null  int64  \n",
      " 13  perf_loannumber    18183 non-null  int64  \n",
      " 14  perf_approveddate  18183 non-null  object \n",
      " 15  perf_creationdate  18183 non-null  object \n",
      " 16  perf_loanamount    18183 non-null  float64\n",
      " 17  perf_totaldue      18183 non-null  float64\n",
      " 18  perf_termdays      18183 non-null  int64  \n",
      " 19  perf_referredby    1026 non-null   object \n",
      " 20  good_bad_flag      18183 non-null  object \n",
      "dtypes: float64(4), int64(6), object(11)\n",
      "memory usage: 3.1+ MB\n"
     ]
    }
   ],
   "source": [
    "previousCustomers.info()"
   ]
  },
  {
   "cell_type": "markdown",
   "id": "5aa2e8af",
   "metadata": {},
   "source": [
    "Dropping the systemloanid columns as these are just transaction identifiers"
   ]
  },
  {
   "cell_type": "code",
   "execution_count": 1906,
   "id": "f5c46aee",
   "metadata": {},
   "outputs": [
    {
     "name": "stdout",
     "output_type": "stream",
     "text": [
      "<class 'pandas.core.frame.DataFrame'>\n",
      "Int64Index: 18183 entries, 0 to 18182\n",
      "Data columns (total 19 columns):\n",
      " #   Column             Non-Null Count  Dtype  \n",
      "---  ------             --------------  -----  \n",
      " 0   customerid         18183 non-null  object \n",
      " 1   loannumber         18183 non-null  int64  \n",
      " 2   approveddate       18183 non-null  object \n",
      " 3   creationdate       18183 non-null  object \n",
      " 4   loanamount         18183 non-null  float64\n",
      " 5   totaldue           18183 non-null  float64\n",
      " 6   termdays           18183 non-null  int64  \n",
      " 7   closeddate         18183 non-null  object \n",
      " 8   referredby         1026 non-null   object \n",
      " 9   firstduedate       18183 non-null  object \n",
      " 10  firstrepaiddate    18183 non-null  object \n",
      " 11  perf_loannumber    18183 non-null  int64  \n",
      " 12  perf_approveddate  18183 non-null  object \n",
      " 13  perf_creationdate  18183 non-null  object \n",
      " 14  perf_loanamount    18183 non-null  float64\n",
      " 15  perf_totaldue      18183 non-null  float64\n",
      " 16  perf_termdays      18183 non-null  int64  \n",
      " 17  perf_referredby    1026 non-null   object \n",
      " 18  good_bad_flag      18183 non-null  object \n",
      "dtypes: float64(4), int64(4), object(11)\n",
      "memory usage: 2.8+ MB\n"
     ]
    }
   ],
   "source": [
    "previousCustomers.drop(['systemloanid','perfsystemloanid'],axis=1,inplace=True)\n",
    "previousCustomers.info()"
   ]
  },
  {
   "cell_type": "code",
   "execution_count": 1907,
   "id": "27dafe16",
   "metadata": {},
   "outputs": [],
   "source": [
    "#adding the demographic data to the previousCustomers dataframe\n",
    "previousCustomers = pd.merge(previousCustomers, demographic, on='customerid')"
   ]
  },
  {
   "cell_type": "code",
   "execution_count": 1908,
   "id": "0afb0b24",
   "metadata": {},
   "outputs": [
    {
     "name": "stdout",
     "output_type": "stream",
     "text": [
      "<class 'pandas.core.frame.DataFrame'>\n",
      "Int64Index: 13673 entries, 0 to 13672\n",
      "Data columns (total 27 columns):\n",
      " #   Column                      Non-Null Count  Dtype  \n",
      "---  ------                      --------------  -----  \n",
      " 0   customerid                  13673 non-null  object \n",
      " 1   loannumber                  13673 non-null  int64  \n",
      " 2   approveddate                13673 non-null  object \n",
      " 3   creationdate                13673 non-null  object \n",
      " 4   loanamount                  13673 non-null  float64\n",
      " 5   totaldue                    13673 non-null  float64\n",
      " 6   termdays                    13673 non-null  int64  \n",
      " 7   closeddate                  13673 non-null  object \n",
      " 8   referredby                  800 non-null    object \n",
      " 9   firstduedate                13673 non-null  object \n",
      " 10  firstrepaiddate             13673 non-null  object \n",
      " 11  perf_loannumber             13673 non-null  int64  \n",
      " 12  perf_approveddate           13673 non-null  object \n",
      " 13  perf_creationdate           13673 non-null  object \n",
      " 14  perf_loanamount             13673 non-null  float64\n",
      " 15  perf_totaldue               13673 non-null  float64\n",
      " 16  perf_termdays               13673 non-null  int64  \n",
      " 17  perf_referredby             800 non-null    object \n",
      " 18  good_bad_flag               13673 non-null  object \n",
      " 19  birthdate                   13673 non-null  object \n",
      " 20  bank_account_type           13673 non-null  object \n",
      " 21  longitude_gps               13673 non-null  float64\n",
      " 22  latitude_gps                13673 non-null  float64\n",
      " 23  bank_name_clients           13673 non-null  object \n",
      " 24  bank_branch_clients         104 non-null    object \n",
      " 25  employment_status_clients   12310 non-null  object \n",
      " 26  level_of_education_clients  3464 non-null   object \n",
      "dtypes: float64(6), int64(4), object(17)\n",
      "memory usage: 2.9+ MB\n"
     ]
    }
   ],
   "source": [
    "previousCustomers.info()"
   ]
  },
  {
   "cell_type": "markdown",
   "id": "4c0111c2",
   "metadata": {},
   "source": [
    "##### looking at the data contained in the columns now to determine what columns will be used to train the model"
   ]
  },
  {
   "cell_type": "markdown",
   "id": "d1055f46",
   "metadata": {},
   "source": [
    "*columns containing non-numerical data*"
   ]
  },
  {
   "cell_type": "code",
   "execution_count": 1909,
   "id": "f95fe640",
   "metadata": {},
   "outputs": [
    {
     "name": "stdout",
     "output_type": "stream",
     "text": [
      "There are 17 categorical variables \n",
      "\n",
      "They are:  ['customerid', 'approveddate', 'creationdate', 'closeddate', 'referredby', 'firstduedate', 'firstrepaiddate', 'perf_approveddate', 'perf_creationdate', 'perf_referredby', 'good_bad_flag', 'birthdate', 'bank_account_type', 'bank_name_clients', 'bank_branch_clients', 'employment_status_clients', 'level_of_education_clients']\n"
     ]
    }
   ],
   "source": [
    "categorical = [var for var in previousCustomers.columns if previousCustomers[var].dtype=='O']\n",
    "\n",
    "print('There are {} categorical variables \\n'.format(len(categorical)))\n",
    "\n",
    "print('They are: ', categorical)"
   ]
  },
  {
   "cell_type": "code",
   "execution_count": 1910,
   "id": "d9b31812",
   "metadata": {},
   "outputs": [
    {
     "data": {
      "text/html": [
       "<div>\n",
       "<style scoped>\n",
       "    .dataframe tbody tr th:only-of-type {\n",
       "        vertical-align: middle;\n",
       "    }\n",
       "\n",
       "    .dataframe tbody tr th {\n",
       "        vertical-align: top;\n",
       "    }\n",
       "\n",
       "    .dataframe thead th {\n",
       "        text-align: right;\n",
       "    }\n",
       "</style>\n",
       "<table border=\"1\" class=\"dataframe\">\n",
       "  <thead>\n",
       "    <tr style=\"text-align: right;\">\n",
       "      <th></th>\n",
       "      <th>customerid</th>\n",
       "      <th>approveddate</th>\n",
       "      <th>creationdate</th>\n",
       "      <th>closeddate</th>\n",
       "      <th>referredby</th>\n",
       "      <th>firstduedate</th>\n",
       "      <th>firstrepaiddate</th>\n",
       "      <th>perf_approveddate</th>\n",
       "      <th>perf_creationdate</th>\n",
       "      <th>perf_referredby</th>\n",
       "      <th>good_bad_flag</th>\n",
       "      <th>birthdate</th>\n",
       "      <th>bank_account_type</th>\n",
       "      <th>bank_name_clients</th>\n",
       "      <th>bank_branch_clients</th>\n",
       "      <th>employment_status_clients</th>\n",
       "      <th>level_of_education_clients</th>\n",
       "    </tr>\n",
       "  </thead>\n",
       "  <tbody>\n",
       "    <tr>\n",
       "      <th>0</th>\n",
       "      <td>8a2a81a74ce8c05d014cfb32a0da1049</td>\n",
       "      <td>2016-08-15 18:22:40.000000</td>\n",
       "      <td>2016-08-15 17:22:32.000000</td>\n",
       "      <td>2016-09-01 16:06:48.000000</td>\n",
       "      <td>NaN</td>\n",
       "      <td>2016-09-14 00:00:00.000000</td>\n",
       "      <td>2016-09-01 15:51:43.000000</td>\n",
       "      <td>2017-07-25 08:22:56.000000</td>\n",
       "      <td>2017-07-25 07:22:47.000000</td>\n",
       "      <td>NaN</td>\n",
       "      <td>Good</td>\n",
       "      <td>1972-01-15 00:00:00.000000</td>\n",
       "      <td>Other</td>\n",
       "      <td>Diamond Bank</td>\n",
       "      <td>NaN</td>\n",
       "      <td>Permanent</td>\n",
       "      <td>Post-Graduate</td>\n",
       "    </tr>\n",
       "    <tr>\n",
       "      <th>1</th>\n",
       "      <td>8a2a81a74ce8c05d014cfb32a0da1049</td>\n",
       "      <td>2017-04-28 18:39:07.000000</td>\n",
       "      <td>2017-04-28 17:38:53.000000</td>\n",
       "      <td>2017-05-28 14:44:49.000000</td>\n",
       "      <td>NaN</td>\n",
       "      <td>2017-05-30 00:00:00.000000</td>\n",
       "      <td>2017-05-26 00:00:00.000000</td>\n",
       "      <td>2017-07-25 08:22:56.000000</td>\n",
       "      <td>2017-07-25 07:22:47.000000</td>\n",
       "      <td>NaN</td>\n",
       "      <td>Good</td>\n",
       "      <td>1972-01-15 00:00:00.000000</td>\n",
       "      <td>Other</td>\n",
       "      <td>Diamond Bank</td>\n",
       "      <td>NaN</td>\n",
       "      <td>Permanent</td>\n",
       "      <td>Post-Graduate</td>\n",
       "    </tr>\n",
       "    <tr>\n",
       "      <th>2</th>\n",
       "      <td>8a2a81a74ce8c05d014cfb32a0da1049</td>\n",
       "      <td>2017-03-05 10:56:25.000000</td>\n",
       "      <td>2017-03-05 09:56:19.000000</td>\n",
       "      <td>2017-04-26 22:18:56.000000</td>\n",
       "      <td>NaN</td>\n",
       "      <td>2017-04-04 00:00:00.000000</td>\n",
       "      <td>2017-04-26 22:03:47.000000</td>\n",
       "      <td>2017-07-25 08:22:56.000000</td>\n",
       "      <td>2017-07-25 07:22:47.000000</td>\n",
       "      <td>NaN</td>\n",
       "      <td>Good</td>\n",
       "      <td>1972-01-15 00:00:00.000000</td>\n",
       "      <td>Other</td>\n",
       "      <td>Diamond Bank</td>\n",
       "      <td>NaN</td>\n",
       "      <td>Permanent</td>\n",
       "      <td>Post-Graduate</td>\n",
       "    </tr>\n",
       "    <tr>\n",
       "      <th>3</th>\n",
       "      <td>8a2a81a74ce8c05d014cfb32a0da1049</td>\n",
       "      <td>2017-06-01 13:34:30.000000</td>\n",
       "      <td>2017-06-01 12:34:21.000000</td>\n",
       "      <td>2017-06-25 15:24:06.000000</td>\n",
       "      <td>NaN</td>\n",
       "      <td>2017-07-03 00:00:00.000000</td>\n",
       "      <td>2017-06-25 15:13:56.000000</td>\n",
       "      <td>2017-07-25 08:22:56.000000</td>\n",
       "      <td>2017-07-25 07:22:47.000000</td>\n",
       "      <td>NaN</td>\n",
       "      <td>Good</td>\n",
       "      <td>1972-01-15 00:00:00.000000</td>\n",
       "      <td>Other</td>\n",
       "      <td>Diamond Bank</td>\n",
       "      <td>NaN</td>\n",
       "      <td>Permanent</td>\n",
       "      <td>Post-Graduate</td>\n",
       "    </tr>\n",
       "    <tr>\n",
       "      <th>4</th>\n",
       "      <td>8a2a81a74ce8c05d014cfb32a0da1049</td>\n",
       "      <td>2017-06-28 10:58:34.000000</td>\n",
       "      <td>2017-06-28 09:58:25.000000</td>\n",
       "      <td>2017-07-25 08:14:36.000000</td>\n",
       "      <td>NaN</td>\n",
       "      <td>2017-07-31 00:00:00.000000</td>\n",
       "      <td>2017-07-25 08:04:27.000000</td>\n",
       "      <td>2017-07-25 08:22:56.000000</td>\n",
       "      <td>2017-07-25 07:22:47.000000</td>\n",
       "      <td>NaN</td>\n",
       "      <td>Good</td>\n",
       "      <td>1972-01-15 00:00:00.000000</td>\n",
       "      <td>Other</td>\n",
       "      <td>Diamond Bank</td>\n",
       "      <td>NaN</td>\n",
       "      <td>Permanent</td>\n",
       "      <td>Post-Graduate</td>\n",
       "    </tr>\n",
       "  </tbody>\n",
       "</table>\n",
       "</div>"
      ],
      "text/plain": [
       "                         customerid                approveddate  \\\n",
       "0  8a2a81a74ce8c05d014cfb32a0da1049  2016-08-15 18:22:40.000000   \n",
       "1  8a2a81a74ce8c05d014cfb32a0da1049  2017-04-28 18:39:07.000000   \n",
       "2  8a2a81a74ce8c05d014cfb32a0da1049  2017-03-05 10:56:25.000000   \n",
       "3  8a2a81a74ce8c05d014cfb32a0da1049  2017-06-01 13:34:30.000000   \n",
       "4  8a2a81a74ce8c05d014cfb32a0da1049  2017-06-28 10:58:34.000000   \n",
       "\n",
       "                 creationdate                  closeddate referredby  \\\n",
       "0  2016-08-15 17:22:32.000000  2016-09-01 16:06:48.000000        NaN   \n",
       "1  2017-04-28 17:38:53.000000  2017-05-28 14:44:49.000000        NaN   \n",
       "2  2017-03-05 09:56:19.000000  2017-04-26 22:18:56.000000        NaN   \n",
       "3  2017-06-01 12:34:21.000000  2017-06-25 15:24:06.000000        NaN   \n",
       "4  2017-06-28 09:58:25.000000  2017-07-25 08:14:36.000000        NaN   \n",
       "\n",
       "                 firstduedate             firstrepaiddate  \\\n",
       "0  2016-09-14 00:00:00.000000  2016-09-01 15:51:43.000000   \n",
       "1  2017-05-30 00:00:00.000000  2017-05-26 00:00:00.000000   \n",
       "2  2017-04-04 00:00:00.000000  2017-04-26 22:03:47.000000   \n",
       "3  2017-07-03 00:00:00.000000  2017-06-25 15:13:56.000000   \n",
       "4  2017-07-31 00:00:00.000000  2017-07-25 08:04:27.000000   \n",
       "\n",
       "            perf_approveddate           perf_creationdate perf_referredby  \\\n",
       "0  2017-07-25 08:22:56.000000  2017-07-25 07:22:47.000000             NaN   \n",
       "1  2017-07-25 08:22:56.000000  2017-07-25 07:22:47.000000             NaN   \n",
       "2  2017-07-25 08:22:56.000000  2017-07-25 07:22:47.000000             NaN   \n",
       "3  2017-07-25 08:22:56.000000  2017-07-25 07:22:47.000000             NaN   \n",
       "4  2017-07-25 08:22:56.000000  2017-07-25 07:22:47.000000             NaN   \n",
       "\n",
       "  good_bad_flag                   birthdate bank_account_type  \\\n",
       "0          Good  1972-01-15 00:00:00.000000             Other   \n",
       "1          Good  1972-01-15 00:00:00.000000             Other   \n",
       "2          Good  1972-01-15 00:00:00.000000             Other   \n",
       "3          Good  1972-01-15 00:00:00.000000             Other   \n",
       "4          Good  1972-01-15 00:00:00.000000             Other   \n",
       "\n",
       "  bank_name_clients bank_branch_clients employment_status_clients  \\\n",
       "0      Diamond Bank                 NaN                 Permanent   \n",
       "1      Diamond Bank                 NaN                 Permanent   \n",
       "2      Diamond Bank                 NaN                 Permanent   \n",
       "3      Diamond Bank                 NaN                 Permanent   \n",
       "4      Diamond Bank                 NaN                 Permanent   \n",
       "\n",
       "  level_of_education_clients  \n",
       "0              Post-Graduate  \n",
       "1              Post-Graduate  \n",
       "2              Post-Graduate  \n",
       "3              Post-Graduate  \n",
       "4              Post-Graduate  "
      ]
     },
     "execution_count": 1910,
     "metadata": {},
     "output_type": "execute_result"
    }
   ],
   "source": [
    "previousCustomers[categorical].head()"
   ]
  },
  {
   "cell_type": "markdown",
   "id": "458f6564",
   "metadata": {},
   "source": [
    "##### customer id column: Primary key used to merge to other data"
   ]
  },
  {
   "cell_type": "code",
   "execution_count": 1911,
   "id": "fc33fd3b",
   "metadata": {},
   "outputs": [
    {
     "data": {
      "text/plain": [
       "3264"
      ]
     },
     "execution_count": 1911,
     "metadata": {},
     "output_type": "execute_result"
    }
   ],
   "source": [
    "len(previousCustomers['customerid'].unique())"
   ]
  },
  {
   "cell_type": "markdown",
   "id": "2f3b7aab",
   "metadata": {},
   "source": [
    "customer id column has a high cardinality and is used to uniquely identify the customers. This feature will not be used for model training."
   ]
  },
  {
   "cell_type": "markdown",
   "id": "7ce9caa6",
   "metadata": {},
   "source": [
    "##### approved date column : Date that loan was approved"
   ]
  },
  {
   "cell_type": "code",
   "execution_count": 1912,
   "id": "03a02d80",
   "metadata": {},
   "outputs": [
    {
     "data": {
      "text/plain": [
       "13666"
      ]
     },
     "execution_count": 1912,
     "metadata": {},
     "output_type": "execute_result"
    }
   ],
   "source": [
    "len(previousCustomers['approveddate'].unique())"
   ]
  },
  {
   "cell_type": "markdown",
   "id": "29d7acf5",
   "metadata": {},
   "source": [
    "approved date column has a high cardinality. It will not be used because we don't believe the approval data for a loan holds a significance towards whether a loan may be bad or good."
   ]
  },
  {
   "cell_type": "markdown",
   "id": "98632f87",
   "metadata": {},
   "source": [
    "##### creation date column : Date that loan application was created"
   ]
  },
  {
   "cell_type": "code",
   "execution_count": 1913,
   "id": "27c50226",
   "metadata": {},
   "outputs": [
    {
     "data": {
      "text/plain": [
       "13666"
      ]
     },
     "execution_count": 1913,
     "metadata": {},
     "output_type": "execute_result"
    }
   ],
   "source": [
    "len(previousCustomers['creationdate'].unique())"
   ]
  },
  {
   "cell_type": "markdown",
   "id": "6236b21f",
   "metadata": {},
   "source": [
    "creation date column has a high cardinality. It will not be selected as feature to train the model because we do not believe the creation date for a loan holds a significance towards whether a loan may be bad or good"
   ]
  },
  {
   "cell_type": "markdown",
   "id": "d662a534",
   "metadata": {},
   "source": [
    "##### closed date column : Date that the loan was settled"
   ]
  },
  {
   "cell_type": "markdown",
   "id": "9c1895eb",
   "metadata": {},
   "source": [
    "closed date column has a high cardinality. Since we have a loan creation date, we can arrive at how long the loan was active until it was settled. This time period can then be used as a new feature to train the model. Let's look more at the closed dates and see if there is a relationship  between the closing dates and good/bad loans."
   ]
  },
  {
   "cell_type": "code",
   "execution_count": 1914,
   "id": "51d3a2c7",
   "metadata": {},
   "outputs": [
    {
     "data": {
      "text/html": [
       "<div>\n",
       "<style scoped>\n",
       "    .dataframe tbody tr th:only-of-type {\n",
       "        vertical-align: middle;\n",
       "    }\n",
       "\n",
       "    .dataframe tbody tr th {\n",
       "        vertical-align: top;\n",
       "    }\n",
       "\n",
       "    .dataframe thead th {\n",
       "        text-align: right;\n",
       "    }\n",
       "</style>\n",
       "<table border=\"1\" class=\"dataframe\">\n",
       "  <thead>\n",
       "    <tr style=\"text-align: right;\">\n",
       "      <th></th>\n",
       "      <th>closeddate</th>\n",
       "      <th>good_bad_flag</th>\n",
       "    </tr>\n",
       "  </thead>\n",
       "  <tbody>\n",
       "    <tr>\n",
       "      <th>0</th>\n",
       "      <td>2016-09-01 16:06:48.000000</td>\n",
       "      <td>Good</td>\n",
       "    </tr>\n",
       "    <tr>\n",
       "      <th>1</th>\n",
       "      <td>2017-05-28 14:44:49.000000</td>\n",
       "      <td>Good</td>\n",
       "    </tr>\n",
       "    <tr>\n",
       "      <th>2</th>\n",
       "      <td>2017-04-26 22:18:56.000000</td>\n",
       "      <td>Good</td>\n",
       "    </tr>\n",
       "    <tr>\n",
       "      <th>3</th>\n",
       "      <td>2017-06-25 15:24:06.000000</td>\n",
       "      <td>Good</td>\n",
       "    </tr>\n",
       "    <tr>\n",
       "      <th>4</th>\n",
       "      <td>2017-07-25 08:14:36.000000</td>\n",
       "      <td>Good</td>\n",
       "    </tr>\n",
       "    <tr>\n",
       "      <th>...</th>\n",
       "      <td>...</td>\n",
       "      <td>...</td>\n",
       "    </tr>\n",
       "    <tr>\n",
       "      <th>13668</th>\n",
       "      <td>2017-07-18 16:33:55.000000</td>\n",
       "      <td>Good</td>\n",
       "    </tr>\n",
       "    <tr>\n",
       "      <th>13669</th>\n",
       "      <td>2017-07-11 14:26:40.000000</td>\n",
       "      <td>Good</td>\n",
       "    </tr>\n",
       "    <tr>\n",
       "      <th>13670</th>\n",
       "      <td>2017-06-26 14:02:03.000000</td>\n",
       "      <td>Good</td>\n",
       "    </tr>\n",
       "    <tr>\n",
       "      <th>13671</th>\n",
       "      <td>2017-07-05 14:31:17.000000</td>\n",
       "      <td>Good</td>\n",
       "    </tr>\n",
       "    <tr>\n",
       "      <th>13672</th>\n",
       "      <td>2017-02-15 09:06:34.000000</td>\n",
       "      <td>Good</td>\n",
       "    </tr>\n",
       "  </tbody>\n",
       "</table>\n",
       "<p>13673 rows × 2 columns</p>\n",
       "</div>"
      ],
      "text/plain": [
       "                       closeddate good_bad_flag\n",
       "0      2016-09-01 16:06:48.000000          Good\n",
       "1      2017-05-28 14:44:49.000000          Good\n",
       "2      2017-04-26 22:18:56.000000          Good\n",
       "3      2017-06-25 15:24:06.000000          Good\n",
       "4      2017-07-25 08:14:36.000000          Good\n",
       "...                           ...           ...\n",
       "13668  2017-07-18 16:33:55.000000          Good\n",
       "13669  2017-07-11 14:26:40.000000          Good\n",
       "13670  2017-06-26 14:02:03.000000          Good\n",
       "13671  2017-07-05 14:31:17.000000          Good\n",
       "13672  2017-02-15 09:06:34.000000          Good\n",
       "\n",
       "[13673 rows x 2 columns]"
      ]
     },
     "execution_count": 1914,
     "metadata": {},
     "output_type": "execute_result"
    }
   ],
   "source": [
    "#extracting the closed date of customer's loans\n",
    "closedDates = previousCustomers[['closeddate','good_bad_flag']]\n",
    "closedDates"
   ]
  },
  {
   "cell_type": "markdown",
   "id": "a7a0061a",
   "metadata": {},
   "source": [
    " going to break down the date and individual components, ie year, month and day and time. Then proceed to gain insights into the relationship between date/time and bad/good loans"
   ]
  },
  {
   "cell_type": "code",
   "execution_count": 1915,
   "id": "e9656bb4",
   "metadata": {},
   "outputs": [],
   "source": [
    "#converting 'closeddate' columns into datetime object\n",
    "closedDates['closeddate'] = pd.to_datetime(closedDates['closeddate'])"
   ]
  },
  {
   "cell_type": "code",
   "execution_count": 1916,
   "id": "fad82277",
   "metadata": {},
   "outputs": [
    {
     "name": "stdout",
     "output_type": "stream",
     "text": [
      "<class 'pandas.core.frame.DataFrame'>\n",
      "Int64Index: 13673 entries, 0 to 13672\n",
      "Data columns (total 2 columns):\n",
      " #   Column         Non-Null Count  Dtype         \n",
      "---  ------         --------------  -----         \n",
      " 0   closeddate     13673 non-null  datetime64[ns]\n",
      " 1   good_bad_flag  13673 non-null  object        \n",
      "dtypes: datetime64[ns](1), object(1)\n",
      "memory usage: 320.5+ KB\n"
     ]
    }
   ],
   "source": [
    "#checking to see the closeddate column datatype\n",
    "closedDates.info()"
   ]
  },
  {
   "cell_type": "code",
   "execution_count": 1917,
   "id": "f1675557",
   "metadata": {},
   "outputs": [
    {
     "data": {
      "text/html": [
       "<div>\n",
       "<style scoped>\n",
       "    .dataframe tbody tr th:only-of-type {\n",
       "        vertical-align: middle;\n",
       "    }\n",
       "\n",
       "    .dataframe tbody tr th {\n",
       "        vertical-align: top;\n",
       "    }\n",
       "\n",
       "    .dataframe thead th {\n",
       "        text-align: right;\n",
       "    }\n",
       "</style>\n",
       "<table border=\"1\" class=\"dataframe\">\n",
       "  <thead>\n",
       "    <tr style=\"text-align: right;\">\n",
       "      <th></th>\n",
       "      <th>closeddate</th>\n",
       "      <th>good_bad_flag</th>\n",
       "      <th>year</th>\n",
       "    </tr>\n",
       "  </thead>\n",
       "  <tbody>\n",
       "    <tr>\n",
       "      <th>0</th>\n",
       "      <td>2016-09-01 16:06:48</td>\n",
       "      <td>Good</td>\n",
       "      <td>2016</td>\n",
       "    </tr>\n",
       "    <tr>\n",
       "      <th>1</th>\n",
       "      <td>2017-05-28 14:44:49</td>\n",
       "      <td>Good</td>\n",
       "      <td>2017</td>\n",
       "    </tr>\n",
       "    <tr>\n",
       "      <th>2</th>\n",
       "      <td>2017-04-26 22:18:56</td>\n",
       "      <td>Good</td>\n",
       "      <td>2017</td>\n",
       "    </tr>\n",
       "    <tr>\n",
       "      <th>3</th>\n",
       "      <td>2017-06-25 15:24:06</td>\n",
       "      <td>Good</td>\n",
       "      <td>2017</td>\n",
       "    </tr>\n",
       "    <tr>\n",
       "      <th>4</th>\n",
       "      <td>2017-07-25 08:14:36</td>\n",
       "      <td>Good</td>\n",
       "      <td>2017</td>\n",
       "    </tr>\n",
       "  </tbody>\n",
       "</table>\n",
       "</div>"
      ],
      "text/plain": [
       "           closeddate good_bad_flag  year\n",
       "0 2016-09-01 16:06:48          Good  2016\n",
       "1 2017-05-28 14:44:49          Good  2017\n",
       "2 2017-04-26 22:18:56          Good  2017\n",
       "3 2017-06-25 15:24:06          Good  2017\n",
       "4 2017-07-25 08:14:36          Good  2017"
      ]
     },
     "execution_count": 1917,
     "metadata": {},
     "output_type": "execute_result"
    }
   ],
   "source": [
    "#extracting the year from closeddate column\n",
    "closedDates['year'] = closedDates['closeddate'].dt.year\n",
    "closedDates.head()"
   ]
  },
  {
   "cell_type": "code",
   "execution_count": 1918,
   "id": "90bf581e",
   "metadata": {},
   "outputs": [
    {
     "data": {
      "text/html": [
       "<div>\n",
       "<style scoped>\n",
       "    .dataframe tbody tr th:only-of-type {\n",
       "        vertical-align: middle;\n",
       "    }\n",
       "\n",
       "    .dataframe tbody tr th {\n",
       "        vertical-align: top;\n",
       "    }\n",
       "\n",
       "    .dataframe thead th {\n",
       "        text-align: right;\n",
       "    }\n",
       "</style>\n",
       "<table border=\"1\" class=\"dataframe\">\n",
       "  <thead>\n",
       "    <tr style=\"text-align: right;\">\n",
       "      <th></th>\n",
       "      <th>closeddate</th>\n",
       "      <th>good_bad_flag</th>\n",
       "      <th>year</th>\n",
       "      <th>month</th>\n",
       "    </tr>\n",
       "  </thead>\n",
       "  <tbody>\n",
       "    <tr>\n",
       "      <th>0</th>\n",
       "      <td>2016-09-01 16:06:48</td>\n",
       "      <td>Good</td>\n",
       "      <td>2016</td>\n",
       "      <td>9</td>\n",
       "    </tr>\n",
       "    <tr>\n",
       "      <th>1</th>\n",
       "      <td>2017-05-28 14:44:49</td>\n",
       "      <td>Good</td>\n",
       "      <td>2017</td>\n",
       "      <td>5</td>\n",
       "    </tr>\n",
       "    <tr>\n",
       "      <th>2</th>\n",
       "      <td>2017-04-26 22:18:56</td>\n",
       "      <td>Good</td>\n",
       "      <td>2017</td>\n",
       "      <td>4</td>\n",
       "    </tr>\n",
       "    <tr>\n",
       "      <th>3</th>\n",
       "      <td>2017-06-25 15:24:06</td>\n",
       "      <td>Good</td>\n",
       "      <td>2017</td>\n",
       "      <td>6</td>\n",
       "    </tr>\n",
       "    <tr>\n",
       "      <th>4</th>\n",
       "      <td>2017-07-25 08:14:36</td>\n",
       "      <td>Good</td>\n",
       "      <td>2017</td>\n",
       "      <td>7</td>\n",
       "    </tr>\n",
       "  </tbody>\n",
       "</table>\n",
       "</div>"
      ],
      "text/plain": [
       "           closeddate good_bad_flag  year  month\n",
       "0 2016-09-01 16:06:48          Good  2016      9\n",
       "1 2017-05-28 14:44:49          Good  2017      5\n",
       "2 2017-04-26 22:18:56          Good  2017      4\n",
       "3 2017-06-25 15:24:06          Good  2017      6\n",
       "4 2017-07-25 08:14:36          Good  2017      7"
      ]
     },
     "execution_count": 1918,
     "metadata": {},
     "output_type": "execute_result"
    }
   ],
   "source": [
    "#extracting the month from closeddate column\n",
    "closedDates['month'] = closedDates['closeddate'].dt.month\n",
    "closedDates.head()"
   ]
  },
  {
   "cell_type": "code",
   "execution_count": 1919,
   "id": "9e787dd3",
   "metadata": {},
   "outputs": [
    {
     "data": {
      "text/html": [
       "<div>\n",
       "<style scoped>\n",
       "    .dataframe tbody tr th:only-of-type {\n",
       "        vertical-align: middle;\n",
       "    }\n",
       "\n",
       "    .dataframe tbody tr th {\n",
       "        vertical-align: top;\n",
       "    }\n",
       "\n",
       "    .dataframe thead th {\n",
       "        text-align: right;\n",
       "    }\n",
       "</style>\n",
       "<table border=\"1\" class=\"dataframe\">\n",
       "  <thead>\n",
       "    <tr style=\"text-align: right;\">\n",
       "      <th></th>\n",
       "      <th>closeddate</th>\n",
       "      <th>good_bad_flag</th>\n",
       "      <th>year</th>\n",
       "      <th>month</th>\n",
       "      <th>day</th>\n",
       "    </tr>\n",
       "  </thead>\n",
       "  <tbody>\n",
       "    <tr>\n",
       "      <th>0</th>\n",
       "      <td>2016-09-01 16:06:48</td>\n",
       "      <td>Good</td>\n",
       "      <td>2016</td>\n",
       "      <td>9</td>\n",
       "      <td>1</td>\n",
       "    </tr>\n",
       "    <tr>\n",
       "      <th>1</th>\n",
       "      <td>2017-05-28 14:44:49</td>\n",
       "      <td>Good</td>\n",
       "      <td>2017</td>\n",
       "      <td>5</td>\n",
       "      <td>28</td>\n",
       "    </tr>\n",
       "    <tr>\n",
       "      <th>2</th>\n",
       "      <td>2017-04-26 22:18:56</td>\n",
       "      <td>Good</td>\n",
       "      <td>2017</td>\n",
       "      <td>4</td>\n",
       "      <td>26</td>\n",
       "    </tr>\n",
       "    <tr>\n",
       "      <th>3</th>\n",
       "      <td>2017-06-25 15:24:06</td>\n",
       "      <td>Good</td>\n",
       "      <td>2017</td>\n",
       "      <td>6</td>\n",
       "      <td>25</td>\n",
       "    </tr>\n",
       "    <tr>\n",
       "      <th>4</th>\n",
       "      <td>2017-07-25 08:14:36</td>\n",
       "      <td>Good</td>\n",
       "      <td>2017</td>\n",
       "      <td>7</td>\n",
       "      <td>25</td>\n",
       "    </tr>\n",
       "  </tbody>\n",
       "</table>\n",
       "</div>"
      ],
      "text/plain": [
       "           closeddate good_bad_flag  year  month  day\n",
       "0 2016-09-01 16:06:48          Good  2016      9    1\n",
       "1 2017-05-28 14:44:49          Good  2017      5   28\n",
       "2 2017-04-26 22:18:56          Good  2017      4   26\n",
       "3 2017-06-25 15:24:06          Good  2017      6   25\n",
       "4 2017-07-25 08:14:36          Good  2017      7   25"
      ]
     },
     "execution_count": 1919,
     "metadata": {},
     "output_type": "execute_result"
    }
   ],
   "source": [
    "#extracting the day from closeddate column\n",
    "closedDates['day'] = closedDates['closeddate'].dt.day\n",
    "closedDates.head()"
   ]
  },
  {
   "cell_type": "code",
   "execution_count": 1920,
   "id": "3b706aaf",
   "metadata": {},
   "outputs": [
    {
     "data": {
      "text/html": [
       "<div>\n",
       "<style scoped>\n",
       "    .dataframe tbody tr th:only-of-type {\n",
       "        vertical-align: middle;\n",
       "    }\n",
       "\n",
       "    .dataframe tbody tr th {\n",
       "        vertical-align: top;\n",
       "    }\n",
       "\n",
       "    .dataframe thead th {\n",
       "        text-align: right;\n",
       "    }\n",
       "</style>\n",
       "<table border=\"1\" class=\"dataframe\">\n",
       "  <thead>\n",
       "    <tr style=\"text-align: right;\">\n",
       "      <th></th>\n",
       "      <th>closeddate</th>\n",
       "      <th>good_bad_flag</th>\n",
       "      <th>year</th>\n",
       "      <th>month</th>\n",
       "      <th>day</th>\n",
       "      <th>hourOfDay</th>\n",
       "    </tr>\n",
       "  </thead>\n",
       "  <tbody>\n",
       "    <tr>\n",
       "      <th>0</th>\n",
       "      <td>2016-09-01 16:06:48</td>\n",
       "      <td>Good</td>\n",
       "      <td>2016</td>\n",
       "      <td>9</td>\n",
       "      <td>1</td>\n",
       "      <td>16</td>\n",
       "    </tr>\n",
       "    <tr>\n",
       "      <th>1</th>\n",
       "      <td>2017-05-28 14:44:49</td>\n",
       "      <td>Good</td>\n",
       "      <td>2017</td>\n",
       "      <td>5</td>\n",
       "      <td>28</td>\n",
       "      <td>14</td>\n",
       "    </tr>\n",
       "    <tr>\n",
       "      <th>2</th>\n",
       "      <td>2017-04-26 22:18:56</td>\n",
       "      <td>Good</td>\n",
       "      <td>2017</td>\n",
       "      <td>4</td>\n",
       "      <td>26</td>\n",
       "      <td>22</td>\n",
       "    </tr>\n",
       "    <tr>\n",
       "      <th>3</th>\n",
       "      <td>2017-06-25 15:24:06</td>\n",
       "      <td>Good</td>\n",
       "      <td>2017</td>\n",
       "      <td>6</td>\n",
       "      <td>25</td>\n",
       "      <td>15</td>\n",
       "    </tr>\n",
       "    <tr>\n",
       "      <th>4</th>\n",
       "      <td>2017-07-25 08:14:36</td>\n",
       "      <td>Good</td>\n",
       "      <td>2017</td>\n",
       "      <td>7</td>\n",
       "      <td>25</td>\n",
       "      <td>8</td>\n",
       "    </tr>\n",
       "  </tbody>\n",
       "</table>\n",
       "</div>"
      ],
      "text/plain": [
       "           closeddate good_bad_flag  year  month  day  hourOfDay\n",
       "0 2016-09-01 16:06:48          Good  2016      9    1         16\n",
       "1 2017-05-28 14:44:49          Good  2017      5   28         14\n",
       "2 2017-04-26 22:18:56          Good  2017      4   26         22\n",
       "3 2017-06-25 15:24:06          Good  2017      6   25         15\n",
       "4 2017-07-25 08:14:36          Good  2017      7   25          8"
      ]
     },
     "execution_count": 1920,
     "metadata": {},
     "output_type": "execute_result"
    }
   ],
   "source": [
    "#extracting the hour from closeddate column\n",
    "closedDates['hourOfDay'] = closedDates['closeddate'].dt.hour\n",
    "closedDates.head()"
   ]
  },
  {
   "cell_type": "code",
   "execution_count": 1921,
   "id": "6eaa6943",
   "metadata": {},
   "outputs": [
    {
     "data": {
      "text/plain": [
       "array([16, 14, 22, 15,  8, 13, 18, 11,  1,  4,  0, 10, 17, 21, 23,  9, 20,\n",
       "       12,  5,  6, 19,  7,  3,  2])"
      ]
     },
     "execution_count": 1921,
     "metadata": {},
     "output_type": "execute_result"
    }
   ],
   "source": [
    "#checking to see if the hours are in 12-hour or 24-hour format\n",
    "closedDates['hourOfDay'].unique()"
   ]
  },
  {
   "cell_type": "markdown",
   "id": "b8f7926c",
   "metadata": {},
   "source": [
    "the hour is recorded in 24 hour clock which is desirable so we can differentiate between the times i.e 3 in the morning and 3 in the evening."
   ]
  },
  {
   "cell_type": "code",
   "execution_count": 1922,
   "id": "b6594d18",
   "metadata": {},
   "outputs": [
    {
     "data": {
      "text/plain": [
       "array([2016, 2017])"
      ]
     },
     "execution_count": 1922,
     "metadata": {},
     "output_type": "execute_result"
    }
   ],
   "source": [
    "closedDates['year'].unique()"
   ]
  },
  {
   "cell_type": "markdown",
   "id": "1905b4cd",
   "metadata": {},
   "source": [
    "This dataset contains records for only the years 2016 and 2017."
   ]
  },
  {
   "cell_type": "code",
   "execution_count": 1923,
   "id": "270486e9",
   "metadata": {},
   "outputs": [
    {
     "data": {
      "image/png": "[encoded data removed]",
      "text/plain": [
       "<Figure size 360x288 with 1 Axes>"
      ]
     },
     "metadata": {
      "needs_background": "light"
     },
     "output_type": "display_data"
    }
   ],
   "source": [
    "#plotting a stacked bar graph to show the loans(good and bad) in the years 2016 and 2017\n",
    "\n",
    "closedDates.groupby(['year','good_bad_flag']).size().unstack().plot(kind='bar',stacked=True,rot=0)\n",
    "plt.xlabel('Year')\n",
    "plt.ylabel('Number of bad/good loans')\n",
    "\n",
    "plt.title('A look at the number of good and bad loans through the years 2016 and 2017')\n",
    "\n",
    "#getting current figure instance and setting width\n",
    "f = plt.gcf()\n",
    "f.set_figwidth(5) "
   ]
  },
  {
   "cell_type": "markdown",
   "id": "0a137c81",
   "metadata": {},
   "source": [
    "From the graph above, we can see that the number of bad loans increased from 2016 to 2017 as well as the overall number of loans being taken out"
   ]
  },
  {
   "cell_type": "markdown",
   "id": "528760b9",
   "metadata": {},
   "source": [
    "From this graph as well we can notice that our data is imbalance with the good loans outnumbering the bad loans by a large margin. This will be dealt on ahead in the notebook."
   ]
  },
  {
   "cell_type": "code",
   "execution_count": 1924,
   "id": "616bf68e",
   "metadata": {},
   "outputs": [
    {
     "data": {
      "image/png": "[encoded data removed]",
      "text/plain": [
       "<Figure size 720x288 with 1 Axes>"
      ]
     },
     "metadata": {
      "needs_background": "light"
     },
     "output_type": "display_data"
    }
   ],
   "source": [
    "closedDates.groupby(['month','good_bad_flag']).size().unstack().plot(kind='bar',stacked=True,rot=0)\n",
    "plt.xlabel('Months of the year')\n",
    "plt.ylabel('Number of bad/good loans')\n",
    "plt.title('A look at the number of good and bad loans through the months of the years 2016 and 2017')\n",
    "\n",
    "f = plt.gcf()\n",
    "f.set_figwidth(10) "
   ]
  },
  {
   "cell_type": "markdown",
   "id": "f6fd0bdc",
   "metadata": {},
   "source": [
    "From the graph above, we can see that for both the years 2016 and 2017, there was a high number of loans, good and bad in July and then the least number in the subsequent month of August "
   ]
  },
  {
   "cell_type": "code",
   "execution_count": 1925,
   "id": "aadc6862",
   "metadata": {},
   "outputs": [
    {
     "data": {
      "image/png": "[encoded data removed]",
      "text/plain": [
       "<Figure size 1080x288 with 1 Axes>"
      ]
     },
     "metadata": {
      "needs_background": "light"
     },
     "output_type": "display_data"
    }
   ],
   "source": [
    "closedDates.groupby(['day','good_bad_flag']).size().unstack().plot(kind='bar',stacked=True,rot=0)\n",
    "plt.xlabel('Months of the year')\n",
    "plt.ylabel('Number of bad/good loans')\n",
    "plt.title('A look at the number of good and bad loans through the days of a month')\n",
    "\n",
    "f = plt.gcf()\n",
    "f.set_figwidth(15) "
   ]
  },
  {
   "cell_type": "markdown",
   "id": "2cd7a3ed",
   "metadata": {},
   "source": [
    "From the graph above, we can see there is not much to the type of loans according to the period in the month: beginning, end or middle"
   ]
  },
  {
   "cell_type": "code",
   "execution_count": 1926,
   "id": "b94a838a",
   "metadata": {},
   "outputs": [
    {
     "data": {
      "text/plain": [
       "<Figure size 1080x2160 with 0 Axes>"
      ]
     },
     "metadata": {},
     "output_type": "display_data"
    },
    {
     "data": {
      "image/png": "[encoded data removed]",
      "text/plain": [
       "<Figure size 1080x288 with 1 Axes>"
      ]
     },
     "metadata": {
      "needs_background": "light"
     },
     "output_type": "display_data"
    }
   ],
   "source": [
    "plt.figure(figsize=(15,30))\n",
    "closedDates.groupby(['hourOfDay','good_bad_flag']).size().unstack().plot(kind='bar',stacked=True)\n",
    "plt.xlabel('hours')\n",
    "plt.ylabel('Number of bad/good loans')\n",
    "\n",
    "plt.title('A look at the number of good and bad loans through the hours of day')\n",
    "\n",
    "f = plt.gcf()\n",
    "f.set_figwidth(15) "
   ]
  },
  {
   "cell_type": "markdown",
   "id": "058ea791",
   "metadata": {},
   "source": [
    "From the graph above, we can see that there is not much activity between the hours of 1 and 6 since people are sleeping and for the rest of the day, nothing much significant in the loan activity."
   ]
  },
  {
   "cell_type": "markdown",
   "id": "ecdbff61",
   "metadata": {},
   "source": [
    "We do not think that the year serves as a significant feature to train this model and therefore it will not be used going forward. The months, day and hour of the day also do not serve as good features to use to train this model."
   ]
  },
  {
   "cell_type": "code",
   "execution_count": 1927,
   "id": "f097a853",
   "metadata": {},
   "outputs": [
    {
     "data": {
      "text/html": [
       "<div>\n",
       "<style scoped>\n",
       "    .dataframe tbody tr th:only-of-type {\n",
       "        vertical-align: middle;\n",
       "    }\n",
       "\n",
       "    .dataframe tbody tr th {\n",
       "        vertical-align: top;\n",
       "    }\n",
       "\n",
       "    .dataframe thead th {\n",
       "        text-align: right;\n",
       "    }\n",
       "</style>\n",
       "<table border=\"1\" class=\"dataframe\">\n",
       "  <thead>\n",
       "    <tr style=\"text-align: right;\">\n",
       "      <th></th>\n",
       "      <th>customerid</th>\n",
       "      <th>loannumber</th>\n",
       "      <th>approveddate</th>\n",
       "      <th>creationdate</th>\n",
       "      <th>loanamount</th>\n",
       "      <th>totaldue</th>\n",
       "      <th>termdays</th>\n",
       "      <th>closeddate</th>\n",
       "      <th>referredby</th>\n",
       "      <th>firstduedate</th>\n",
       "      <th>...</th>\n",
       "      <th>perf_referredby</th>\n",
       "      <th>good_bad_flag</th>\n",
       "      <th>birthdate</th>\n",
       "      <th>bank_account_type</th>\n",
       "      <th>longitude_gps</th>\n",
       "      <th>latitude_gps</th>\n",
       "      <th>bank_name_clients</th>\n",
       "      <th>bank_branch_clients</th>\n",
       "      <th>employment_status_clients</th>\n",
       "      <th>level_of_education_clients</th>\n",
       "    </tr>\n",
       "  </thead>\n",
       "  <tbody>\n",
       "    <tr>\n",
       "      <th>0</th>\n",
       "      <td>8a2a81a74ce8c05d014cfb32a0da1049</td>\n",
       "      <td>2</td>\n",
       "      <td>2016-08-15 18:22:40.000000</td>\n",
       "      <td>2016-08-15 17:22:32.000000</td>\n",
       "      <td>10000.0</td>\n",
       "      <td>13000.0</td>\n",
       "      <td>30</td>\n",
       "      <td>2016-09-01 16:06:48.000000</td>\n",
       "      <td>NaN</td>\n",
       "      <td>2016-09-14 00:00:00.000000</td>\n",
       "      <td>...</td>\n",
       "      <td>NaN</td>\n",
       "      <td>Good</td>\n",
       "      <td>1972-01-15 00:00:00.000000</td>\n",
       "      <td>Other</td>\n",
       "      <td>3.43201</td>\n",
       "      <td>6.433055</td>\n",
       "      <td>Diamond Bank</td>\n",
       "      <td>NaN</td>\n",
       "      <td>Permanent</td>\n",
       "      <td>Post-Graduate</td>\n",
       "    </tr>\n",
       "    <tr>\n",
       "      <th>1</th>\n",
       "      <td>8a2a81a74ce8c05d014cfb32a0da1049</td>\n",
       "      <td>9</td>\n",
       "      <td>2017-04-28 18:39:07.000000</td>\n",
       "      <td>2017-04-28 17:38:53.000000</td>\n",
       "      <td>10000.0</td>\n",
       "      <td>13000.0</td>\n",
       "      <td>30</td>\n",
       "      <td>2017-05-28 14:44:49.000000</td>\n",
       "      <td>NaN</td>\n",
       "      <td>2017-05-30 00:00:00.000000</td>\n",
       "      <td>...</td>\n",
       "      <td>NaN</td>\n",
       "      <td>Good</td>\n",
       "      <td>1972-01-15 00:00:00.000000</td>\n",
       "      <td>Other</td>\n",
       "      <td>3.43201</td>\n",
       "      <td>6.433055</td>\n",
       "      <td>Diamond Bank</td>\n",
       "      <td>NaN</td>\n",
       "      <td>Permanent</td>\n",
       "      <td>Post-Graduate</td>\n",
       "    </tr>\n",
       "    <tr>\n",
       "      <th>2</th>\n",
       "      <td>8a2a81a74ce8c05d014cfb32a0da1049</td>\n",
       "      <td>8</td>\n",
       "      <td>2017-03-05 10:56:25.000000</td>\n",
       "      <td>2017-03-05 09:56:19.000000</td>\n",
       "      <td>20000.0</td>\n",
       "      <td>23800.0</td>\n",
       "      <td>30</td>\n",
       "      <td>2017-04-26 22:18:56.000000</td>\n",
       "      <td>NaN</td>\n",
       "      <td>2017-04-04 00:00:00.000000</td>\n",
       "      <td>...</td>\n",
       "      <td>NaN</td>\n",
       "      <td>Good</td>\n",
       "      <td>1972-01-15 00:00:00.000000</td>\n",
       "      <td>Other</td>\n",
       "      <td>3.43201</td>\n",
       "      <td>6.433055</td>\n",
       "      <td>Diamond Bank</td>\n",
       "      <td>NaN</td>\n",
       "      <td>Permanent</td>\n",
       "      <td>Post-Graduate</td>\n",
       "    </tr>\n",
       "    <tr>\n",
       "      <th>3</th>\n",
       "      <td>8a2a81a74ce8c05d014cfb32a0da1049</td>\n",
       "      <td>10</td>\n",
       "      <td>2017-06-01 13:34:30.000000</td>\n",
       "      <td>2017-06-01 12:34:21.000000</td>\n",
       "      <td>20000.0</td>\n",
       "      <td>24500.0</td>\n",
       "      <td>30</td>\n",
       "      <td>2017-06-25 15:24:06.000000</td>\n",
       "      <td>NaN</td>\n",
       "      <td>2017-07-03 00:00:00.000000</td>\n",
       "      <td>...</td>\n",
       "      <td>NaN</td>\n",
       "      <td>Good</td>\n",
       "      <td>1972-01-15 00:00:00.000000</td>\n",
       "      <td>Other</td>\n",
       "      <td>3.43201</td>\n",
       "      <td>6.433055</td>\n",
       "      <td>Diamond Bank</td>\n",
       "      <td>NaN</td>\n",
       "      <td>Permanent</td>\n",
       "      <td>Post-Graduate</td>\n",
       "    </tr>\n",
       "    <tr>\n",
       "      <th>4</th>\n",
       "      <td>8a2a81a74ce8c05d014cfb32a0da1049</td>\n",
       "      <td>11</td>\n",
       "      <td>2017-06-28 10:58:34.000000</td>\n",
       "      <td>2017-06-28 09:58:25.000000</td>\n",
       "      <td>20000.0</td>\n",
       "      <td>24500.0</td>\n",
       "      <td>30</td>\n",
       "      <td>2017-07-25 08:14:36.000000</td>\n",
       "      <td>NaN</td>\n",
       "      <td>2017-07-31 00:00:00.000000</td>\n",
       "      <td>...</td>\n",
       "      <td>NaN</td>\n",
       "      <td>Good</td>\n",
       "      <td>1972-01-15 00:00:00.000000</td>\n",
       "      <td>Other</td>\n",
       "      <td>3.43201</td>\n",
       "      <td>6.433055</td>\n",
       "      <td>Diamond Bank</td>\n",
       "      <td>NaN</td>\n",
       "      <td>Permanent</td>\n",
       "      <td>Post-Graduate</td>\n",
       "    </tr>\n",
       "  </tbody>\n",
       "</table>\n",
       "<p>5 rows × 27 columns</p>\n",
       "</div>"
      ],
      "text/plain": [
       "                         customerid  loannumber                approveddate  \\\n",
       "0  8a2a81a74ce8c05d014cfb32a0da1049           2  2016-08-15 18:22:40.000000   \n",
       "1  8a2a81a74ce8c05d014cfb32a0da1049           9  2017-04-28 18:39:07.000000   \n",
       "2  8a2a81a74ce8c05d014cfb32a0da1049           8  2017-03-05 10:56:25.000000   \n",
       "3  8a2a81a74ce8c05d014cfb32a0da1049          10  2017-06-01 13:34:30.000000   \n",
       "4  8a2a81a74ce8c05d014cfb32a0da1049          11  2017-06-28 10:58:34.000000   \n",
       "\n",
       "                 creationdate  loanamount  totaldue  termdays  \\\n",
       "0  2016-08-15 17:22:32.000000     10000.0   13000.0        30   \n",
       "1  2017-04-28 17:38:53.000000     10000.0   13000.0        30   \n",
       "2  2017-03-05 09:56:19.000000     20000.0   23800.0        30   \n",
       "3  2017-06-01 12:34:21.000000     20000.0   24500.0        30   \n",
       "4  2017-06-28 09:58:25.000000     20000.0   24500.0        30   \n",
       "\n",
       "                   closeddate referredby                firstduedate  ...  \\\n",
       "0  2016-09-01 16:06:48.000000        NaN  2016-09-14 00:00:00.000000  ...   \n",
       "1  2017-05-28 14:44:49.000000        NaN  2017-05-30 00:00:00.000000  ...   \n",
       "2  2017-04-26 22:18:56.000000        NaN  2017-04-04 00:00:00.000000  ...   \n",
       "3  2017-06-25 15:24:06.000000        NaN  2017-07-03 00:00:00.000000  ...   \n",
       "4  2017-07-25 08:14:36.000000        NaN  2017-07-31 00:00:00.000000  ...   \n",
       "\n",
       "  perf_referredby  good_bad_flag                   birthdate  \\\n",
       "0             NaN           Good  1972-01-15 00:00:00.000000   \n",
       "1             NaN           Good  1972-01-15 00:00:00.000000   \n",
       "2             NaN           Good  1972-01-15 00:00:00.000000   \n",
       "3             NaN           Good  1972-01-15 00:00:00.000000   \n",
       "4             NaN           Good  1972-01-15 00:00:00.000000   \n",
       "\n",
       "  bank_account_type  longitude_gps  latitude_gps  bank_name_clients  \\\n",
       "0             Other        3.43201      6.433055       Diamond Bank   \n",
       "1             Other        3.43201      6.433055       Diamond Bank   \n",
       "2             Other        3.43201      6.433055       Diamond Bank   \n",
       "3             Other        3.43201      6.433055       Diamond Bank   \n",
       "4             Other        3.43201      6.433055       Diamond Bank   \n",
       "\n",
       "  bank_branch_clients employment_status_clients level_of_education_clients  \n",
       "0                 NaN                 Permanent              Post-Graduate  \n",
       "1                 NaN                 Permanent              Post-Graduate  \n",
       "2                 NaN                 Permanent              Post-Graduate  \n",
       "3                 NaN                 Permanent              Post-Graduate  \n",
       "4                 NaN                 Permanent              Post-Graduate  \n",
       "\n",
       "[5 rows x 27 columns]"
      ]
     },
     "execution_count": 1927,
     "metadata": {},
     "output_type": "execute_result"
    }
   ],
   "source": [
    "previousCustomers.head()"
   ]
  },
  {
   "cell_type": "markdown",
   "id": "6a689262",
   "metadata": {},
   "source": [
    "We can instead obtain the duration of the lifetime of the loan i.e from when it was created to when it was fully paid back. "
   ]
  },
  {
   "cell_type": "code",
   "execution_count": 1928,
   "id": "424810fd",
   "metadata": {},
   "outputs": [],
   "source": [
    "previousCustomers['closeddate'] = pd.to_datetime(previousCustomers['closeddate'])\n",
    "previousCustomers['creationdate'] = pd.to_datetime(previousCustomers['creationdate'])"
   ]
  },
  {
   "cell_type": "code",
   "execution_count": 1929,
   "id": "bcd71789",
   "metadata": {},
   "outputs": [
    {
     "data": {
      "text/html": [
       "<div>\n",
       "<style scoped>\n",
       "    .dataframe tbody tr th:only-of-type {\n",
       "        vertical-align: middle;\n",
       "    }\n",
       "\n",
       "    .dataframe tbody tr th {\n",
       "        vertical-align: top;\n",
       "    }\n",
       "\n",
       "    .dataframe thead th {\n",
       "        text-align: right;\n",
       "    }\n",
       "</style>\n",
       "<table border=\"1\" class=\"dataframe\">\n",
       "  <thead>\n",
       "    <tr style=\"text-align: right;\">\n",
       "      <th></th>\n",
       "      <th>customerid</th>\n",
       "      <th>loannumber</th>\n",
       "      <th>approveddate</th>\n",
       "      <th>creationdate</th>\n",
       "      <th>loanamount</th>\n",
       "      <th>totaldue</th>\n",
       "      <th>termdays</th>\n",
       "      <th>closeddate</th>\n",
       "      <th>referredby</th>\n",
       "      <th>firstduedate</th>\n",
       "      <th>...</th>\n",
       "      <th>good_bad_flag</th>\n",
       "      <th>birthdate</th>\n",
       "      <th>bank_account_type</th>\n",
       "      <th>longitude_gps</th>\n",
       "      <th>latitude_gps</th>\n",
       "      <th>bank_name_clients</th>\n",
       "      <th>bank_branch_clients</th>\n",
       "      <th>employment_status_clients</th>\n",
       "      <th>level_of_education_clients</th>\n",
       "      <th>loanlife</th>\n",
       "    </tr>\n",
       "  </thead>\n",
       "  <tbody>\n",
       "    <tr>\n",
       "      <th>0</th>\n",
       "      <td>8a2a81a74ce8c05d014cfb32a0da1049</td>\n",
       "      <td>2</td>\n",
       "      <td>2016-08-15 18:22:40.000000</td>\n",
       "      <td>2016-08-15 17:22:32</td>\n",
       "      <td>10000.0</td>\n",
       "      <td>13000.0</td>\n",
       "      <td>30</td>\n",
       "      <td>2016-09-01 16:06:48</td>\n",
       "      <td>NaN</td>\n",
       "      <td>2016-09-14 00:00:00.000000</td>\n",
       "      <td>...</td>\n",
       "      <td>Good</td>\n",
       "      <td>1972-01-15 00:00:00.000000</td>\n",
       "      <td>Other</td>\n",
       "      <td>3.43201</td>\n",
       "      <td>6.433055</td>\n",
       "      <td>Diamond Bank</td>\n",
       "      <td>NaN</td>\n",
       "      <td>Permanent</td>\n",
       "      <td>Post-Graduate</td>\n",
       "      <td>16.947407</td>\n",
       "    </tr>\n",
       "    <tr>\n",
       "      <th>1</th>\n",
       "      <td>8a2a81a74ce8c05d014cfb32a0da1049</td>\n",
       "      <td>9</td>\n",
       "      <td>2017-04-28 18:39:07.000000</td>\n",
       "      <td>2017-04-28 17:38:53</td>\n",
       "      <td>10000.0</td>\n",
       "      <td>13000.0</td>\n",
       "      <td>30</td>\n",
       "      <td>2017-05-28 14:44:49</td>\n",
       "      <td>NaN</td>\n",
       "      <td>2017-05-30 00:00:00.000000</td>\n",
       "      <td>...</td>\n",
       "      <td>Good</td>\n",
       "      <td>1972-01-15 00:00:00.000000</td>\n",
       "      <td>Other</td>\n",
       "      <td>3.43201</td>\n",
       "      <td>6.433055</td>\n",
       "      <td>Diamond Bank</td>\n",
       "      <td>NaN</td>\n",
       "      <td>Permanent</td>\n",
       "      <td>Post-Graduate</td>\n",
       "      <td>29.879120</td>\n",
       "    </tr>\n",
       "    <tr>\n",
       "      <th>2</th>\n",
       "      <td>8a2a81a74ce8c05d014cfb32a0da1049</td>\n",
       "      <td>8</td>\n",
       "      <td>2017-03-05 10:56:25.000000</td>\n",
       "      <td>2017-03-05 09:56:19</td>\n",
       "      <td>20000.0</td>\n",
       "      <td>23800.0</td>\n",
       "      <td>30</td>\n",
       "      <td>2017-04-26 22:18:56</td>\n",
       "      <td>NaN</td>\n",
       "      <td>2017-04-04 00:00:00.000000</td>\n",
       "      <td>...</td>\n",
       "      <td>Good</td>\n",
       "      <td>1972-01-15 00:00:00.000000</td>\n",
       "      <td>Other</td>\n",
       "      <td>3.43201</td>\n",
       "      <td>6.433055</td>\n",
       "      <td>Diamond Bank</td>\n",
       "      <td>NaN</td>\n",
       "      <td>Permanent</td>\n",
       "      <td>Post-Graduate</td>\n",
       "      <td>52.515706</td>\n",
       "    </tr>\n",
       "    <tr>\n",
       "      <th>3</th>\n",
       "      <td>8a2a81a74ce8c05d014cfb32a0da1049</td>\n",
       "      <td>10</td>\n",
       "      <td>2017-06-01 13:34:30.000000</td>\n",
       "      <td>2017-06-01 12:34:21</td>\n",
       "      <td>20000.0</td>\n",
       "      <td>24500.0</td>\n",
       "      <td>30</td>\n",
       "      <td>2017-06-25 15:24:06</td>\n",
       "      <td>NaN</td>\n",
       "      <td>2017-07-03 00:00:00.000000</td>\n",
       "      <td>...</td>\n",
       "      <td>Good</td>\n",
       "      <td>1972-01-15 00:00:00.000000</td>\n",
       "      <td>Other</td>\n",
       "      <td>3.43201</td>\n",
       "      <td>6.433055</td>\n",
       "      <td>Diamond Bank</td>\n",
       "      <td>NaN</td>\n",
       "      <td>Permanent</td>\n",
       "      <td>Post-Graduate</td>\n",
       "      <td>24.117882</td>\n",
       "    </tr>\n",
       "    <tr>\n",
       "      <th>4</th>\n",
       "      <td>8a2a81a74ce8c05d014cfb32a0da1049</td>\n",
       "      <td>11</td>\n",
       "      <td>2017-06-28 10:58:34.000000</td>\n",
       "      <td>2017-06-28 09:58:25</td>\n",
       "      <td>20000.0</td>\n",
       "      <td>24500.0</td>\n",
       "      <td>30</td>\n",
       "      <td>2017-07-25 08:14:36</td>\n",
       "      <td>NaN</td>\n",
       "      <td>2017-07-31 00:00:00.000000</td>\n",
       "      <td>...</td>\n",
       "      <td>Good</td>\n",
       "      <td>1972-01-15 00:00:00.000000</td>\n",
       "      <td>Other</td>\n",
       "      <td>3.43201</td>\n",
       "      <td>6.433055</td>\n",
       "      <td>Diamond Bank</td>\n",
       "      <td>NaN</td>\n",
       "      <td>Permanent</td>\n",
       "      <td>Post-Graduate</td>\n",
       "      <td>26.927905</td>\n",
       "    </tr>\n",
       "  </tbody>\n",
       "</table>\n",
       "<p>5 rows × 28 columns</p>\n",
       "</div>"
      ],
      "text/plain": [
       "                         customerid  loannumber                approveddate  \\\n",
       "0  8a2a81a74ce8c05d014cfb32a0da1049           2  2016-08-15 18:22:40.000000   \n",
       "1  8a2a81a74ce8c05d014cfb32a0da1049           9  2017-04-28 18:39:07.000000   \n",
       "2  8a2a81a74ce8c05d014cfb32a0da1049           8  2017-03-05 10:56:25.000000   \n",
       "3  8a2a81a74ce8c05d014cfb32a0da1049          10  2017-06-01 13:34:30.000000   \n",
       "4  8a2a81a74ce8c05d014cfb32a0da1049          11  2017-06-28 10:58:34.000000   \n",
       "\n",
       "         creationdate  loanamount  totaldue  termdays          closeddate  \\\n",
       "0 2016-08-15 17:22:32     10000.0   13000.0        30 2016-09-01 16:06:48   \n",
       "1 2017-04-28 17:38:53     10000.0   13000.0        30 2017-05-28 14:44:49   \n",
       "2 2017-03-05 09:56:19     20000.0   23800.0        30 2017-04-26 22:18:56   \n",
       "3 2017-06-01 12:34:21     20000.0   24500.0        30 2017-06-25 15:24:06   \n",
       "4 2017-06-28 09:58:25     20000.0   24500.0        30 2017-07-25 08:14:36   \n",
       "\n",
       "  referredby                firstduedate  ... good_bad_flag  \\\n",
       "0        NaN  2016-09-14 00:00:00.000000  ...          Good   \n",
       "1        NaN  2017-05-30 00:00:00.000000  ...          Good   \n",
       "2        NaN  2017-04-04 00:00:00.000000  ...          Good   \n",
       "3        NaN  2017-07-03 00:00:00.000000  ...          Good   \n",
       "4        NaN  2017-07-31 00:00:00.000000  ...          Good   \n",
       "\n",
       "                    birthdate bank_account_type longitude_gps  latitude_gps  \\\n",
       "0  1972-01-15 00:00:00.000000             Other       3.43201      6.433055   \n",
       "1  1972-01-15 00:00:00.000000             Other       3.43201      6.433055   \n",
       "2  1972-01-15 00:00:00.000000             Other       3.43201      6.433055   \n",
       "3  1972-01-15 00:00:00.000000             Other       3.43201      6.433055   \n",
       "4  1972-01-15 00:00:00.000000             Other       3.43201      6.433055   \n",
       "\n",
       "   bank_name_clients  bank_branch_clients employment_status_clients  \\\n",
       "0       Diamond Bank                  NaN                 Permanent   \n",
       "1       Diamond Bank                  NaN                 Permanent   \n",
       "2       Diamond Bank                  NaN                 Permanent   \n",
       "3       Diamond Bank                  NaN                 Permanent   \n",
       "4       Diamond Bank                  NaN                 Permanent   \n",
       "\n",
       "  level_of_education_clients   loanlife  \n",
       "0              Post-Graduate  16.947407  \n",
       "1              Post-Graduate  29.879120  \n",
       "2              Post-Graduate  52.515706  \n",
       "3              Post-Graduate  24.117882  \n",
       "4              Post-Graduate  26.927905  \n",
       "\n",
       "[5 rows x 28 columns]"
      ]
     },
     "execution_count": 1929,
     "metadata": {},
     "output_type": "execute_result"
    }
   ],
   "source": [
    "#the difference between the closedDate and the creationDate is stored in a new column\n",
    "# called 'loanlife'. The difference between the two columns is divided by a delta object \n",
    "# so we can get the difference in days\n",
    "previousCustomers['loanlife'] = ((previousCustomers.closeddate - previousCustomers.creationdate)/np.timedelta64(1, 'D'))\n",
    "previousCustomers.head()"
   ]
  },
  {
   "cell_type": "markdown",
   "id": "78d3a627",
   "metadata": {},
   "source": [
    "We will use the loanlife column as a new feature to train our model with."
   ]
  },
  {
   "cell_type": "markdown",
   "id": "68ffaece",
   "metadata": {},
   "source": [
    "We are going to list out the columns that have been selected to train our model to keep track of them as the notebook progresses:\n",
    "1. period take to settle the loan(lifetime of loan)"
   ]
  },
  {
   "cell_type": "markdown",
   "id": "eb490e1b",
   "metadata": {},
   "source": [
    "##### referredby column"
   ]
  },
  {
   "cell_type": "code",
   "execution_count": 1930,
   "id": "70e1979c",
   "metadata": {},
   "outputs": [
    {
     "data": {
      "text/plain": [
       "12873"
      ]
     },
     "execution_count": 1930,
     "metadata": {},
     "output_type": "execute_result"
    }
   ],
   "source": [
    "previousCustomers['referredby'].isnull().sum()"
   ]
  },
  {
   "cell_type": "code",
   "execution_count": 1931,
   "id": "b083c9e0",
   "metadata": {},
   "outputs": [
    {
     "data": {
      "text/plain": [
       "408"
      ]
     },
     "execution_count": 1931,
     "metadata": {},
     "output_type": "execute_result"
    }
   ],
   "source": [
    "len(previousCustomers['referredby'].unique())"
   ]
  },
  {
   "cell_type": "code",
   "execution_count": 1932,
   "id": "4caadf67",
   "metadata": {},
   "outputs": [
    {
     "data": {
      "text/plain": [
       "array([nan, '8a858ff85bd93919015bda56605652bd',\n",
       "       '8a858edc59ee87640159eeb9774f1aa7',\n",
       "       '8a858fc55b2548dd015b286e452c678c',\n",
       "       '8a858eba5c884d2a015c8bea59385157',\n",
       "       '8a858e185b4923b4015b536354895cae',\n",
       "       '8a858fd85b685607015b7ba5638674c0',\n",
       "       '8a858f9f5bd99987015be3f53cb442d9',\n",
       "       '8a858fee5800e000015805aae2fe4ef8',\n",
       "       '8a858fdc57ab280a0157b277e9ff6d53',\n",
       "       '8a858e645755e62201575e72c8b77fd5',\n",
       "       '8a858edb5ad79cc6015ad7c9b29415c8',\n",
       "       '8a858f975c4582c4015c54619e9b7e2b',\n",
       "       '8a858e6f5bce1023015bce19dbbf038d',\n",
       "       '8a858f1b5b9136f7015b9f66e5c5327c',\n",
       "       '8a858e7855113fb701551fe018ce6913',\n",
       "       '8a858fa3551e78cb01552596fed60cec',\n",
       "       '8a858eda5c8863ff015c8b96e5fd74d0',\n",
       "       '8a858ed75732b681015744c9dee21aae',\n",
       "       '8a858f1e5aec5791015aef876abb0dbc',\n",
       "       '8a858fa75b5c94ed015b5c9d50890bb4',\n",
       "       '8a8589ac53a917ed0153a9f9e614244b',\n",
       "       '8a858f475c7ea023015c81ad999a0386',\n",
       "       '8a858e5b5bd99460015bd9e9ee2e18f4',\n",
       "       '8a8588dd54be35520154c9ffe1f03738',\n",
       "       '8a858e6a5bfd4b54015c0297d9ee75fb',\n",
       "       '8a858f185c884965015c88980e642dc1',\n",
       "       '8a858edb5bd936e4015be394167c4698',\n",
       "       '8a858f495bcefdb9015bcf9d6b173bf5',\n",
       "       '8a858f6e5b1a4fd0015b1a555f54042b',\n",
       "       '8a858f3b5c1c5a08015c1f69e3786a85',\n",
       "       '8a858fa05908043801590d3c3a4e6f83',\n",
       "       '8a858f7d5cf9aef9015cff00020175f0',\n",
       "       '8a8589f35451855401547fc55caa6cd5',\n",
       "       '8a858f1e5add5268015aea11ac2871cf',\n",
       "       '8a858f8e5b8c34d3015b8cb7246e3f40',\n",
       "       '8a858f155b24e303015b24f3a07610b5',\n",
       "       '8a858f275c451af5015c52e90bb11bfe',\n",
       "       '8a858e105bd92644015bdaea61965690',\n",
       "       '8a858e4b5a94ae68015a9a8f07ab3b6a',\n",
       "       '8a858f275c451af5015c54543f824e92',\n",
       "       '8a858f5d5963fbb701596519a1b74190',\n",
       "       '8a858fd35b5dfefb015b5f002aa050a3',\n",
       "       '8a858ec55b441639015b46eaa7c63973',\n",
       "       '8a858fed5a28bf0e015a29acfb4b3fcf',\n",
       "       '8a858e105bd92644015bdc54519566e5',\n",
       "       '8a858f855bf2f1ad015bf5c0e6c01b8a',\n",
       "       '8a858fed5a3d7bb7015a3de90f6c297c',\n",
       "       '8a858ee05bcdea36015bce28178318af',\n",
       "       '8a858f725b49c0c0015b56d2ee6824d9',\n",
       "       '8a858ff35acdd593015ad12db5593535',\n",
       "       '8a858ede5ca210f0015ca32170645e53',\n",
       "       '8a858f4e5ca72981015cab698acd7f40',\n",
       "       '8a858fb85b81c658015b81c9ff880479',\n",
       "       '8a858eac5c451942015c5635a22f58f6',\n",
       "       '8a858e945bfdb9e7015c040d93016282',\n",
       "       '8a858e2d5bb55d46015bc86b9e566836',\n",
       "       '8a858f4c5bc9eb48015bca216c74199a',\n",
       "       '8a858ef458d4a52e0158d858eb5d6456',\n",
       "       '8a858fbf5b3a0b46015b3a75f2633e33',\n",
       "       '8a858edb5bd936e4015be08d9d5a7916',\n",
       "       '8a858e5f5a41b97f015a4212766e2f84',\n",
       "       '8a858f895b1f9aec015b1ff32a664db3',\n",
       "       '8a858e225c404292015c547de47a4ada',\n",
       "       '8a858edc5c7e7da5015c81ea45c62462',\n",
       "       '8a858edb552adcfd015531bdc5371d37',\n",
       "       '8a858f535908095c01591ce9992f00c5',\n",
       "       '8a858f7e5c69a6e3015c6d308889653b',\n",
       "       '8a858eba5c884d2a015c8d20c864739e',\n",
       "       '8a858fde56eb02280156eb911f1e3872',\n",
       "       '8a858f045bb63525015bc84a44753992',\n",
       "       '8a858f335c8d9723015c9c1a07d8681a',\n",
       "       '8a858e3a5bed83ab015bedad8d191c74',\n",
       "       '8a8588dc536a141301538365df9251b8',\n",
       "       '8a858f615578136301557e762f974b9f',\n",
       "       '8a858e885b68546c015b690a3b432fb4',\n",
       "       '8a858fb85b81c658015b8508fbb237a1',\n",
       "       '8a858e495d1e235c015d30d5ddb42149',\n",
       "       '8a858f615b1ffb14015b2316f57f3839',\n",
       "       '8a858f045bab240c015bae905a8e7527',\n",
       "       '8a858f725b49c0c0015b4d09b3876961',\n",
       "       '8a858f065b1fe50a015b236489d57fb6',\n",
       "       '8a858f1e5add5268015add535fe800a4',\n",
       "       '8a858f3d5b4411b7015b47d39a1f0401',\n",
       "       '8a858e135c7e2eec015c813211a96674',\n",
       "       '8a8589f853f100fb015402f057354ac0',\n",
       "       '8a858efe5bca0a81015bcdaee15c0bb3',\n",
       "       '8a858f585bfd6341015bfed6f96d6046',\n",
       "       '8a858e705b3a03c7015b3ceed0d531fb',\n",
       "       '8a858e4b5c831f02015c83bd0d353711',\n",
       "       '8a858f2c585375f00158678b108144f8',\n",
       "       '8a858fa4552add9f0155467c89c31293',\n",
       "       '8a858ffd5c8d343d015c8eae471c7b48',\n",
       "       '8a8589f853f100fb01540a3551f034bd',\n",
       "       '8a858f2b5b870cfe015b88b66b6673de',\n",
       "       '8a858e3c5cac9fcc015cafc54f557506',\n",
       "       '8a858f305c8dd672015c997141130c2e',\n",
       "       '8a858f965bb63a25015bc2ddf2577416',\n",
       "       '8a858f615591c2cc01559597a77202c6',\n",
       "       '8a858ff45be92ea2015be9db14023e1e',\n",
       "       '8a858f225b3dc49e015b3e084e3f5362',\n",
       "       '8a858f665c2142a0015c2cf209e20a6f',\n",
       "       '8a858e6d5b252065015b305a3ef77693',\n",
       "       '8a858e495cef1ef1015cef8066103757',\n",
       "       '8a858fe65675195a0156766ebdb042c8',\n",
       "       '8a858f8f5bfd3cfa015c026e474b47a5',\n",
       "       '8a858f665cf43442015cf4504cd91679',\n",
       "       '8a858f00590ac4e70159481263652a69',\n",
       "       '8a858fc55b2548dd015b28bb609670b2',\n",
       "       '8a858e395cb1d4d9015cc0480a8943bd',\n",
       "       '8a858f115b80b9dd015b81383fba4090',\n",
       "       '8a858f065cf41809015cf44c98422994',\n",
       "       '8a858ff9580b8812015815c32c7b1cd8',\n",
       "       '8a858fd75bb62bbe015bc52a13c36f6c',\n",
       "       '8a858ec358dc5c130158ea2c46c124be',\n",
       "       '8a858f9d5668e3f10156767e9a0f0188',\n",
       "       '8a858fa359d61dae0159d698bf503d29',\n",
       "       '8a858f685acd5951015acd609d0803c4',\n",
       "       '8a858ee758a4dfbc0158abd355eb4e87',\n",
       "       '8a858fc45c63d75d015c64d986e30084',\n",
       "       '8a858fbf5b3a0b46015b3ac9ef325d05',\n",
       "       '8a858e125b391784015b395fa56243e6',\n",
       "       '8a858ee05989e8dc01598a1083fa036e',\n",
       "       '8a858f615b910db3015b966a2a3d33f4',\n",
       "       '8a858fe45cd62cbf015ce67f3f26051a',\n",
       "       '8a858e215ca77c7f015ca871c384393d',\n",
       "       '8a858f2a5b3f2121015b415a99f4168b',\n",
       "       '8a8589ec542eaa8901544d30b510384d',\n",
       "       '8a858e6a5bfd4b54015c031f59e70807',\n",
       "       '8a858e375b347293015b347501e10206',\n",
       "       '8a858f225bfdb280015bfe6280983415',\n",
       "       '8a858f7d5578012a015579e9cfd56f51',\n",
       "       '8a858f755af1caee015af206036c172c',\n",
       "       '8a858899538ddb8e01539eccc3c375fe',\n",
       "       '8a858fe25b8c4e5c015b8f61faf34239',\n",
       "       '8a858f0056b7cf8e0156c14b37d37121',\n",
       "       '8a85884e54a0565b0154a05a7dd10159',\n",
       "       '8a858f995623749101562b51bcad0eca',\n",
       "       '8a858f1b5b256bc9015b2f998c4d6822',\n",
       "       '8a858fd45bf83e54015bf83efa9d004f',\n",
       "       '8a85880353acff880153af354a6719df',\n",
       "       '8a85889953a91b8d0153ac729ae74066',\n",
       "       '8a858e6c5bd3fbff015bd45bd46f2fbc',\n",
       "       '8a858f305cb1ec4e015cc41c66eb41b8',\n",
       "       '8a858f2c585375f00158688cf76b3db7',\n",
       "       '8a858eda552adcc2015548f0eb523fc3',\n",
       "       '8a858ee65be8d42d015be8ed0ebb0f5f',\n",
       "       '8a858e935b496584015b4a2c3e973ad3',\n",
       "       '8a858f365b2547f3015b2bfd85c85ec1',\n",
       "       '8a858e135cb22031015cb7f9700e06f8',\n",
       "       '8a858e725cf420fd015cf45addee2730',\n",
       "       '8a858f295c8d307f015c9b4d5c570061',\n",
       "       '8a858e275b349e25015b384ed5222fcb',\n",
       "       '8a858e025ab3a6c2015ab74cfa5c4431',\n",
       "       '8a85883353e2e4e40153eca57a9855c6',\n",
       "       '8a858fba5c1b5c10015c1b6bce4a075a',\n",
       "       '8a858f8658c206a90158c93edbb13b71',\n",
       "       '8a858e6d5b62e36f015b667380e92585',\n",
       "       '8a858fd75bb62bbe015bba3ca3b06158',\n",
       "       '8a858f4e5ba5e8d3015ba99033a10cd3',\n",
       "       '8a858ec25a4d1d16015a5004af0d4d20',\n",
       "       '8a858f3355ae6a610155c583cc8e034d',\n",
       "       '8a858f475c7ea023015c7ef5a10311c0',\n",
       "       '8a858fca5c35df2c015c39f8efd26149',\n",
       "       '8a858fa25bd92c20015bdbe4fac67f20',\n",
       "       '8a858f465668e3d601568add9c6a4fe0',\n",
       "       '8a858ebd5b5d50d9015b5d8c6c953f04',\n",
       "       '8a858e1a59cbf7460159d0335d9a6a03',\n",
       "       '8a858f7d5ab3ca4b015ab769621b5811',\n",
       "       '8a858f5b5bee1b11015bee3c86711191',\n",
       "       '8a858f165b147438015b149b3acc1b44',\n",
       "       '8a858f385b34d285015b368d23720716',\n",
       "       '8a858e195af64338015af6bc45ef5aef',\n",
       "       '8a858f1b5b256bc9015b2bd3050a1fc7',\n",
       "       '8a858f6e5a951fc2015a99d60afa0a68',\n",
       "       '8a858f375b493337015b4a7a04286bac',\n",
       "       '8a858f93572e873c01573e5728586df8',\n",
       "       '8a858e885c9c6f96015ca0105213523c',\n",
       "       '8a858f265c2187bd015c254c6c395bef',\n",
       "       '8a858f2c59cb2d550159cbf3d0437cb5',\n",
       "       '8a858f265c2187bd015c2686b0ad1782',\n",
       "       '8a858f7a5b39a003015b39ca67ab2efb',\n",
       "       '8a858ece5cd05041015cd19d339000b9',\n",
       "       '8a858e245b680423015b6fe6e6976937',\n",
       "       '8a858eeb5bb559d3015bb57fa13f10de',\n",
       "       '8a858fc959bb192f0159bb468bac1d4e',\n",
       "       '8a858f485d182cde015d186e2f753133',\n",
       "       '8a85892854a059ed0154aa7276e55a23',\n",
       "       '8a858ff259d1429e0159d2d0194c4b8e',\n",
       "       '8a8589f853f100fb01540ed945a70efd',\n",
       "       '8a858e7c5b15cf3b015b16ca44495b40',\n",
       "       '8a858ffa5ad810ff015ad82004960681',\n",
       "       '8a858f285c7d70a4015c7dd9108348aa',\n",
       "       '8a858f535bf336ac015bf721c64b7bd6',\n",
       "       '8a858fce5bf8129c015bfbcdde9467f6',\n",
       "       '8a858ed45bc9a645015bcd35a32e7c91',\n",
       "       '8a858f3b5c1c5a08015c1c6897ac062b',\n",
       "       '8a858fab5b9105dc015b999726de4412',\n",
       "       '8a858fea5b391cd7015b393aed9e2a04',\n",
       "       '8a858fb85b81c658015b853e87955e7f',\n",
       "       '8a858fec5b5c994b015b5c9ababf013b',\n",
       "       '8a858f5e5cb23c77015cc061b752625b',\n",
       "       '8a858e985c110418015c112e311e1355',\n",
       "       '8a858fb959976ce0015998f0a628583b',\n",
       "       '8a858e105bd92644015bdd2f7a981936',\n",
       "       '8a858f6c5bf84cd0015bf867a6ed0981',\n",
       "       '8a858ebb5adce699015adea5d5ae51b3',\n",
       "       '8a858e325b3e903a015b3e9a2fba0b3e',\n",
       "       '8a8589d8548faed501549a0fd1d72170',\n",
       "       '8a858e1d5cd58f9e015cdfe7c50d380b',\n",
       "       '8a858e1556321b940156368d95d74291',\n",
       "       '8a858fc55b2fde30015b300d85e20ef2',\n",
       "       '8a858f605b911d60015b9170209c2fb2',\n",
       "       '8a858e51584a1fc701584ef9749a7d80',\n",
       "       '8a85898a53bc15600153cdd9fae978e0',\n",
       "       '8a858f725b49c0c0015b525cb85f0552',\n",
       "       '8a858ee45b39aa80015b3b1a1d600f18',\n",
       "       '8a858ef458d4a52e0158d959e7501c2f',\n",
       "       '8a858f385b34d285015b388b44a27edf',\n",
       "       '8a858e9d5bfd7037015c07cdd6f1278d',\n",
       "       '8a858f375b493337015b494169b00e07',\n",
       "       '8a858eb75c21a2b9015c2a3cd3363330',\n",
       "       '8a858e055ac84a51015ac944e21e6883',\n",
       "       '8a858f385b34d285015b387bcb86740a',\n",
       "       '8a858ebd5b254c8b015b254cc8580023',\n",
       "       '8a858fb65b2020b2015b23c6042023b2',\n",
       "       '8a858f1d5c7db9e2015c7dcd87810cd3',\n",
       "       '8a858e245b680423015b7ad113d6259a',\n",
       "       '8a858f085cf4e173015cf88e44cb69e4',\n",
       "       '8a858e345bd96da8015bda7ce5f33ec9',\n",
       "       '8a858f545ad7fa6f015adbe5c20e17bc',\n",
       "       '8a858f335b61adff015b61b479ea0494',\n",
       "       '8a858eba5c884d2a015c9158d0692e5b',\n",
       "       '8a858ec65cc6352b015cc75880264271',\n",
       "       '8a76e7d443e6e97c0143ed0a33375981',\n",
       "       '8a858e675c3fe0a1015c549c328835a8',\n",
       "       '8a858fa25bd92c20015be3783b7a6a29',\n",
       "       '8a858f7d5cf9aef9015cffc97211089d',\n",
       "       '8a858fa75b5c94ed015b5ca7267d13f2',\n",
       "       '8a858f975c4582c4015c561116aa65ea',\n",
       "       '8a858f565b683b56015b6e9302a77dd1',\n",
       "       '8a858e255a423087015a466009d66e93',\n",
       "       '8a858fc75b90e6b5015b9c1cebad3e18',\n",
       "       '8a858ece5c88b58b015c88d082290889',\n",
       "       '8a858ec559dbb41a0159dd81258b41c4',\n",
       "       '8a858e6a5bfd4b54015bfecb639d6d1a',\n",
       "       '8a858f735aec46c4015aec68410613ed',\n",
       "       '8a858e4357be1daf0157c4213f1968e4',\n",
       "       '8a858f985b3db23f015b3dbdadc8145b',\n",
       "       '8a858fd95c3b5bca015c438aac9e415e',\n",
       "       '8a858f70575165bf0157564b41f10c18',\n",
       "       '8a858f235b8bf5bc015b8bf94dbc0278',\n",
       "       '8a858ef255c55fd60155c738de611535',\n",
       "       '8a858fc55b2548dd015b2fd12423240e',\n",
       "       '8a85882653bc51f50153d00a923d26cb',\n",
       "       '8a858e51584a1fc701584a2d9653035b',\n",
       "       '8a858e585693982b0156adba96202a26',\n",
       "       '8a858e395cb1d4d9015cc15f03193c90',\n",
       "       '8a858899538ddb8e0153a780c56e34bb',\n",
       "       '8a858fcb5ca240f7015ca6166a3375c4',\n",
       "       '8a858f255ca276c5015ca6175ff526db',\n",
       "       '8a858e345c788b37015c792c68fd5717',\n",
       "       '8a858e5a5be99e1c015be9fc8d12143c',\n",
       "       '8a858f605b911d60015b9b0d0fce6913',\n",
       "       '8a858f255cb1710a015cb851bf7c77fe',\n",
       "       '8a858e6d5d13b3ca015d15eb12664fd9',\n",
       "       '8a858edc5c7e7da5015c7e8d8b120593',\n",
       "       '8a858f275c451af5015c5426a1de3649',\n",
       "       '8a858e9b560bbd6301561ea184a0102d',\n",
       "       '8a858f2b5bf35819015bf3cc59193622',\n",
       "       '8a858fef570f30e501571f8c9b393e0c',\n",
       "       '8a858ea555d9e6020155ddcfc66d05ec',\n",
       "       '8a858e695d1e075c015d2ffe8d7d6371',\n",
       "       '8a858e0256b781d80156ca9f1d3c2e72',\n",
       "       '8a858e145bf81459015bfb14c0187f03',\n",
       "       '8a858f285c7d70a4015c7d86438a0fa5',\n",
       "       '8a858efe5bca0a81015bcafa92f72787',\n",
       "       '8a858eba5c884d2a015c91faae80473d',\n",
       "       '8a858fdf5bf85f71015bf8bc66792023',\n",
       "       '8a858fcb5ca240f7015ca67284a42f30',\n",
       "       '8a8589045384bd8301539e134b745638',\n",
       "       '8a858eb75c21a2b9015c24d4d3203a06',\n",
       "       '8a858fad5bf85d5e015bf96d6d254a0d',\n",
       "       '8a858e875b910dfe015ba4a5adbe3ea5',\n",
       "       '8a858e6c5c88d145015c8bad507561b8',\n",
       "       '8a858e725c3ae262015c45243caa4f4d',\n",
       "       '8a858ff25c8250c1015c82907bc62b42',\n",
       "       '8a858f30551130db01552563f6780605',\n",
       "       '8a858fca5c830943015c870395876947',\n",
       "       '8a858f165bf7b5ca015bf7b8e30e0199',\n",
       "       '8a858e255b910db1015b91c0c8433384',\n",
       "       '8a858f995bcdb303015bcdb8f52f0478',\n",
       "       '8a858f99560bbe45015613f9b9fa2171',\n",
       "       '8a858e965b5e1b91015b617bcea5726c',\n",
       "       '8a858fdf5bf85f71015bf90560683095',\n",
       "       '8a858fa95c695f85015c780af573028d',\n",
       "       '8a858e135cb22031015cb723f07f66f8',\n",
       "       '8a858f7958b0a4a80158b4e352b6367b',\n",
       "       '8a858fec5c169ff0015c16a935bc04b2',\n",
       "       '8a858fb65b2020b2015b205fe7a63993',\n",
       "       '8a858ee65be8d42d015bec93bd4c5303',\n",
       "       '8a858e395cb1d4d9015cbd121e2a20c7',\n",
       "       '8a858e875c63d395015c6ef64f313cc2',\n",
       "       '8a858e625c8d993a015c9bf9278c32f7',\n",
       "       '8a858fa55cc5dbbc015cc5f1c8930e9a',\n",
       "       '8a858f7e5c886ca9015c89215212546b',\n",
       "       '8a858f1e5add5268015ade70d6e220fa',\n",
       "       '8a858eda5c8863ff015c9dead65807bb',\n",
       "       '8a858ec75c11a07a015c15742adc38b2',\n",
       "       '8a858f585bfd6341015c00cba7e11878',\n",
       "       '8a858f0455d9feaf0155ea840c8f410a',\n",
       "       '8a858e8f5d41c974015d48519bbf103f',\n",
       "       '8a858f4655ca643c0155ccc7c480502f',\n",
       "       '8a858ea75cef5535015cf36a4ef31265',\n",
       "       '8a858f4e5ca72981015ca78d16c126e2',\n",
       "       '8a858ea35c7ce42e015c7d14e11519d1',\n",
       "       '8a858eed5af07cc4015af0cc483126df',\n",
       "       '8a858e6f5cd5e874015ce084c86e2a87',\n",
       "       '8a858eb75c21a2b9015c34ec66d87d38',\n",
       "       '8a858eda5c8863ff015c927d4b997fa1',\n",
       "       '8a858ec75bfd77c4015c0cf0e67618d2',\n",
       "       '8a858eda5c8863ff015c96c523266b34',\n",
       "       '8a858e6f5668e01701567140f0f5212c',\n",
       "       '8a858f255ca276c5015ca63c859537ef',\n",
       "       '8a858e1f5cac899f015cad22e40430d2',\n",
       "       '8a858eba5b681df4015b7b3b976f62da',\n",
       "       '8a858e225c404292015c541632fc2d77',\n",
       "       '8a8589a453bc422d0153c7aef31f02bd',\n",
       "       '8a858e4f58b9f0b40158c027a53e65a8',\n",
       "       '8a858e885c63d379015c6780ca836514',\n",
       "       '8a858ed55c63db54015c69c1af982dbf',\n",
       "       '8a858f295ca6f581015ca77afccb5d6d',\n",
       "       '8a858ee55cb156e6015cb63f19146515',\n",
       "       '8a858e2d5bb55d46015bb55e67600058',\n",
       "       '8a858f2e5c699f3a015c6d9e1364767d',\n",
       "       '8a858f295c8d307f015c95b5b13724f7',\n",
       "       '8a858f0f5bfd79d2015c0c2370d436a1',\n",
       "       '8a858f8f5bfd3cfa015bfe947ef14c93',\n",
       "       '8a858f565b683b56015b70b951992639',\n",
       "       '8a858f435aa9712e015aa9e8e9735ca6',\n",
       "       '8a858fab5cd5e1a7015cd9c3b9ae0f29',\n",
       "       '8a858fd85b685607015b7bf160dd7dfe',\n",
       "       '8a858e105bd92644015bd92816fa0073',\n",
       "       '8a858fa95c695f85015c6aba473a5478',\n",
       "       '8a858f475be98d5f015be991bd340215',\n",
       "       '8a858fa45bd95e9a015bdc9f83f311fb',\n",
       "       '8a858f3e589c40610158b48a71b430d3',\n",
       "       '8a858f045bc9690c015bc9a82a3c19aa',\n",
       "       '8a858ff45be92ea2015be991525a2f79',\n",
       "       '8a858e005ca7abe3015cac3d9960218c',\n",
       "       '8a858f7d5cf9aef9015cfe8fde1763ac',\n",
       "       '8a858f0f5bfd79d2015c02f301117179',\n",
       "       '8a858e325d60aaf2015d61746b213f1f',\n",
       "       '8a858ffd5c8d343d015c9be64cc850f0',\n",
       "       '8a858ed1594a282f01594a4d14f50a58',\n",
       "       '8a858fa154e2912f0154ee239b0857f0',\n",
       "       '8a858e285aa8cfc1015aa8fd90951f5a',\n",
       "       '8a858ed95cc5bd6b015cc62436ae43be',\n",
       "       '8a858fab5cd5e1a7015ce34b7abd0bb2',\n",
       "       '8a858ffc5852f33d01585542e78e06f8',\n",
       "       '8a858f795896e56b0158a4eb84d1648d',\n",
       "       '8a858fce5bf8129c015bf9ff58e90318',\n",
       "       '8a858f525bedff8d015bef815d3c6d46',\n",
       "       '8a858fa15c8ceaaa015c8d7922144eda',\n",
       "       '8a858f975c4582c4015c4e46f789665d',\n",
       "       '8a858e9a54d9121b0154dd1bfff23870',\n",
       "       '8a858fdf5bf85f71015bf93c8dd53cc7',\n",
       "       '8a858fe756939bbb0156993f3dda2d08',\n",
       "       '8a858e875b910dfe015b9ead5034701d',\n",
       "       '8a858e045b495c30015b49b40d522144',\n",
       "       '8a858f225b3dc49e015b3ddbb4e81dee',\n",
       "       '8a858e005ca7abe3015ca840481d219b',\n",
       "       '8a858f435cd01e6a015cd0bafa8d502f',\n",
       "       '8a858fd45a4260bc015a437a12c853c0',\n",
       "       '8a858f9f5bd99987015be41c167f470c',\n",
       "       '8a858faf56939fea01569f7f791b4369',\n",
       "       '8a858f5c5ad7d927015ad8d3ea7b5cca',\n",
       "       '8a8589ec54517bf901546122c8862bab',\n",
       "       '8a858ed45c454c11015c4e1307e35dd9',\n",
       "       '8a858fcb5c87dd04015c882423cd3abd',\n",
       "       '8a858e0f5c45466f015c4bf3a7cd77bc',\n",
       "       '8a858e725c360240015c372f0894441b',\n",
       "       '8a858eec5d4232a5015d4623cd0a048b',\n",
       "       '8a858f3f5c35c74a015c38ba4efc74cb',\n",
       "       '8a858ed45c454c11015c544fc1dd3dd4',\n",
       "       '8a858eba5c884d2a015c93b1d62410fb',\n",
       "       '8a858e935b496584015b496a6fde01f6',\n",
       "       '8a858f365b2547f3015b307651737158',\n",
       "       '8a858f255cb1710a015cb52df5760337',\n",
       "       '8a858f055b15b8d3015b164758eb3a24',\n",
       "       '8a858e1e5b47f961015b480939510c02',\n",
       "       '8a81899e529ba94b01529c8baba42daa',\n",
       "       '8a858ea55ac1546c015ac328fdff18ed',\n",
       "       '8a8189f9528494e4015284e68a250edb',\n",
       "       '8a858f8f5bfd3cfa015bff332a9455b1',\n",
       "       '8a858e4c5a715421015a7160ed750369',\n",
       "       '8a858ea45b35639b015b377182544104',\n",
       "       '8a858e345bd96da8015bd97f85df06c8',\n",
       "       '8a858f085b905684015b9078144f1fcc',\n",
       "       '8a858ee55cb156e6015cb6a5d8407bd1',\n",
       "       '8a858e785c8d9167015c9341c238485a',\n",
       "       '8a858f995c63d7ef015c65a8d83a03c8',\n",
       "       '8a858e435bedeb4f015beefb8a294d30',\n",
       "       '8a858eee58727169015873e03f24718a',\n",
       "       '8a858f335c8d9723015c9904394f186f',\n",
       "       '8a858e2155defefd0155e88ca1b22485',\n",
       "       '8a858eb75c21a2b9015c29ebece12d01',\n",
       "       '8a858ff15b5d3f84015b5d509bd61cae'], dtype=object)"
      ]
     },
     "execution_count": 1932,
     "metadata": {},
     "output_type": "execute_result"
    }
   ],
   "source": [
    "previousCustomers['referredby'].unique()"
   ]
  },
  {
   "cell_type": "markdown",
   "id": "5fd6bb6c",
   "metadata": {},
   "source": [
    "The referredby column has a high cardinality. The details of the referee may have been useful though but due to the large number of missing values that cannot easily be imputed, the column value cannot particularly give any relevance to the model. This feature will not be used."
   ]
  },
  {
   "cell_type": "markdown",
   "id": "d2930ed4",
   "metadata": {},
   "source": [
    "##### first_due_date and first_repaid_date columns"
   ]
  },
  {
   "cell_type": "markdown",
   "id": "a0fdc92a",
   "metadata": {},
   "source": [
    "This columns individually don't provide significant features but when used together might prove to be more useful.\n",
    "The difference between the two columns can tell us if a customer was prompt on making their payments."
   ]
  },
  {
   "cell_type": "code",
   "execution_count": 1933,
   "id": "02931449",
   "metadata": {},
   "outputs": [],
   "source": [
    "#isolating the firstduedate, firstrepaiddate and good_bad_flag into a dataframe of its own\n",
    "loanrepayment = previousCustomers[['firstduedate','firstrepaiddate','good_bad_flag']]"
   ]
  },
  {
   "cell_type": "code",
   "execution_count": 1934,
   "id": "286e4792",
   "metadata": {},
   "outputs": [
    {
     "data": {
      "text/html": [
       "<div>\n",
       "<style scoped>\n",
       "    .dataframe tbody tr th:only-of-type {\n",
       "        vertical-align: middle;\n",
       "    }\n",
       "\n",
       "    .dataframe tbody tr th {\n",
       "        vertical-align: top;\n",
       "    }\n",
       "\n",
       "    .dataframe thead th {\n",
       "        text-align: right;\n",
       "    }\n",
       "</style>\n",
       "<table border=\"1\" class=\"dataframe\">\n",
       "  <thead>\n",
       "    <tr style=\"text-align: right;\">\n",
       "      <th></th>\n",
       "      <th>firstduedate</th>\n",
       "      <th>firstrepaiddate</th>\n",
       "      <th>good_bad_flag</th>\n",
       "    </tr>\n",
       "  </thead>\n",
       "  <tbody>\n",
       "    <tr>\n",
       "      <th>0</th>\n",
       "      <td>2016-09-14 00:00:00.000000</td>\n",
       "      <td>2016-09-01 15:51:43.000000</td>\n",
       "      <td>Good</td>\n",
       "    </tr>\n",
       "    <tr>\n",
       "      <th>1</th>\n",
       "      <td>2017-05-30 00:00:00.000000</td>\n",
       "      <td>2017-05-26 00:00:00.000000</td>\n",
       "      <td>Good</td>\n",
       "    </tr>\n",
       "    <tr>\n",
       "      <th>2</th>\n",
       "      <td>2017-04-04 00:00:00.000000</td>\n",
       "      <td>2017-04-26 22:03:47.000000</td>\n",
       "      <td>Good</td>\n",
       "    </tr>\n",
       "    <tr>\n",
       "      <th>3</th>\n",
       "      <td>2017-07-03 00:00:00.000000</td>\n",
       "      <td>2017-06-25 15:13:56.000000</td>\n",
       "      <td>Good</td>\n",
       "    </tr>\n",
       "    <tr>\n",
       "      <th>4</th>\n",
       "      <td>2017-07-31 00:00:00.000000</td>\n",
       "      <td>2017-07-25 08:04:27.000000</td>\n",
       "      <td>Good</td>\n",
       "    </tr>\n",
       "  </tbody>\n",
       "</table>\n",
       "</div>"
      ],
      "text/plain": [
       "                 firstduedate             firstrepaiddate good_bad_flag\n",
       "0  2016-09-14 00:00:00.000000  2016-09-01 15:51:43.000000          Good\n",
       "1  2017-05-30 00:00:00.000000  2017-05-26 00:00:00.000000          Good\n",
       "2  2017-04-04 00:00:00.000000  2017-04-26 22:03:47.000000          Good\n",
       "3  2017-07-03 00:00:00.000000  2017-06-25 15:13:56.000000          Good\n",
       "4  2017-07-31 00:00:00.000000  2017-07-25 08:04:27.000000          Good"
      ]
     },
     "execution_count": 1934,
     "metadata": {},
     "output_type": "execute_result"
    }
   ],
   "source": [
    "loanrepayment.head()"
   ]
  },
  {
   "cell_type": "code",
   "execution_count": 1935,
   "id": "27e59cdb",
   "metadata": {},
   "outputs": [],
   "source": [
    "loanrepayment['firstduedate'] = pd.to_datetime(loanrepayment['firstduedate'])\n",
    "loanrepayment['firstrepaiddate'] = pd.to_datetime(loanrepayment['firstrepaiddate'])"
   ]
  },
  {
   "cell_type": "code",
   "execution_count": 1936,
   "id": "ac1c1ddb",
   "metadata": {},
   "outputs": [
    {
     "data": {
      "text/html": [
       "<div>\n",
       "<style scoped>\n",
       "    .dataframe tbody tr th:only-of-type {\n",
       "        vertical-align: middle;\n",
       "    }\n",
       "\n",
       "    .dataframe tbody tr th {\n",
       "        vertical-align: top;\n",
       "    }\n",
       "\n",
       "    .dataframe thead th {\n",
       "        text-align: right;\n",
       "    }\n",
       "</style>\n",
       "<table border=\"1\" class=\"dataframe\">\n",
       "  <thead>\n",
       "    <tr style=\"text-align: right;\">\n",
       "      <th></th>\n",
       "      <th>firstduedate</th>\n",
       "      <th>firstrepaiddate</th>\n",
       "      <th>good_bad_flag</th>\n",
       "      <th>firstrepaymentlapse</th>\n",
       "    </tr>\n",
       "  </thead>\n",
       "  <tbody>\n",
       "    <tr>\n",
       "      <th>0</th>\n",
       "      <td>2016-09-14</td>\n",
       "      <td>2016-09-01 15:51:43</td>\n",
       "      <td>Good</td>\n",
       "      <td>12.339086</td>\n",
       "    </tr>\n",
       "    <tr>\n",
       "      <th>1</th>\n",
       "      <td>2017-05-30</td>\n",
       "      <td>2017-05-26 00:00:00</td>\n",
       "      <td>Good</td>\n",
       "      <td>4.000000</td>\n",
       "    </tr>\n",
       "    <tr>\n",
       "      <th>2</th>\n",
       "      <td>2017-04-04</td>\n",
       "      <td>2017-04-26 22:03:47</td>\n",
       "      <td>Good</td>\n",
       "      <td>-22.919294</td>\n",
       "    </tr>\n",
       "    <tr>\n",
       "      <th>3</th>\n",
       "      <td>2017-07-03</td>\n",
       "      <td>2017-06-25 15:13:56</td>\n",
       "      <td>Good</td>\n",
       "      <td>7.365324</td>\n",
       "    </tr>\n",
       "    <tr>\n",
       "      <th>4</th>\n",
       "      <td>2017-07-31</td>\n",
       "      <td>2017-07-25 08:04:27</td>\n",
       "      <td>Good</td>\n",
       "      <td>5.663576</td>\n",
       "    </tr>\n",
       "  </tbody>\n",
       "</table>\n",
       "</div>"
      ],
      "text/plain": [
       "  firstduedate     firstrepaiddate good_bad_flag  firstrepaymentlapse\n",
       "0   2016-09-14 2016-09-01 15:51:43          Good            12.339086\n",
       "1   2017-05-30 2017-05-26 00:00:00          Good             4.000000\n",
       "2   2017-04-04 2017-04-26 22:03:47          Good           -22.919294\n",
       "3   2017-07-03 2017-06-25 15:13:56          Good             7.365324\n",
       "4   2017-07-31 2017-07-25 08:04:27          Good             5.663576"
      ]
     },
     "execution_count": 1936,
     "metadata": {},
     "output_type": "execute_result"
    }
   ],
   "source": [
    "# the difference between the closedDate and the creationDate is stored in a new column\n",
    "# called 'firstrepaymentlapse'\n",
    "loanrepayment['firstrepaymentlapse'] = ((loanrepayment.firstduedate - loanrepayment.firstrepaiddate)/np.timedelta64(1, 'D'))\n",
    "loanrepayment.head()"
   ]
  },
  {
   "cell_type": "markdown",
   "id": "d9b54f69",
   "metadata": {},
   "source": [
    "For the column 'firstrepaymentlapse', the positive values indicate someone who was able to pay before the due date and negative values are someone who paid after the due date"
   ]
  },
  {
   "cell_type": "markdown",
   "id": "aa1220e7",
   "metadata": {},
   "source": [
    "Updating selected features:\n",
    "1. period take to settle the loan(lifetime of loan)\n",
    "2. first repayment day status: loanrepayment"
   ]
  },
  {
   "cell_type": "markdown",
   "id": "3cd4b447",
   "metadata": {},
   "source": [
    "The next cells are looking at the data from the performance dataframe. Those columns that were also present in the previous dataframe and were dropped as features above, will also be dropped as features below. "
   ]
  },
  {
   "cell_type": "markdown",
   "id": "cc43ea12",
   "metadata": {},
   "source": [
    "##### perf_referredby"
   ]
  },
  {
   "cell_type": "code",
   "execution_count": 1937,
   "id": "502b81bc",
   "metadata": {},
   "outputs": [
    {
     "data": {
      "text/plain": [
       "408"
      ]
     },
     "execution_count": 1937,
     "metadata": {},
     "output_type": "execute_result"
    }
   ],
   "source": [
    "len(previousCustomers['perf_referredby'].unique())"
   ]
  },
  {
   "cell_type": "code",
   "execution_count": 1938,
   "id": "7beb179e",
   "metadata": {},
   "outputs": [
    {
     "data": {
      "text/plain": [
       "12873"
      ]
     },
     "execution_count": 1938,
     "metadata": {},
     "output_type": "execute_result"
    }
   ],
   "source": [
    "previousCustomers['perf_referredby'].isnull().sum()"
   ]
  },
  {
   "cell_type": "markdown",
   "id": "99754d4b",
   "metadata": {},
   "source": [
    "There are a number of null values within this columns and we cannot easily replace the missing values. This column will therefore not be used going forward"
   ]
  },
  {
   "cell_type": "markdown",
   "id": "798b2f5d",
   "metadata": {},
   "source": [
    "##### birthdate"
   ]
  },
  {
   "cell_type": "markdown",
   "id": "bb7758c4",
   "metadata": {},
   "source": [
    "This column may not be significant as it is for training our model. It may be better to get the actual age of the customers rather than using there birthdates."
   ]
  },
  {
   "cell_type": "markdown",
   "id": "02bf6699",
   "metadata": {},
   "source": [
    "So let us get the actual ages of the customers."
   ]
  },
  {
   "cell_type": "code",
   "execution_count": 1939,
   "id": "244068db",
   "metadata": {},
   "outputs": [],
   "source": [
    "#converting birthdate column to datetime\n",
    "previousCustomers['birthdate'] = pd.to_datetime(previousCustomers['birthdate'])"
   ]
  },
  {
   "cell_type": "code",
   "execution_count": 1940,
   "id": "5b9602fa",
   "metadata": {},
   "outputs": [
    {
     "data": {
      "text/html": [
       "<div>\n",
       "<style scoped>\n",
       "    .dataframe tbody tr th:only-of-type {\n",
       "        vertical-align: middle;\n",
       "    }\n",
       "\n",
       "    .dataframe tbody tr th {\n",
       "        vertical-align: top;\n",
       "    }\n",
       "\n",
       "    .dataframe thead th {\n",
       "        text-align: right;\n",
       "    }\n",
       "</style>\n",
       "<table border=\"1\" class=\"dataframe\">\n",
       "  <thead>\n",
       "    <tr style=\"text-align: right;\">\n",
       "      <th></th>\n",
       "      <th>birthdate</th>\n",
       "      <th>good_bad_flag</th>\n",
       "    </tr>\n",
       "  </thead>\n",
       "  <tbody>\n",
       "    <tr>\n",
       "      <th>0</th>\n",
       "      <td>1972-01-15</td>\n",
       "      <td>Good</td>\n",
       "    </tr>\n",
       "    <tr>\n",
       "      <th>1</th>\n",
       "      <td>1972-01-15</td>\n",
       "      <td>Good</td>\n",
       "    </tr>\n",
       "    <tr>\n",
       "      <th>2</th>\n",
       "      <td>1972-01-15</td>\n",
       "      <td>Good</td>\n",
       "    </tr>\n",
       "    <tr>\n",
       "      <th>3</th>\n",
       "      <td>1972-01-15</td>\n",
       "      <td>Good</td>\n",
       "    </tr>\n",
       "    <tr>\n",
       "      <th>4</th>\n",
       "      <td>1972-01-15</td>\n",
       "      <td>Good</td>\n",
       "    </tr>\n",
       "  </tbody>\n",
       "</table>\n",
       "</div>"
      ],
      "text/plain": [
       "   birthdate good_bad_flag\n",
       "0 1972-01-15          Good\n",
       "1 1972-01-15          Good\n",
       "2 1972-01-15          Good\n",
       "3 1972-01-15          Good\n",
       "4 1972-01-15          Good"
      ]
     },
     "execution_count": 1940,
     "metadata": {},
     "output_type": "execute_result"
    }
   ],
   "source": [
    "customerAge = previousCustomers[['birthdate','good_bad_flag']]\n",
    "customerAge.head()"
   ]
  },
  {
   "cell_type": "code",
   "execution_count": 1941,
   "id": "d6db0cb5",
   "metadata": {},
   "outputs": [],
   "source": [
    "currentDate = date.today()"
   ]
  },
  {
   "cell_type": "code",
   "execution_count": 1942,
   "id": "b8ba6998",
   "metadata": {},
   "outputs": [
    {
     "data": {
      "text/plain": [
       "datetime.date(2022, 12, 11)"
      ]
     },
     "execution_count": 1942,
     "metadata": {},
     "output_type": "execute_result"
    }
   ],
   "source": [
    "currentDate"
   ]
  },
  {
   "cell_type": "code",
   "execution_count": 1943,
   "id": "5ed3ae92",
   "metadata": {},
   "outputs": [],
   "source": [
    "customerAge['age'] = round(((pd.datetime.now()- customerAge['birthdate'])/np.timedelta64(1, 'Y')),1)"
   ]
  },
  {
   "cell_type": "code",
   "execution_count": 1944,
   "id": "24990367",
   "metadata": {},
   "outputs": [
    {
     "data": {
      "text/html": [
       "<div>\n",
       "<style scoped>\n",
       "    .dataframe tbody tr th:only-of-type {\n",
       "        vertical-align: middle;\n",
       "    }\n",
       "\n",
       "    .dataframe tbody tr th {\n",
       "        vertical-align: top;\n",
       "    }\n",
       "\n",
       "    .dataframe thead th {\n",
       "        text-align: right;\n",
       "    }\n",
       "</style>\n",
       "<table border=\"1\" class=\"dataframe\">\n",
       "  <thead>\n",
       "    <tr style=\"text-align: right;\">\n",
       "      <th></th>\n",
       "      <th>birthdate</th>\n",
       "      <th>good_bad_flag</th>\n",
       "      <th>age</th>\n",
       "    </tr>\n",
       "  </thead>\n",
       "  <tbody>\n",
       "    <tr>\n",
       "      <th>13668</th>\n",
       "      <td>1986-02-20</td>\n",
       "      <td>Good</td>\n",
       "      <td>36.8</td>\n",
       "    </tr>\n",
       "    <tr>\n",
       "      <th>13669</th>\n",
       "      <td>1979-04-18</td>\n",
       "      <td>Good</td>\n",
       "      <td>43.7</td>\n",
       "    </tr>\n",
       "    <tr>\n",
       "      <th>13670</th>\n",
       "      <td>1989-11-19</td>\n",
       "      <td>Good</td>\n",
       "      <td>33.1</td>\n",
       "    </tr>\n",
       "    <tr>\n",
       "      <th>13671</th>\n",
       "      <td>1980-11-12</td>\n",
       "      <td>Good</td>\n",
       "      <td>42.1</td>\n",
       "    </tr>\n",
       "    <tr>\n",
       "      <th>13672</th>\n",
       "      <td>1989-10-24</td>\n",
       "      <td>Good</td>\n",
       "      <td>33.1</td>\n",
       "    </tr>\n",
       "  </tbody>\n",
       "</table>\n",
       "</div>"
      ],
      "text/plain": [
       "       birthdate good_bad_flag   age\n",
       "13668 1986-02-20          Good  36.8\n",
       "13669 1979-04-18          Good  43.7\n",
       "13670 1989-11-19          Good  33.1\n",
       "13671 1980-11-12          Good  42.1\n",
       "13672 1989-10-24          Good  33.1"
      ]
     },
     "execution_count": 1944,
     "metadata": {},
     "output_type": "execute_result"
    }
   ],
   "source": [
    "customerAge.tail()"
   ]
  },
  {
   "cell_type": "markdown",
   "id": "0ee94730",
   "metadata": {},
   "source": [
    "###### for the next graph, it was generated in Microsoft Excel. A pivot table was used to group the ages and get the number of bad loans in each age group, it was then displayed in the people graph. The files being saved were exported to excel"
   ]
  },
  {
   "cell_type": "code",
   "execution_count": 1945,
   "id": "aa42c9c0",
   "metadata": {},
   "outputs": [],
   "source": [
    "customerAge.to_csv('allLoansAndAges.csv')"
   ]
  },
  {
   "attachments": {
    "people%20graph-1.jpg": {
     "image/jpeg": "[encoded data removed]"
    }
   },
   "cell_type": "markdown",
   "id": "d4d52b32",
   "metadata": {},
   "source": [
    "![people%20graph-1.jpg](attachment:people%20graph-1.jpg)"
   ]
  },
  {
   "cell_type": "markdown",
   "id": "205a5c4c",
   "metadata": {},
   "source": [
    "so we shall use the ages of people to train our model instead of their birthdate"
   ]
  },
  {
   "cell_type": "markdown",
   "id": "1bbbe027",
   "metadata": {},
   "source": [
    "Updating selected features:\n",
    "1. period take to settle the loan(lifetime of loan)\n",
    "2. first repayment day status: loanrepayment\n",
    "3. ages of the customers"
   ]
  },
  {
   "cell_type": "markdown",
   "id": "ba239066",
   "metadata": {},
   "source": [
    "##### bank account type: type of primary bank account"
   ]
  },
  {
   "cell_type": "code",
   "execution_count": 1946,
   "id": "63db010e",
   "metadata": {},
   "outputs": [
    {
     "data": {
      "text/plain": [
       "3"
      ]
     },
     "execution_count": 1946,
     "metadata": {},
     "output_type": "execute_result"
    }
   ],
   "source": [
    "len(previousCustomers['bank_account_type'].unique())"
   ]
  },
  {
   "cell_type": "code",
   "execution_count": 1947,
   "id": "0338f4b7",
   "metadata": {},
   "outputs": [],
   "source": [
    "testdemo = pd.read_csv('testdemographics.csv')"
   ]
  },
  {
   "cell_type": "code",
   "execution_count": 1948,
   "id": "eb7e10f5",
   "metadata": {},
   "outputs": [
    {
     "data": {
      "text/plain": [
       "3"
      ]
     },
     "execution_count": 1948,
     "metadata": {},
     "output_type": "execute_result"
    }
   ],
   "source": [
    "len(testdemo['bank_account_type'].unique())"
   ]
  },
  {
   "cell_type": "code",
   "execution_count": 1949,
   "id": "ff4f5711",
   "metadata": {},
   "outputs": [
    {
     "data": {
      "text/plain": [
       "0"
      ]
     },
     "execution_count": 1949,
     "metadata": {},
     "output_type": "execute_result"
    }
   ],
   "source": [
    "previousCustomers['bank_account_type'].isnull().sum()"
   ]
  },
  {
   "cell_type": "code",
   "execution_count": 1950,
   "id": "86a48ce0",
   "metadata": {},
   "outputs": [
    {
     "data": {
      "text/plain": [
       "array(['Other', 'Savings', 'Current'], dtype=object)"
      ]
     },
     "execution_count": 1950,
     "metadata": {},
     "output_type": "execute_result"
    }
   ],
   "source": [
    "previousCustomers['bank_account_type'].unique()"
   ]
  },
  {
   "cell_type": "markdown",
   "id": "e29badc1",
   "metadata": {},
   "source": [
    "This feature shall be used to train our model"
   ]
  },
  {
   "cell_type": "markdown",
   "id": "6621e315",
   "metadata": {},
   "source": [
    "Updating selected features:\n",
    "1. period take to settle the loan(lifetime of loan): previousCustomers\n",
    "2. first repayment day status: loanrepayment\n",
    "3. ages of the customers\n",
    "4. the type of bank account"
   ]
  },
  {
   "cell_type": "markdown",
   "id": "8490f62c",
   "metadata": {},
   "source": [
    "##### bank_name_clients: name of the bank"
   ]
  },
  {
   "cell_type": "code",
   "execution_count": 1951,
   "id": "0636453f",
   "metadata": {},
   "outputs": [
    {
     "data": {
      "text/plain": [
       "array(['Diamond Bank', 'EcoBank', 'First Bank', 'GT Bank', 'UBA',\n",
       "       'Union Bank', 'FCMB', 'Access Bank', 'Zenith Bank',\n",
       "       'Fidelity Bank', 'Stanbic IBTC', 'Skye Bank', 'Sterling Bank',\n",
       "       'Wema Bank', 'Keystone Bank', 'Unity Bank', 'Heritage Bank',\n",
       "       'Standard Chartered'], dtype=object)"
      ]
     },
     "execution_count": 1951,
     "metadata": {},
     "output_type": "execute_result"
    }
   ],
   "source": [
    "previousCustomers['bank_name_clients'].unique()"
   ]
  },
  {
   "cell_type": "code",
   "execution_count": 1952,
   "id": "fc0f220d",
   "metadata": {},
   "outputs": [
    {
     "data": {
      "text/plain": [
       "18"
      ]
     },
     "execution_count": 1952,
     "metadata": {},
     "output_type": "execute_result"
    }
   ],
   "source": [
    "len(previousCustomers['bank_name_clients'].unique())"
   ]
  },
  {
   "cell_type": "code",
   "execution_count": 1953,
   "id": "aa4ea6b2",
   "metadata": {},
   "outputs": [
    {
     "data": {
      "text/plain": [
       "0"
      ]
     },
     "execution_count": 1953,
     "metadata": {},
     "output_type": "execute_result"
    }
   ],
   "source": [
    "previousCustomers['bank_name_clients'].isnull().sum()"
   ]
  },
  {
   "cell_type": "code",
   "execution_count": 1954,
   "id": "88cc19e2",
   "metadata": {},
   "outputs": [
    {
     "data": {
      "text/plain": [
       "18"
      ]
     },
     "execution_count": 1954,
     "metadata": {},
     "output_type": "execute_result"
    }
   ],
   "source": [
    "len(testdemo['bank_name_clients'].unique())"
   ]
  },
  {
   "cell_type": "markdown",
   "id": "639d75ba",
   "metadata": {},
   "source": [
    "This column will be used to train the model"
   ]
  },
  {
   "cell_type": "markdown",
   "id": "7fec18b1",
   "metadata": {},
   "source": [
    "Updating selected features:\n",
    "1. period take to settle the loan(lifetime of loan)\n",
    "2. first repayment day status:\n",
    "3. ages of the customers\n",
    "4. the type of bank account\n",
    "5. the bank name of the clients"
   ]
  },
  {
   "cell_type": "markdown",
   "id": "94ea76fe",
   "metadata": {},
   "source": [
    "We can also have a look the bad loans and good loans according to the different banks"
   ]
  },
  {
   "cell_type": "code",
   "execution_count": 1955,
   "id": "2ad28f7c",
   "metadata": {},
   "outputs": [],
   "source": [
    "bankStats = previousCustomers[['bank_name_clients','good_bad_flag']]"
   ]
  },
  {
   "cell_type": "code",
   "execution_count": 1956,
   "id": "78b78632",
   "metadata": {},
   "outputs": [
    {
     "data": {
      "image/png": "[encoded data removed]",
      "text/plain": [
       "<Figure size 1080x288 with 1 Axes>"
      ]
     },
     "metadata": {
      "needs_background": "light"
     },
     "output_type": "display_data"
    }
   ],
   "source": [
    "bankStats.groupby(['bank_name_clients','good_bad_flag']).size().unstack().plot(kind='bar',stacked=True,rot=45)\n",
    "plt.xlabel('Banks')\n",
    "plt.ylabel('Number of bad/good loans')\n",
    "\n",
    "plt.title('A look at the number of good and bad loans in different banks')\n",
    "\n",
    "f = plt.gcf()\n",
    "f.set_figwidth(15) "
   ]
  },
  {
   "cell_type": "markdown",
   "id": "c257d12e",
   "metadata": {},
   "source": [
    "From the graph above, we can see that the highest number of loans, and subsequently the highest number of bad loans, taken out has been from GT bank. "
   ]
  },
  {
   "cell_type": "code",
   "execution_count": 1957,
   "id": "e3f4329d",
   "metadata": {},
   "outputs": [],
   "source": [
    "# FIND THE AGE RANGE OF THE PEOPLE WHO ARE GOING TO THE DIFFERENT BANKS,\n",
    "#use pivot table and see the most common bank in the \n",
    "#age range and see if there's a connection"
   ]
  },
  {
   "cell_type": "markdown",
   "id": "fb5b38c9",
   "metadata": {},
   "source": [
    "##### bank branch clients"
   ]
  },
  {
   "cell_type": "code",
   "execution_count": 1958,
   "id": "c64218c2",
   "metadata": {},
   "outputs": [
    {
     "data": {
      "text/plain": [
       "array([nan, 'OBA ADEBIMPE', 'RING ROAD', 'AKUTE', 'OGBA',\n",
       "       'ADEOLA HOPEWELL', 'ABEOKUTA', 'OJUELEGBA', 'LAGOS',\n",
       "       'OBA AKRAN BERGER PAINT',\n",
       "       'ACCESS BANK PLC, CHALLENGE ROUNDABOUT IBADAN, OYO STATE.',\n",
       "       'BOSSO ROAD, MINNA',\n",
       "       'PLOT 999C DANMOLE STREET, ADEOLA ODEKU, VICTORIA ISLAND, LAGOS',\n",
       "       'MAFOLUKU', '17, SANUSI FAFUNWA STREET, VICTORIA ISLAND, LAGOS',\n",
       "       'TRANS AMADI', 'APAPA', 'MUSHIN BRANCH', 'OAU ILE IFE',\n",
       "       ' IDI - ORO MUSHIN', 'AJOSE ADEOGUN', 'TINCAN', 'ABULE EGBA',\n",
       "       'OBA AKRAN', 'STERLING BANK PLC 102, IJU ROAD, IFAKO BRANCH',\n",
       "       'LEKKI EPE', 'OGUDU, OJOTA', 'AKURE BRANCH',\n",
       "       '40,SAPELE ROAD ,OPPOSITE DUMAZ JUNCTION BENIN CITY EDO STATE.'],\n",
       "      dtype=object)"
      ]
     },
     "execution_count": 1958,
     "metadata": {},
     "output_type": "execute_result"
    }
   ],
   "source": [
    "previousCustomers['bank_branch_clients'].unique()"
   ]
  },
  {
   "cell_type": "code",
   "execution_count": 1959,
   "id": "7801186b",
   "metadata": {},
   "outputs": [
    {
     "data": {
      "text/plain": [
       "13569"
      ]
     },
     "execution_count": 1959,
     "metadata": {},
     "output_type": "execute_result"
    }
   ],
   "source": [
    "previousCustomers['bank_branch_clients'].isnull().sum()"
   ]
  },
  {
   "cell_type": "markdown",
   "id": "5c3e46cd",
   "metadata": {},
   "source": [
    "This column will not be used to train our model due to the large number of missing values that cannot easily be replaced."
   ]
  },
  {
   "cell_type": "markdown",
   "id": "3c39c3ae",
   "metadata": {},
   "source": [
    "##### employment status clients"
   ]
  },
  {
   "cell_type": "code",
   "execution_count": 1960,
   "id": "d39dcfdf",
   "metadata": {},
   "outputs": [
    {
     "data": {
      "text/plain": [
       "array(['Permanent', nan, 'Self-Employed', 'Student', 'Unemployed',\n",
       "       'Retired', 'Contract'], dtype=object)"
      ]
     },
     "execution_count": 1960,
     "metadata": {},
     "output_type": "execute_result"
    }
   ],
   "source": [
    "previousCustomers['employment_status_clients'].unique()"
   ]
  },
  {
   "cell_type": "code",
   "execution_count": 1961,
   "id": "357c0c5f",
   "metadata": {},
   "outputs": [],
   "source": [
    "#loading the testdemographics dataset to see if the values in the previous cell\n",
    "#are also the values in the test dataset\n",
    "testdemo = pd.read_csv('testdemographics.csv')"
   ]
  },
  {
   "cell_type": "code",
   "execution_count": 1962,
   "id": "c243a1af",
   "metadata": {},
   "outputs": [
    {
     "data": {
      "text/plain": [
       "array(['Permanent', 'Self-Employed', nan, 'Student', 'Contract',\n",
       "       'Unemployed', 'Retired'], dtype=object)"
      ]
     },
     "execution_count": 1962,
     "metadata": {},
     "output_type": "execute_result"
    }
   ],
   "source": [
    "testdemo['employment_status_clients'].unique()"
   ]
  },
  {
   "cell_type": "code",
   "execution_count": 1963,
   "id": "831b0b27",
   "metadata": {},
   "outputs": [
    {
     "data": {
      "text/plain": [
       "1363"
      ]
     },
     "execution_count": 1963,
     "metadata": {},
     "output_type": "execute_result"
    }
   ],
   "source": [
    "previousCustomers['employment_status_clients'].isnull().sum()"
   ]
  },
  {
   "cell_type": "code",
   "execution_count": 1964,
   "id": "3ff9dafe",
   "metadata": {},
   "outputs": [],
   "source": [
    "#imputing the missing values with 'Not given'\n",
    "previousCustomers['employment_status_clients'].fillna(\"Employment_not-given\", inplace=True)"
   ]
  },
  {
   "cell_type": "markdown",
   "id": "6c24af77",
   "metadata": {},
   "source": [
    "Updating selected features:\n",
    "1. closed date month: closedDates[month]\n",
    "2. closed date day: closedDates[day]\n",
    "3. closed date hour of day: closedDates[hourOfDay]\n",
    "4. period take to settle the loan(lifetime of loan): previousCustomers[loanlifewithdelta]\n",
    "5. first repayment day status: loanrepayment[firstrepaymentlapsewithdelta]\n",
    "6. ages of the customers: birthdate[age]\n",
    "7. the type of bank account: previousCustomers[bank_account_type]\n",
    "8. the bank name of the clients: previousCustomers[bank_name_clients]\n",
    "9. the employment status of clients: previousCustomers[employment_status]"
   ]
  },
  {
   "cell_type": "markdown",
   "id": "57bd2fb5",
   "metadata": {},
   "source": [
    "We can also see how the number of bad and good loans relates to a person's employment status"
   ]
  },
  {
   "cell_type": "code",
   "execution_count": 1965,
   "id": "db3af6b0",
   "metadata": {},
   "outputs": [],
   "source": [
    "jobstatus = previousCustomers[['employment_status_clients','good_bad_flag']]"
   ]
  },
  {
   "cell_type": "code",
   "execution_count": 1966,
   "id": "7446c7cc",
   "metadata": {},
   "outputs": [
    {
     "data": {
      "image/png": "[encoded data removed]",
      "text/plain": [
       "<Figure size 1080x288 with 1 Axes>"
      ]
     },
     "metadata": {
      "needs_background": "light"
     },
     "output_type": "display_data"
    }
   ],
   "source": [
    "jobstatus.groupby(['employment_status_clients','good_bad_flag']).size().unstack().plot(kind='bar',stacked=True,rot=0)\n",
    "plt.xlabel('Employment status')\n",
    "plt.ylabel('Number of bad/good loans')\n",
    "\n",
    "plt.title('A look at the number of good and bad loans for different employment statuses')\n",
    "\n",
    "#plt.subplot(4,1,2)\n",
    "#plt.title('A look at the number of good and bad loans throughout the years')\n",
    "\n",
    "f = plt.gcf()\n",
    "f.set_figwidth(15) "
   ]
  },
  {
   "cell_type": "markdown",
   "id": "682e8598",
   "metadata": {},
   "source": [
    "From the graph above, we can see that people of 'Permanent' employment type take out the most loans. They also have the most bad loans as compared to other employment statuses."
   ]
  },
  {
   "cell_type": "markdown",
   "id": "58bbf6b7",
   "metadata": {},
   "source": [
    "##### level of education of clients"
   ]
  },
  {
   "cell_type": "code",
   "execution_count": 1967,
   "id": "05ea49ed",
   "metadata": {},
   "outputs": [
    {
     "data": {
      "text/plain": [
       "array(['Post-Graduate', nan, 'Primary', 'Graduate', 'Secondary'],\n",
       "      dtype=object)"
      ]
     },
     "execution_count": 1967,
     "metadata": {},
     "output_type": "execute_result"
    }
   ],
   "source": [
    "previousCustomers['level_of_education_clients'].unique()"
   ]
  },
  {
   "cell_type": "code",
   "execution_count": 1968,
   "id": "1cbc23fc",
   "metadata": {},
   "outputs": [
    {
     "data": {
      "text/plain": [
       "10209"
      ]
     },
     "execution_count": 1968,
     "metadata": {},
     "output_type": "execute_result"
    }
   ],
   "source": [
    "previousCustomers['level_of_education_clients'].isnull().sum()"
   ]
  },
  {
   "cell_type": "markdown",
   "id": "ea96fa52",
   "metadata": {},
   "source": [
    "There is a high number of missing values but this column can be a good feature to train our model on. The missing values will therefore be imputed with 'Not-given'"
   ]
  },
  {
   "cell_type": "code",
   "execution_count": 1969,
   "id": "7d3ddf06",
   "metadata": {},
   "outputs": [],
   "source": [
    "previousCustomers['level_of_education_clients'].fillna('Education_not-given', inplace=True)"
   ]
  },
  {
   "cell_type": "markdown",
   "id": "64f4b59d",
   "metadata": {},
   "source": [
    "Updating selected features:\n",
    "1. closed date month: closedDates[month]\n",
    "2. closed date day: closedDates[day]\n",
    "3. closed date hour of day: closedDates[hourOfDay]\n",
    "4. period take to settle the loan(lifetime of loan): previousCustomers[loanlifewithdelta]\n",
    "5. first repayment day status: loanrepayment[firstrepaymentlapsewithdelta]\n",
    "6. ages of the customers: birthdate[age]\n",
    "7. the type of bank account: previousCustomers[bank_account_type]\n",
    "8. the bank name of the clients: previousCustomers[bank_name_clients]\n",
    "9. the employment status of clients: previousCustomers[employment_status]\n",
    "10. the level of education of clients: previousCustomers[level_of_education_clients]"
   ]
  },
  {
   "cell_type": "markdown",
   "id": "a8feeb91",
   "metadata": {},
   "source": [
    "We can still look at the how the level of education plays out in the matter of bad and good loans"
   ]
  },
  {
   "cell_type": "code",
   "execution_count": 1970,
   "id": "8fed2148",
   "metadata": {},
   "outputs": [],
   "source": [
    "educationlevel = previousCustomers[['level_of_education_clients','good_bad_flag']]"
   ]
  },
  {
   "cell_type": "code",
   "execution_count": 1971,
   "id": "6a645ec2",
   "metadata": {},
   "outputs": [
    {
     "data": {
      "image/png": "[encoded data removed]",
      "text/plain": [
       "<Figure size 1080x288 with 1 Axes>"
      ]
     },
     "metadata": {
      "needs_background": "light"
     },
     "output_type": "display_data"
    }
   ],
   "source": [
    "\n",
    "#plt.subplot(4,1,1)\n",
    "#yearLook = closedDates[['year', 'good_bad_flag']]\n",
    "educationlevel.groupby(['level_of_education_clients','good_bad_flag']).size().unstack().plot(kind='barh',stacked=True,rot=0)\n",
    "plt.xlabel('Level of education')\n",
    "plt.ylabel('Number of bad/good loans')\n",
    "\n",
    "plt.title('A look at the number of good and bad loans for different education levels')\n",
    "\n",
    "#plt.subplot(4,1,2)\n",
    "#plt.title('A look at the number of good and bad loans throughout the years')\n",
    "\n",
    "f = plt.gcf()\n",
    "f.set_figwidth(15) "
   ]
  },
  {
   "cell_type": "markdown",
   "id": "bd9807fe",
   "metadata": {},
   "source": [
    "We can see that the people whose education level we don't know take out the highest number of loans and also have the highest number of bad loans. This is then followed by the graduate education level."
   ]
  },
  {
   "cell_type": "markdown",
   "id": "f2167c35",
   "metadata": {},
   "source": [
    "So we have gone through the non-numerical features of our data and have selected the following 6 columns as features to train our model with:\n",
    "1. period take to settle the loan(lifetime of loan)\n",
    "2. first repayment day status\n",
    "3. ages of the customers\n",
    "4. the type of bank account: \n",
    "5. the bank name of the clients\n",
    "6. the level of education of clients: "
   ]
  },
  {
   "cell_type": "markdown",
   "id": "a823515e",
   "metadata": {},
   "source": [
    "#### Now to look at the numerical columns"
   ]
  },
  {
   "cell_type": "code",
   "execution_count": 1972,
   "id": "92ce7d24",
   "metadata": {},
   "outputs": [
    {
     "name": "stdout",
     "output_type": "stream",
     "text": [
      "There are 14 numerical variabes \n",
      "\n",
      "They are:  ['loannumber', 'creationdate', 'loanamount', 'totaldue', 'termdays', 'closeddate', 'perf_loannumber', 'perf_loanamount', 'perf_totaldue', 'perf_termdays', 'birthdate', 'longitude_gps', 'latitude_gps', 'loanlife']\n"
     ]
    }
   ],
   "source": [
    "numerical = [var for var in previousCustomers.columns if previousCustomers[var].dtype!='O']\n",
    "\n",
    "print('There are {} numerical variabes \\n'.format(len(numerical)))\n",
    "\n",
    "print('They are: ', numerical)"
   ]
  },
  {
   "cell_type": "markdown",
   "id": "751293bd",
   "metadata": {},
   "source": [
    "We are going to ignore creationdate, closeddate, birthdate, loanlife as these have been dealt with and discussed while looking at the categorical features."
   ]
  },
  {
   "cell_type": "code",
   "execution_count": 1973,
   "id": "d76c8975",
   "metadata": {},
   "outputs": [],
   "source": [
    "numColumns= previousCustomers[['loannumber','loanamount','totaldue','termdays','closeddate','perf_loannumber','perf_loanamount','perf_totaldue','perf_termdays','longitude_gps','latitude_gps']]"
   ]
  },
  {
   "cell_type": "code",
   "execution_count": 1974,
   "id": "4ab8d6d7",
   "metadata": {},
   "outputs": [
    {
     "data": {
      "text/html": [
       "<div>\n",
       "<style scoped>\n",
       "    .dataframe tbody tr th:only-of-type {\n",
       "        vertical-align: middle;\n",
       "    }\n",
       "\n",
       "    .dataframe tbody tr th {\n",
       "        vertical-align: top;\n",
       "    }\n",
       "\n",
       "    .dataframe thead th {\n",
       "        text-align: right;\n",
       "    }\n",
       "</style>\n",
       "<table border=\"1\" class=\"dataframe\">\n",
       "  <thead>\n",
       "    <tr style=\"text-align: right;\">\n",
       "      <th></th>\n",
       "      <th>loannumber</th>\n",
       "      <th>loanamount</th>\n",
       "      <th>totaldue</th>\n",
       "      <th>termdays</th>\n",
       "      <th>closeddate</th>\n",
       "      <th>perf_loannumber</th>\n",
       "      <th>perf_loanamount</th>\n",
       "      <th>perf_totaldue</th>\n",
       "      <th>perf_termdays</th>\n",
       "      <th>longitude_gps</th>\n",
       "      <th>latitude_gps</th>\n",
       "    </tr>\n",
       "  </thead>\n",
       "  <tbody>\n",
       "    <tr>\n",
       "      <th>0</th>\n",
       "      <td>2</td>\n",
       "      <td>10000.0</td>\n",
       "      <td>13000.0</td>\n",
       "      <td>30</td>\n",
       "      <td>2016-09-01 16:06:48</td>\n",
       "      <td>12</td>\n",
       "      <td>30000.0</td>\n",
       "      <td>34500.0</td>\n",
       "      <td>30</td>\n",
       "      <td>3.43201</td>\n",
       "      <td>6.433055</td>\n",
       "    </tr>\n",
       "    <tr>\n",
       "      <th>1</th>\n",
       "      <td>9</td>\n",
       "      <td>10000.0</td>\n",
       "      <td>13000.0</td>\n",
       "      <td>30</td>\n",
       "      <td>2017-05-28 14:44:49</td>\n",
       "      <td>12</td>\n",
       "      <td>30000.0</td>\n",
       "      <td>34500.0</td>\n",
       "      <td>30</td>\n",
       "      <td>3.43201</td>\n",
       "      <td>6.433055</td>\n",
       "    </tr>\n",
       "    <tr>\n",
       "      <th>2</th>\n",
       "      <td>8</td>\n",
       "      <td>20000.0</td>\n",
       "      <td>23800.0</td>\n",
       "      <td>30</td>\n",
       "      <td>2017-04-26 22:18:56</td>\n",
       "      <td>12</td>\n",
       "      <td>30000.0</td>\n",
       "      <td>34500.0</td>\n",
       "      <td>30</td>\n",
       "      <td>3.43201</td>\n",
       "      <td>6.433055</td>\n",
       "    </tr>\n",
       "    <tr>\n",
       "      <th>3</th>\n",
       "      <td>10</td>\n",
       "      <td>20000.0</td>\n",
       "      <td>24500.0</td>\n",
       "      <td>30</td>\n",
       "      <td>2017-06-25 15:24:06</td>\n",
       "      <td>12</td>\n",
       "      <td>30000.0</td>\n",
       "      <td>34500.0</td>\n",
       "      <td>30</td>\n",
       "      <td>3.43201</td>\n",
       "      <td>6.433055</td>\n",
       "    </tr>\n",
       "    <tr>\n",
       "      <th>4</th>\n",
       "      <td>11</td>\n",
       "      <td>20000.0</td>\n",
       "      <td>24500.0</td>\n",
       "      <td>30</td>\n",
       "      <td>2017-07-25 08:14:36</td>\n",
       "      <td>12</td>\n",
       "      <td>30000.0</td>\n",
       "      <td>34500.0</td>\n",
       "      <td>30</td>\n",
       "      <td>3.43201</td>\n",
       "      <td>6.433055</td>\n",
       "    </tr>\n",
       "  </tbody>\n",
       "</table>\n",
       "</div>"
      ],
      "text/plain": [
       "   loannumber  loanamount  totaldue  termdays          closeddate  \\\n",
       "0           2     10000.0   13000.0        30 2016-09-01 16:06:48   \n",
       "1           9     10000.0   13000.0        30 2017-05-28 14:44:49   \n",
       "2           8     20000.0   23800.0        30 2017-04-26 22:18:56   \n",
       "3          10     20000.0   24500.0        30 2017-06-25 15:24:06   \n",
       "4          11     20000.0   24500.0        30 2017-07-25 08:14:36   \n",
       "\n",
       "   perf_loannumber  perf_loanamount  perf_totaldue  perf_termdays  \\\n",
       "0               12          30000.0        34500.0             30   \n",
       "1               12          30000.0        34500.0             30   \n",
       "2               12          30000.0        34500.0             30   \n",
       "3               12          30000.0        34500.0             30   \n",
       "4               12          30000.0        34500.0             30   \n",
       "\n",
       "   longitude_gps  latitude_gps  \n",
       "0        3.43201      6.433055  \n",
       "1        3.43201      6.433055  \n",
       "2        3.43201      6.433055  \n",
       "3        3.43201      6.433055  \n",
       "4        3.43201      6.433055  "
      ]
     },
     "execution_count": 1974,
     "metadata": {},
     "output_type": "execute_result"
    }
   ],
   "source": [
    "numColumns.head()"
   ]
  },
  {
   "cell_type": "markdown",
   "id": "13b008b6",
   "metadata": {},
   "source": [
    "Below we add some of the numerical columns generated from the categorical features. These added columns are going to be treated as numerical i.e a person's age, the lifetime of a loan, the time a person took to complete the first repayment day."
   ]
  },
  {
   "cell_type": "code",
   "execution_count": 1975,
   "id": "6705d273",
   "metadata": {},
   "outputs": [],
   "source": [
    "numColumns = pd.concat([numColumns, customerAge['age'],previousCustomers['loanlife'],loanrepayment['firstrepaymentlapse'],previousCustomers['good_bad_flag']],axis=1)"
   ]
  },
  {
   "cell_type": "code",
   "execution_count": 1976,
   "id": "dbb87a2d",
   "metadata": {
    "scrolled": true
   },
   "outputs": [
    {
     "data": {
      "text/html": [
       "<div>\n",
       "<style scoped>\n",
       "    .dataframe tbody tr th:only-of-type {\n",
       "        vertical-align: middle;\n",
       "    }\n",
       "\n",
       "    .dataframe tbody tr th {\n",
       "        vertical-align: top;\n",
       "    }\n",
       "\n",
       "    .dataframe thead th {\n",
       "        text-align: right;\n",
       "    }\n",
       "</style>\n",
       "<table border=\"1\" class=\"dataframe\">\n",
       "  <thead>\n",
       "    <tr style=\"text-align: right;\">\n",
       "      <th></th>\n",
       "      <th>loannumber</th>\n",
       "      <th>loanamount</th>\n",
       "      <th>totaldue</th>\n",
       "      <th>termdays</th>\n",
       "      <th>closeddate</th>\n",
       "      <th>perf_loannumber</th>\n",
       "      <th>perf_loanamount</th>\n",
       "      <th>perf_totaldue</th>\n",
       "      <th>perf_termdays</th>\n",
       "      <th>longitude_gps</th>\n",
       "      <th>latitude_gps</th>\n",
       "      <th>age</th>\n",
       "      <th>loanlife</th>\n",
       "      <th>firstrepaymentlapse</th>\n",
       "      <th>good_bad_flag</th>\n",
       "    </tr>\n",
       "  </thead>\n",
       "  <tbody>\n",
       "    <tr>\n",
       "      <th>13668</th>\n",
       "      <td>1</td>\n",
       "      <td>10000.0</td>\n",
       "      <td>11500.0</td>\n",
       "      <td>15</td>\n",
       "      <td>2017-07-18 16:33:55</td>\n",
       "      <td>2</td>\n",
       "      <td>10000.0</td>\n",
       "      <td>11500.0</td>\n",
       "      <td>15</td>\n",
       "      <td>5.252457</td>\n",
       "      <td>12.991440</td>\n",
       "      <td>36.8</td>\n",
       "      <td>2.231736</td>\n",
       "      <td>12.316840</td>\n",
       "      <td>Good</td>\n",
       "    </tr>\n",
       "    <tr>\n",
       "      <th>13669</th>\n",
       "      <td>1</td>\n",
       "      <td>10000.0</td>\n",
       "      <td>13000.0</td>\n",
       "      <td>30</td>\n",
       "      <td>2017-07-11 14:26:40</td>\n",
       "      <td>2</td>\n",
       "      <td>10000.0</td>\n",
       "      <td>13000.0</td>\n",
       "      <td>30</td>\n",
       "      <td>7.478858</td>\n",
       "      <td>9.055714</td>\n",
       "      <td>43.7</td>\n",
       "      <td>27.359097</td>\n",
       "      <td>2.405197</td>\n",
       "      <td>Good</td>\n",
       "    </tr>\n",
       "    <tr>\n",
       "      <th>13670</th>\n",
       "      <td>1</td>\n",
       "      <td>10000.0</td>\n",
       "      <td>11500.0</td>\n",
       "      <td>15</td>\n",
       "      <td>2017-06-26 14:02:03</td>\n",
       "      <td>2</td>\n",
       "      <td>10000.0</td>\n",
       "      <td>11500.0</td>\n",
       "      <td>15</td>\n",
       "      <td>3.381677</td>\n",
       "      <td>6.455923</td>\n",
       "      <td>33.1</td>\n",
       "      <td>9.865671</td>\n",
       "      <td>6.422292</td>\n",
       "      <td>Good</td>\n",
       "    </tr>\n",
       "    <tr>\n",
       "      <th>13671</th>\n",
       "      <td>1</td>\n",
       "      <td>10000.0</td>\n",
       "      <td>11500.0</td>\n",
       "      <td>15</td>\n",
       "      <td>2017-07-05 14:31:17</td>\n",
       "      <td>2</td>\n",
       "      <td>10000.0</td>\n",
       "      <td>13000.0</td>\n",
       "      <td>30</td>\n",
       "      <td>6.979660</td>\n",
       "      <td>4.879515</td>\n",
       "      <td>42.1</td>\n",
       "      <td>6.587141</td>\n",
       "      <td>8.401991</td>\n",
       "      <td>Good</td>\n",
       "    </tr>\n",
       "    <tr>\n",
       "      <th>13672</th>\n",
       "      <td>1</td>\n",
       "      <td>10000.0</td>\n",
       "      <td>11500.0</td>\n",
       "      <td>15</td>\n",
       "      <td>2017-02-15 09:06:34</td>\n",
       "      <td>2</td>\n",
       "      <td>10000.0</td>\n",
       "      <td>13000.0</td>\n",
       "      <td>30</td>\n",
       "      <td>7.530892</td>\n",
       "      <td>9.042928</td>\n",
       "      <td>33.1</td>\n",
       "      <td>26.837870</td>\n",
       "      <td>-12.369039</td>\n",
       "      <td>Good</td>\n",
       "    </tr>\n",
       "  </tbody>\n",
       "</table>\n",
       "</div>"
      ],
      "text/plain": [
       "       loannumber  loanamount  totaldue  termdays          closeddate  \\\n",
       "13668           1     10000.0   11500.0        15 2017-07-18 16:33:55   \n",
       "13669           1     10000.0   13000.0        30 2017-07-11 14:26:40   \n",
       "13670           1     10000.0   11500.0        15 2017-06-26 14:02:03   \n",
       "13671           1     10000.0   11500.0        15 2017-07-05 14:31:17   \n",
       "13672           1     10000.0   11500.0        15 2017-02-15 09:06:34   \n",
       "\n",
       "       perf_loannumber  perf_loanamount  perf_totaldue  perf_termdays  \\\n",
       "13668                2          10000.0        11500.0             15   \n",
       "13669                2          10000.0        13000.0             30   \n",
       "13670                2          10000.0        11500.0             15   \n",
       "13671                2          10000.0        13000.0             30   \n",
       "13672                2          10000.0        13000.0             30   \n",
       "\n",
       "       longitude_gps  latitude_gps   age   loanlife  firstrepaymentlapse  \\\n",
       "13668       5.252457     12.991440  36.8   2.231736            12.316840   \n",
       "13669       7.478858      9.055714  43.7  27.359097             2.405197   \n",
       "13670       3.381677      6.455923  33.1   9.865671             6.422292   \n",
       "13671       6.979660      4.879515  42.1   6.587141             8.401991   \n",
       "13672       7.530892      9.042928  33.1  26.837870           -12.369039   \n",
       "\n",
       "      good_bad_flag  \n",
       "13668          Good  \n",
       "13669          Good  \n",
       "13670          Good  \n",
       "13671          Good  \n",
       "13672          Good  "
      ]
     },
     "execution_count": 1976,
     "metadata": {},
     "output_type": "execute_result"
    }
   ],
   "source": [
    "numColumns.tail()"
   ]
  },
  {
   "cell_type": "code",
   "execution_count": 1977,
   "id": "f3e8e75d",
   "metadata": {},
   "outputs": [
    {
     "name": "stdout",
     "output_type": "stream",
     "text": [
      "<class 'pandas.core.frame.DataFrame'>\n",
      "Int64Index: 13673 entries, 0 to 13672\n",
      "Data columns (total 15 columns):\n",
      " #   Column               Non-Null Count  Dtype         \n",
      "---  ------               --------------  -----         \n",
      " 0   loannumber           13673 non-null  int64         \n",
      " 1   loanamount           13673 non-null  float64       \n",
      " 2   totaldue             13673 non-null  float64       \n",
      " 3   termdays             13673 non-null  int64         \n",
      " 4   closeddate           13673 non-null  datetime64[ns]\n",
      " 5   perf_loannumber      13673 non-null  int64         \n",
      " 6   perf_loanamount      13673 non-null  float64       \n",
      " 7   perf_totaldue        13673 non-null  float64       \n",
      " 8   perf_termdays        13673 non-null  int64         \n",
      " 9   longitude_gps        13673 non-null  float64       \n",
      " 10  latitude_gps         13673 non-null  float64       \n",
      " 11  age                  13673 non-null  float64       \n",
      " 12  loanlife             13673 non-null  float64       \n",
      " 13  firstrepaymentlapse  13673 non-null  float64       \n",
      " 14  good_bad_flag        13673 non-null  object        \n",
      "dtypes: datetime64[ns](1), float64(9), int64(4), object(1)\n",
      "memory usage: 1.7+ MB\n"
     ]
    }
   ],
   "source": [
    "numColumns.info()"
   ]
  },
  {
   "cell_type": "code",
   "execution_count": 1978,
   "id": "72fb81db",
   "metadata": {},
   "outputs": [],
   "source": [
    "#dropping the closeddate column as it's not needed\n",
    "numColumns.drop(['closeddate'],axis=1,inplace=True)"
   ]
  },
  {
   "cell_type": "markdown",
   "id": "3e35a483",
   "metadata": {},
   "source": [
    "From the first repayment lapse column, we are going to create two new columns:\n",
    "1. The first, LateFirstPay, will show whether someone was late in making the first repayment date and by how many days\n",
    "2. The second, EarlyFirstPay, will show whether someone was early in making the first repayment date and by how many days\n"
   ]
  },
  {
   "cell_type": "code",
   "execution_count": 1979,
   "id": "0c87fdd2",
   "metadata": {},
   "outputs": [],
   "source": [
    "numColumns.loc[numColumns['firstrepaymentlapse'] < 0, 'LateFirstPay'] = numColumns['firstrepaymentlapse']\n",
    "numColumns.loc[numColumns['firstrepaymentlapse'] < 0, 'EarlyFirstPay'] = 0\n",
    "numColumns.loc[numColumns['firstrepaymentlapse'] >= 0, 'LateFirstPay'] = 0\n",
    "numColumns.loc[numColumns['firstrepaymentlapse'] >= 0, 'EarlyFirstPay'] = numColumns['firstrepaymentlapse']"
   ]
  },
  {
   "cell_type": "code",
   "execution_count": 1980,
   "id": "dab109e8",
   "metadata": {},
   "outputs": [
    {
     "data": {
      "text/html": [
       "<div>\n",
       "<style scoped>\n",
       "    .dataframe tbody tr th:only-of-type {\n",
       "        vertical-align: middle;\n",
       "    }\n",
       "\n",
       "    .dataframe tbody tr th {\n",
       "        vertical-align: top;\n",
       "    }\n",
       "\n",
       "    .dataframe thead th {\n",
       "        text-align: right;\n",
       "    }\n",
       "</style>\n",
       "<table border=\"1\" class=\"dataframe\">\n",
       "  <thead>\n",
       "    <tr style=\"text-align: right;\">\n",
       "      <th></th>\n",
       "      <th>loannumber</th>\n",
       "      <th>loanamount</th>\n",
       "      <th>totaldue</th>\n",
       "      <th>termdays</th>\n",
       "      <th>perf_loannumber</th>\n",
       "      <th>perf_loanamount</th>\n",
       "      <th>perf_totaldue</th>\n",
       "      <th>perf_termdays</th>\n",
       "      <th>longitude_gps</th>\n",
       "      <th>latitude_gps</th>\n",
       "      <th>age</th>\n",
       "      <th>loanlife</th>\n",
       "      <th>firstrepaymentlapse</th>\n",
       "      <th>good_bad_flag</th>\n",
       "      <th>LateFirstPay</th>\n",
       "      <th>EarlyFirstPay</th>\n",
       "    </tr>\n",
       "  </thead>\n",
       "  <tbody>\n",
       "    <tr>\n",
       "      <th>0</th>\n",
       "      <td>2</td>\n",
       "      <td>10000.0</td>\n",
       "      <td>13000.0</td>\n",
       "      <td>30</td>\n",
       "      <td>12</td>\n",
       "      <td>30000.0</td>\n",
       "      <td>34500.0</td>\n",
       "      <td>30</td>\n",
       "      <td>3.432010</td>\n",
       "      <td>6.433055</td>\n",
       "      <td>50.9</td>\n",
       "      <td>16.947407</td>\n",
       "      <td>12.339086</td>\n",
       "      <td>Good</td>\n",
       "      <td>0.000000</td>\n",
       "      <td>12.339086</td>\n",
       "    </tr>\n",
       "    <tr>\n",
       "      <th>1</th>\n",
       "      <td>9</td>\n",
       "      <td>10000.0</td>\n",
       "      <td>13000.0</td>\n",
       "      <td>30</td>\n",
       "      <td>12</td>\n",
       "      <td>30000.0</td>\n",
       "      <td>34500.0</td>\n",
       "      <td>30</td>\n",
       "      <td>3.432010</td>\n",
       "      <td>6.433055</td>\n",
       "      <td>50.9</td>\n",
       "      <td>29.879120</td>\n",
       "      <td>4.000000</td>\n",
       "      <td>Good</td>\n",
       "      <td>0.000000</td>\n",
       "      <td>4.000000</td>\n",
       "    </tr>\n",
       "    <tr>\n",
       "      <th>2</th>\n",
       "      <td>8</td>\n",
       "      <td>20000.0</td>\n",
       "      <td>23800.0</td>\n",
       "      <td>30</td>\n",
       "      <td>12</td>\n",
       "      <td>30000.0</td>\n",
       "      <td>34500.0</td>\n",
       "      <td>30</td>\n",
       "      <td>3.432010</td>\n",
       "      <td>6.433055</td>\n",
       "      <td>50.9</td>\n",
       "      <td>52.515706</td>\n",
       "      <td>-22.919294</td>\n",
       "      <td>Good</td>\n",
       "      <td>-22.919294</td>\n",
       "      <td>0.000000</td>\n",
       "    </tr>\n",
       "    <tr>\n",
       "      <th>3</th>\n",
       "      <td>10</td>\n",
       "      <td>20000.0</td>\n",
       "      <td>24500.0</td>\n",
       "      <td>30</td>\n",
       "      <td>12</td>\n",
       "      <td>30000.0</td>\n",
       "      <td>34500.0</td>\n",
       "      <td>30</td>\n",
       "      <td>3.432010</td>\n",
       "      <td>6.433055</td>\n",
       "      <td>50.9</td>\n",
       "      <td>24.117882</td>\n",
       "      <td>7.365324</td>\n",
       "      <td>Good</td>\n",
       "      <td>0.000000</td>\n",
       "      <td>7.365324</td>\n",
       "    </tr>\n",
       "    <tr>\n",
       "      <th>4</th>\n",
       "      <td>11</td>\n",
       "      <td>20000.0</td>\n",
       "      <td>24500.0</td>\n",
       "      <td>30</td>\n",
       "      <td>12</td>\n",
       "      <td>30000.0</td>\n",
       "      <td>34500.0</td>\n",
       "      <td>30</td>\n",
       "      <td>3.432010</td>\n",
       "      <td>6.433055</td>\n",
       "      <td>50.9</td>\n",
       "      <td>26.927905</td>\n",
       "      <td>5.663576</td>\n",
       "      <td>Good</td>\n",
       "      <td>0.000000</td>\n",
       "      <td>5.663576</td>\n",
       "    </tr>\n",
       "    <tr>\n",
       "      <th>...</th>\n",
       "      <td>...</td>\n",
       "      <td>...</td>\n",
       "      <td>...</td>\n",
       "      <td>...</td>\n",
       "      <td>...</td>\n",
       "      <td>...</td>\n",
       "      <td>...</td>\n",
       "      <td>...</td>\n",
       "      <td>...</td>\n",
       "      <td>...</td>\n",
       "      <td>...</td>\n",
       "      <td>...</td>\n",
       "      <td>...</td>\n",
       "      <td>...</td>\n",
       "      <td>...</td>\n",
       "      <td>...</td>\n",
       "    </tr>\n",
       "    <tr>\n",
       "      <th>13668</th>\n",
       "      <td>1</td>\n",
       "      <td>10000.0</td>\n",
       "      <td>11500.0</td>\n",
       "      <td>15</td>\n",
       "      <td>2</td>\n",
       "      <td>10000.0</td>\n",
       "      <td>11500.0</td>\n",
       "      <td>15</td>\n",
       "      <td>5.252457</td>\n",
       "      <td>12.991440</td>\n",
       "      <td>36.8</td>\n",
       "      <td>2.231736</td>\n",
       "      <td>12.316840</td>\n",
       "      <td>Good</td>\n",
       "      <td>0.000000</td>\n",
       "      <td>12.316840</td>\n",
       "    </tr>\n",
       "    <tr>\n",
       "      <th>13669</th>\n",
       "      <td>1</td>\n",
       "      <td>10000.0</td>\n",
       "      <td>13000.0</td>\n",
       "      <td>30</td>\n",
       "      <td>2</td>\n",
       "      <td>10000.0</td>\n",
       "      <td>13000.0</td>\n",
       "      <td>30</td>\n",
       "      <td>7.478858</td>\n",
       "      <td>9.055714</td>\n",
       "      <td>43.7</td>\n",
       "      <td>27.359097</td>\n",
       "      <td>2.405197</td>\n",
       "      <td>Good</td>\n",
       "      <td>0.000000</td>\n",
       "      <td>2.405197</td>\n",
       "    </tr>\n",
       "    <tr>\n",
       "      <th>13670</th>\n",
       "      <td>1</td>\n",
       "      <td>10000.0</td>\n",
       "      <td>11500.0</td>\n",
       "      <td>15</td>\n",
       "      <td>2</td>\n",
       "      <td>10000.0</td>\n",
       "      <td>11500.0</td>\n",
       "      <td>15</td>\n",
       "      <td>3.381677</td>\n",
       "      <td>6.455923</td>\n",
       "      <td>33.1</td>\n",
       "      <td>9.865671</td>\n",
       "      <td>6.422292</td>\n",
       "      <td>Good</td>\n",
       "      <td>0.000000</td>\n",
       "      <td>6.422292</td>\n",
       "    </tr>\n",
       "    <tr>\n",
       "      <th>13671</th>\n",
       "      <td>1</td>\n",
       "      <td>10000.0</td>\n",
       "      <td>11500.0</td>\n",
       "      <td>15</td>\n",
       "      <td>2</td>\n",
       "      <td>10000.0</td>\n",
       "      <td>13000.0</td>\n",
       "      <td>30</td>\n",
       "      <td>6.979660</td>\n",
       "      <td>4.879515</td>\n",
       "      <td>42.1</td>\n",
       "      <td>6.587141</td>\n",
       "      <td>8.401991</td>\n",
       "      <td>Good</td>\n",
       "      <td>0.000000</td>\n",
       "      <td>8.401991</td>\n",
       "    </tr>\n",
       "    <tr>\n",
       "      <th>13672</th>\n",
       "      <td>1</td>\n",
       "      <td>10000.0</td>\n",
       "      <td>11500.0</td>\n",
       "      <td>15</td>\n",
       "      <td>2</td>\n",
       "      <td>10000.0</td>\n",
       "      <td>13000.0</td>\n",
       "      <td>30</td>\n",
       "      <td>7.530892</td>\n",
       "      <td>9.042928</td>\n",
       "      <td>33.1</td>\n",
       "      <td>26.837870</td>\n",
       "      <td>-12.369039</td>\n",
       "      <td>Good</td>\n",
       "      <td>-12.369039</td>\n",
       "      <td>0.000000</td>\n",
       "    </tr>\n",
       "  </tbody>\n",
       "</table>\n",
       "<p>13673 rows × 16 columns</p>\n",
       "</div>"
      ],
      "text/plain": [
       "       loannumber  loanamount  totaldue  termdays  perf_loannumber  \\\n",
       "0               2     10000.0   13000.0        30               12   \n",
       "1               9     10000.0   13000.0        30               12   \n",
       "2               8     20000.0   23800.0        30               12   \n",
       "3              10     20000.0   24500.0        30               12   \n",
       "4              11     20000.0   24500.0        30               12   \n",
       "...           ...         ...       ...       ...              ...   \n",
       "13668           1     10000.0   11500.0        15                2   \n",
       "13669           1     10000.0   13000.0        30                2   \n",
       "13670           1     10000.0   11500.0        15                2   \n",
       "13671           1     10000.0   11500.0        15                2   \n",
       "13672           1     10000.0   11500.0        15                2   \n",
       "\n",
       "       perf_loanamount  perf_totaldue  perf_termdays  longitude_gps  \\\n",
       "0              30000.0        34500.0             30       3.432010   \n",
       "1              30000.0        34500.0             30       3.432010   \n",
       "2              30000.0        34500.0             30       3.432010   \n",
       "3              30000.0        34500.0             30       3.432010   \n",
       "4              30000.0        34500.0             30       3.432010   \n",
       "...                ...            ...            ...            ...   \n",
       "13668          10000.0        11500.0             15       5.252457   \n",
       "13669          10000.0        13000.0             30       7.478858   \n",
       "13670          10000.0        11500.0             15       3.381677   \n",
       "13671          10000.0        13000.0             30       6.979660   \n",
       "13672          10000.0        13000.0             30       7.530892   \n",
       "\n",
       "       latitude_gps   age   loanlife  firstrepaymentlapse good_bad_flag  \\\n",
       "0          6.433055  50.9  16.947407            12.339086          Good   \n",
       "1          6.433055  50.9  29.879120             4.000000          Good   \n",
       "2          6.433055  50.9  52.515706           -22.919294          Good   \n",
       "3          6.433055  50.9  24.117882             7.365324          Good   \n",
       "4          6.433055  50.9  26.927905             5.663576          Good   \n",
       "...             ...   ...        ...                  ...           ...   \n",
       "13668     12.991440  36.8   2.231736            12.316840          Good   \n",
       "13669      9.055714  43.7  27.359097             2.405197          Good   \n",
       "13670      6.455923  33.1   9.865671             6.422292          Good   \n",
       "13671      4.879515  42.1   6.587141             8.401991          Good   \n",
       "13672      9.042928  33.1  26.837870           -12.369039          Good   \n",
       "\n",
       "       LateFirstPay  EarlyFirstPay  \n",
       "0          0.000000      12.339086  \n",
       "1          0.000000       4.000000  \n",
       "2        -22.919294       0.000000  \n",
       "3          0.000000       7.365324  \n",
       "4          0.000000       5.663576  \n",
       "...             ...            ...  \n",
       "13668      0.000000      12.316840  \n",
       "13669      0.000000       2.405197  \n",
       "13670      0.000000       6.422292  \n",
       "13671      0.000000       8.401991  \n",
       "13672    -12.369039       0.000000  \n",
       "\n",
       "[13673 rows x 16 columns]"
      ]
     },
     "execution_count": 1980,
     "metadata": {},
     "output_type": "execute_result"
    }
   ],
   "source": [
    "numColumns"
   ]
  },
  {
   "cell_type": "code",
   "execution_count": 1981,
   "id": "1e1ffc9b",
   "metadata": {},
   "outputs": [
    {
     "name": "stdout",
     "output_type": "stream",
     "text": [
      "<class 'pandas.core.frame.DataFrame'>\n",
      "Int64Index: 13673 entries, 0 to 13672\n",
      "Data columns (total 16 columns):\n",
      " #   Column               Non-Null Count  Dtype  \n",
      "---  ------               --------------  -----  \n",
      " 0   loannumber           13673 non-null  int64  \n",
      " 1   loanamount           13673 non-null  float64\n",
      " 2   totaldue             13673 non-null  float64\n",
      " 3   termdays             13673 non-null  int64  \n",
      " 4   perf_loannumber      13673 non-null  int64  \n",
      " 5   perf_loanamount      13673 non-null  float64\n",
      " 6   perf_totaldue        13673 non-null  float64\n",
      " 7   perf_termdays        13673 non-null  int64  \n",
      " 8   longitude_gps        13673 non-null  float64\n",
      " 9   latitude_gps         13673 non-null  float64\n",
      " 10  age                  13673 non-null  float64\n",
      " 11  loanlife             13673 non-null  float64\n",
      " 12  firstrepaymentlapse  13673 non-null  float64\n",
      " 13  good_bad_flag        13673 non-null  object \n",
      " 14  LateFirstPay         13673 non-null  float64\n",
      " 15  EarlyFirstPay        13673 non-null  float64\n",
      "dtypes: float64(11), int64(4), object(1)\n",
      "memory usage: 2.3+ MB\n"
     ]
    }
   ],
   "source": [
    "numColumns.info()"
   ]
  },
  {
   "cell_type": "code",
   "execution_count": 1982,
   "id": "8b3256cd",
   "metadata": {},
   "outputs": [],
   "source": [
    "#dropping the firstrepaymentlapse column in favour of the two new ones created\n",
    "numColumns.drop(['firstrepaymentlapse'], axis=1, inplace=True)"
   ]
  },
  {
   "cell_type": "markdown",
   "id": "81466bd9",
   "metadata": {},
   "source": [
    "Let's have a look at if there are outliers in our data using boxplot"
   ]
  },
  {
   "cell_type": "code",
   "execution_count": 1983,
   "id": "b59d5b08",
   "metadata": {},
   "outputs": [
    {
     "data": {
      "text/plain": [
       "Text(0, 0.5, 'Age')"
      ]
     },
     "execution_count": 1983,
     "metadata": {},
     "output_type": "execute_result"
    },
    {
     "data": {
      "image/png": "[encoded data removed]",
      "text/plain": [
       "<Figure size 1080x720 with 4 Axes>"
      ]
     },
     "metadata": {
      "needs_background": "light"
     },
     "output_type": "display_data"
    }
   ],
   "source": [
    "plt.figure(figsize=(15,10))\n",
    "\n",
    "plt.subplot(2,2,1)\n",
    "fig = numColumns.boxplot(column='loannumber')\n",
    "fig.set_ylabel('Loan number')\n",
    "\n",
    "plt.subplot(2,2,2)\n",
    "fig = numColumns.boxplot(column='loanamount')\n",
    "fig.set_ylabel('Loan amount')\n",
    "\n",
    "plt.subplot(2,2,3)\n",
    "fig = numColumns.boxplot(column='totaldue')\n",
    "fig.set_ylabel('Total due')\n",
    "\n",
    "plt.subplot(2,2,4)\n",
    "fig = numColumns.boxplot(column='age')\n",
    "fig.set_ylabel('Age')"
   ]
  },
  {
   "cell_type": "code",
   "execution_count": 1984,
   "id": "669a6d58",
   "metadata": {},
   "outputs": [
    {
     "data": {
      "text/plain": [
       "Text(0, 0.5, 'Longitude')"
      ]
     },
     "execution_count": 1984,
     "metadata": {},
     "output_type": "execute_result"
    },
    {
     "data": {
      "image/png": "[encoded data removed]",
      "text/plain": [
       "<Figure size 1080x720 with 2 Axes>"
      ]
     },
     "metadata": {
      "needs_background": "light"
     },
     "output_type": "display_data"
    }
   ],
   "source": [
    "plt.figure(figsize=(15,10))\n",
    "\n",
    "plt.subplot(1,2,1)\n",
    "fig = numColumns.boxplot(column='latitude_gps')\n",
    "fig.set_ylabel('Latitude')\n",
    "\n",
    "plt.subplot(1,2,2)\n",
    "fig = numColumns.boxplot(column='longitude_gps')\n",
    "fig.set_ylabel('Longitude')\n",
    "\n"
   ]
  },
  {
   "cell_type": "markdown",
   "id": "4cf67490",
   "metadata": {},
   "source": [
    "For our numerical columns, we can see that there are outliers in each column. These will not be removed though as these outliers could help the model better predict which loans may result in bad or good loans."
   ]
  },
  {
   "cell_type": "markdown",
   "id": "c583832d",
   "metadata": {},
   "source": [
    "The outliers via longitude and latitude may be atttibuted to people who are outside Nigeria."
   ]
  },
  {
   "cell_type": "markdown",
   "id": "5710a6e3",
   "metadata": {},
   "source": [
    "##### splitting data into target and feature"
   ]
  },
  {
   "cell_type": "code",
   "execution_count": 1985,
   "id": "1b563d35",
   "metadata": {
    "scrolled": true
   },
   "outputs": [
    {
     "data": {
      "text/html": [
       "<div>\n",
       "<style scoped>\n",
       "    .dataframe tbody tr th:only-of-type {\n",
       "        vertical-align: middle;\n",
       "    }\n",
       "\n",
       "    .dataframe tbody tr th {\n",
       "        vertical-align: top;\n",
       "    }\n",
       "\n",
       "    .dataframe thead th {\n",
       "        text-align: right;\n",
       "    }\n",
       "</style>\n",
       "<table border=\"1\" class=\"dataframe\">\n",
       "  <thead>\n",
       "    <tr style=\"text-align: right;\">\n",
       "      <th></th>\n",
       "      <th>loannumber</th>\n",
       "      <th>loanamount</th>\n",
       "      <th>totaldue</th>\n",
       "      <th>termdays</th>\n",
       "      <th>perf_loannumber</th>\n",
       "      <th>perf_loanamount</th>\n",
       "      <th>perf_totaldue</th>\n",
       "      <th>perf_termdays</th>\n",
       "      <th>longitude_gps</th>\n",
       "      <th>latitude_gps</th>\n",
       "      <th>...</th>\n",
       "      <th>Permanent</th>\n",
       "      <th>Retired</th>\n",
       "      <th>Self-Employed</th>\n",
       "      <th>Student</th>\n",
       "      <th>Unemployed</th>\n",
       "      <th>Education_not-given</th>\n",
       "      <th>Graduate</th>\n",
       "      <th>Post-Graduate</th>\n",
       "      <th>Primary</th>\n",
       "      <th>Secondary</th>\n",
       "    </tr>\n",
       "  </thead>\n",
       "  <tbody>\n",
       "    <tr>\n",
       "      <th>0</th>\n",
       "      <td>2</td>\n",
       "      <td>10000.0</td>\n",
       "      <td>13000.0</td>\n",
       "      <td>30</td>\n",
       "      <td>12</td>\n",
       "      <td>30000.0</td>\n",
       "      <td>34500.0</td>\n",
       "      <td>30</td>\n",
       "      <td>3.432010</td>\n",
       "      <td>6.433055</td>\n",
       "      <td>...</td>\n",
       "      <td>1</td>\n",
       "      <td>0</td>\n",
       "      <td>0</td>\n",
       "      <td>0</td>\n",
       "      <td>0</td>\n",
       "      <td>0</td>\n",
       "      <td>0</td>\n",
       "      <td>1</td>\n",
       "      <td>0</td>\n",
       "      <td>0</td>\n",
       "    </tr>\n",
       "    <tr>\n",
       "      <th>1</th>\n",
       "      <td>9</td>\n",
       "      <td>10000.0</td>\n",
       "      <td>13000.0</td>\n",
       "      <td>30</td>\n",
       "      <td>12</td>\n",
       "      <td>30000.0</td>\n",
       "      <td>34500.0</td>\n",
       "      <td>30</td>\n",
       "      <td>3.432010</td>\n",
       "      <td>6.433055</td>\n",
       "      <td>...</td>\n",
       "      <td>1</td>\n",
       "      <td>0</td>\n",
       "      <td>0</td>\n",
       "      <td>0</td>\n",
       "      <td>0</td>\n",
       "      <td>0</td>\n",
       "      <td>0</td>\n",
       "      <td>1</td>\n",
       "      <td>0</td>\n",
       "      <td>0</td>\n",
       "    </tr>\n",
       "    <tr>\n",
       "      <th>2</th>\n",
       "      <td>8</td>\n",
       "      <td>20000.0</td>\n",
       "      <td>23800.0</td>\n",
       "      <td>30</td>\n",
       "      <td>12</td>\n",
       "      <td>30000.0</td>\n",
       "      <td>34500.0</td>\n",
       "      <td>30</td>\n",
       "      <td>3.432010</td>\n",
       "      <td>6.433055</td>\n",
       "      <td>...</td>\n",
       "      <td>1</td>\n",
       "      <td>0</td>\n",
       "      <td>0</td>\n",
       "      <td>0</td>\n",
       "      <td>0</td>\n",
       "      <td>0</td>\n",
       "      <td>0</td>\n",
       "      <td>1</td>\n",
       "      <td>0</td>\n",
       "      <td>0</td>\n",
       "    </tr>\n",
       "    <tr>\n",
       "      <th>3</th>\n",
       "      <td>10</td>\n",
       "      <td>20000.0</td>\n",
       "      <td>24500.0</td>\n",
       "      <td>30</td>\n",
       "      <td>12</td>\n",
       "      <td>30000.0</td>\n",
       "      <td>34500.0</td>\n",
       "      <td>30</td>\n",
       "      <td>3.432010</td>\n",
       "      <td>6.433055</td>\n",
       "      <td>...</td>\n",
       "      <td>1</td>\n",
       "      <td>0</td>\n",
       "      <td>0</td>\n",
       "      <td>0</td>\n",
       "      <td>0</td>\n",
       "      <td>0</td>\n",
       "      <td>0</td>\n",
       "      <td>1</td>\n",
       "      <td>0</td>\n",
       "      <td>0</td>\n",
       "    </tr>\n",
       "    <tr>\n",
       "      <th>4</th>\n",
       "      <td>11</td>\n",
       "      <td>20000.0</td>\n",
       "      <td>24500.0</td>\n",
       "      <td>30</td>\n",
       "      <td>12</td>\n",
       "      <td>30000.0</td>\n",
       "      <td>34500.0</td>\n",
       "      <td>30</td>\n",
       "      <td>3.432010</td>\n",
       "      <td>6.433055</td>\n",
       "      <td>...</td>\n",
       "      <td>1</td>\n",
       "      <td>0</td>\n",
       "      <td>0</td>\n",
       "      <td>0</td>\n",
       "      <td>0</td>\n",
       "      <td>0</td>\n",
       "      <td>0</td>\n",
       "      <td>1</td>\n",
       "      <td>0</td>\n",
       "      <td>0</td>\n",
       "    </tr>\n",
       "    <tr>\n",
       "      <th>...</th>\n",
       "      <td>...</td>\n",
       "      <td>...</td>\n",
       "      <td>...</td>\n",
       "      <td>...</td>\n",
       "      <td>...</td>\n",
       "      <td>...</td>\n",
       "      <td>...</td>\n",
       "      <td>...</td>\n",
       "      <td>...</td>\n",
       "      <td>...</td>\n",
       "      <td>...</td>\n",
       "      <td>...</td>\n",
       "      <td>...</td>\n",
       "      <td>...</td>\n",
       "      <td>...</td>\n",
       "      <td>...</td>\n",
       "      <td>...</td>\n",
       "      <td>...</td>\n",
       "      <td>...</td>\n",
       "      <td>...</td>\n",
       "      <td>...</td>\n",
       "    </tr>\n",
       "    <tr>\n",
       "      <th>13668</th>\n",
       "      <td>1</td>\n",
       "      <td>10000.0</td>\n",
       "      <td>11500.0</td>\n",
       "      <td>15</td>\n",
       "      <td>2</td>\n",
       "      <td>10000.0</td>\n",
       "      <td>11500.0</td>\n",
       "      <td>15</td>\n",
       "      <td>5.252457</td>\n",
       "      <td>12.991440</td>\n",
       "      <td>...</td>\n",
       "      <td>1</td>\n",
       "      <td>0</td>\n",
       "      <td>0</td>\n",
       "      <td>0</td>\n",
       "      <td>0</td>\n",
       "      <td>1</td>\n",
       "      <td>0</td>\n",
       "      <td>0</td>\n",
       "      <td>0</td>\n",
       "      <td>0</td>\n",
       "    </tr>\n",
       "    <tr>\n",
       "      <th>13669</th>\n",
       "      <td>1</td>\n",
       "      <td>10000.0</td>\n",
       "      <td>13000.0</td>\n",
       "      <td>30</td>\n",
       "      <td>2</td>\n",
       "      <td>10000.0</td>\n",
       "      <td>13000.0</td>\n",
       "      <td>30</td>\n",
       "      <td>7.478858</td>\n",
       "      <td>9.055714</td>\n",
       "      <td>...</td>\n",
       "      <td>1</td>\n",
       "      <td>0</td>\n",
       "      <td>0</td>\n",
       "      <td>0</td>\n",
       "      <td>0</td>\n",
       "      <td>1</td>\n",
       "      <td>0</td>\n",
       "      <td>0</td>\n",
       "      <td>0</td>\n",
       "      <td>0</td>\n",
       "    </tr>\n",
       "    <tr>\n",
       "      <th>13670</th>\n",
       "      <td>1</td>\n",
       "      <td>10000.0</td>\n",
       "      <td>11500.0</td>\n",
       "      <td>15</td>\n",
       "      <td>2</td>\n",
       "      <td>10000.0</td>\n",
       "      <td>11500.0</td>\n",
       "      <td>15</td>\n",
       "      <td>3.381677</td>\n",
       "      <td>6.455923</td>\n",
       "      <td>...</td>\n",
       "      <td>1</td>\n",
       "      <td>0</td>\n",
       "      <td>0</td>\n",
       "      <td>0</td>\n",
       "      <td>0</td>\n",
       "      <td>1</td>\n",
       "      <td>0</td>\n",
       "      <td>0</td>\n",
       "      <td>0</td>\n",
       "      <td>0</td>\n",
       "    </tr>\n",
       "    <tr>\n",
       "      <th>13671</th>\n",
       "      <td>1</td>\n",
       "      <td>10000.0</td>\n",
       "      <td>11500.0</td>\n",
       "      <td>15</td>\n",
       "      <td>2</td>\n",
       "      <td>10000.0</td>\n",
       "      <td>13000.0</td>\n",
       "      <td>30</td>\n",
       "      <td>6.979660</td>\n",
       "      <td>4.879515</td>\n",
       "      <td>...</td>\n",
       "      <td>0</td>\n",
       "      <td>0</td>\n",
       "      <td>0</td>\n",
       "      <td>0</td>\n",
       "      <td>1</td>\n",
       "      <td>0</td>\n",
       "      <td>1</td>\n",
       "      <td>0</td>\n",
       "      <td>0</td>\n",
       "      <td>0</td>\n",
       "    </tr>\n",
       "    <tr>\n",
       "      <th>13672</th>\n",
       "      <td>1</td>\n",
       "      <td>10000.0</td>\n",
       "      <td>11500.0</td>\n",
       "      <td>15</td>\n",
       "      <td>2</td>\n",
       "      <td>10000.0</td>\n",
       "      <td>13000.0</td>\n",
       "      <td>30</td>\n",
       "      <td>7.530892</td>\n",
       "      <td>9.042928</td>\n",
       "      <td>...</td>\n",
       "      <td>1</td>\n",
       "      <td>0</td>\n",
       "      <td>0</td>\n",
       "      <td>0</td>\n",
       "      <td>0</td>\n",
       "      <td>1</td>\n",
       "      <td>0</td>\n",
       "      <td>0</td>\n",
       "      <td>0</td>\n",
       "      <td>0</td>\n",
       "    </tr>\n",
       "  </tbody>\n",
       "</table>\n",
       "<p>13673 rows × 48 columns</p>\n",
       "</div>"
      ],
      "text/plain": [
       "       loannumber  loanamount  totaldue  termdays  perf_loannumber  \\\n",
       "0               2     10000.0   13000.0        30               12   \n",
       "1               9     10000.0   13000.0        30               12   \n",
       "2               8     20000.0   23800.0        30               12   \n",
       "3              10     20000.0   24500.0        30               12   \n",
       "4              11     20000.0   24500.0        30               12   \n",
       "...           ...         ...       ...       ...              ...   \n",
       "13668           1     10000.0   11500.0        15                2   \n",
       "13669           1     10000.0   13000.0        30                2   \n",
       "13670           1     10000.0   11500.0        15                2   \n",
       "13671           1     10000.0   11500.0        15                2   \n",
       "13672           1     10000.0   11500.0        15                2   \n",
       "\n",
       "       perf_loanamount  perf_totaldue  perf_termdays  longitude_gps  \\\n",
       "0              30000.0        34500.0             30       3.432010   \n",
       "1              30000.0        34500.0             30       3.432010   \n",
       "2              30000.0        34500.0             30       3.432010   \n",
       "3              30000.0        34500.0             30       3.432010   \n",
       "4              30000.0        34500.0             30       3.432010   \n",
       "...                ...            ...            ...            ...   \n",
       "13668          10000.0        11500.0             15       5.252457   \n",
       "13669          10000.0        13000.0             30       7.478858   \n",
       "13670          10000.0        11500.0             15       3.381677   \n",
       "13671          10000.0        13000.0             30       6.979660   \n",
       "13672          10000.0        13000.0             30       7.530892   \n",
       "\n",
       "       latitude_gps  ...  Permanent  Retired Self-Employed  Student  \\\n",
       "0          6.433055  ...          1        0             0        0   \n",
       "1          6.433055  ...          1        0             0        0   \n",
       "2          6.433055  ...          1        0             0        0   \n",
       "3          6.433055  ...          1        0             0        0   \n",
       "4          6.433055  ...          1        0             0        0   \n",
       "...             ...  ...        ...      ...           ...      ...   \n",
       "13668     12.991440  ...          1        0             0        0   \n",
       "13669      9.055714  ...          1        0             0        0   \n",
       "13670      6.455923  ...          1        0             0        0   \n",
       "13671      4.879515  ...          0        0             0        0   \n",
       "13672      9.042928  ...          1        0             0        0   \n",
       "\n",
       "       Unemployed  Education_not-given  Graduate  Post-Graduate  Primary  \\\n",
       "0               0                    0         0              1        0   \n",
       "1               0                    0         0              1        0   \n",
       "2               0                    0         0              1        0   \n",
       "3               0                    0         0              1        0   \n",
       "4               0                    0         0              1        0   \n",
       "...           ...                  ...       ...            ...      ...   \n",
       "13668           0                    1         0              0        0   \n",
       "13669           0                    1         0              0        0   \n",
       "13670           0                    1         0              0        0   \n",
       "13671           1                    0         1              0        0   \n",
       "13672           0                    1         0              0        0   \n",
       "\n",
       "       Secondary  \n",
       "0              0  \n",
       "1              0  \n",
       "2              0  \n",
       "3              0  \n",
       "4              0  \n",
       "...          ...  \n",
       "13668          0  \n",
       "13669          0  \n",
       "13670          0  \n",
       "13671          0  \n",
       "13672          0  \n",
       "\n",
       "[13673 rows x 48 columns]"
      ]
     },
     "execution_count": 1985,
     "metadata": {},
     "output_type": "execute_result"
    }
   ],
   "source": [
    "#creating a dataframe consisting of all of the columns that are going to be used to train \n",
    "#our models\n",
    "newdf = pd.concat([numColumns, \n",
    "                  pd.get_dummies(previousCustomers.bank_account_type),\n",
    "                  pd.get_dummies(previousCustomers.bank_name_clients),\n",
    "                  pd.get_dummies(previousCustomers.employment_status_clients),\n",
    "                  pd.get_dummies(previousCustomers.level_of_education_clients)], axis=1)\n",
    "\n",
    "newdf"
   ]
  },
  {
   "cell_type": "code",
   "execution_count": 1986,
   "id": "c7f14248",
   "metadata": {},
   "outputs": [
    {
     "data": {
      "text/plain": [
       "Index(['loannumber', 'loanamount', 'totaldue', 'termdays', 'perf_loannumber',\n",
       "       'perf_loanamount', 'perf_totaldue', 'perf_termdays', 'longitude_gps',\n",
       "       'latitude_gps', 'age', 'loanlife', 'good_bad_flag', 'LateFirstPay',\n",
       "       'EarlyFirstPay', 'Current', 'Other', 'Savings', 'Access Bank',\n",
       "       'Diamond Bank', 'EcoBank', 'FCMB', 'Fidelity Bank', 'First Bank',\n",
       "       'GT Bank', 'Heritage Bank', 'Keystone Bank', 'Skye Bank',\n",
       "       'Stanbic IBTC', 'Standard Chartered', 'Sterling Bank', 'UBA',\n",
       "       'Union Bank', 'Unity Bank', 'Wema Bank', 'Zenith Bank', 'Contract',\n",
       "       'Employment_not-given', 'Permanent', 'Retired', 'Self-Employed',\n",
       "       'Student', 'Unemployed', 'Education_not-given', 'Graduate',\n",
       "       'Post-Graduate', 'Primary', 'Secondary'],\n",
       "      dtype='object')"
      ]
     },
     "execution_count": 1986,
     "metadata": {},
     "output_type": "execute_result"
    }
   ],
   "source": [
    "newdf.columns"
   ]
  },
  {
   "cell_type": "code",
   "execution_count": 1987,
   "id": "486b3e16",
   "metadata": {},
   "outputs": [],
   "source": [
    "#separating the input features, X and the target feature, y that we want to predict\n",
    "X = newdf.drop(['good_bad_flag'], axis=1)\n",
    "y = newdf['good_bad_flag']"
   ]
  },
  {
   "cell_type": "code",
   "execution_count": 1988,
   "id": "7471bc1f",
   "metadata": {},
   "outputs": [],
   "source": [
    "#Giving ourselves a test set of 20% of the initial records\n",
    "X_train, X_test, y_train, y_test = train_test_split(X, y, test_size=0.2, random_state= 4)"
   ]
  },
  {
   "cell_type": "code",
   "execution_count": 1989,
   "id": "0d227e71",
   "metadata": {},
   "outputs": [
    {
     "data": {
      "text/plain": [
       "((10938, 47), (2735, 47))"
      ]
     },
     "execution_count": 1989,
     "metadata": {},
     "output_type": "execute_result"
    }
   ],
   "source": [
    "#Looking at the shape of our training and testing data\n",
    "#Training data has 10,938 entries and the testing data has 2,735 entries\n",
    "X_train.shape, X_test.shape"
   ]
  },
  {
   "cell_type": "code",
   "execution_count": 1990,
   "id": "88725f20",
   "metadata": {},
   "outputs": [
    {
     "data": {
      "text/plain": [
       "Index(['loannumber', 'loanamount', 'totaldue', 'termdays', 'perf_loannumber',\n",
       "       'perf_loanamount', 'perf_totaldue', 'perf_termdays', 'longitude_gps',\n",
       "       'latitude_gps', 'age', 'loanlife', 'LateFirstPay', 'EarlyFirstPay',\n",
       "       'Current', 'Other', 'Savings', 'Access Bank', 'Diamond Bank', 'EcoBank',\n",
       "       'FCMB', 'Fidelity Bank', 'First Bank', 'GT Bank', 'Heritage Bank',\n",
       "       'Keystone Bank', 'Skye Bank', 'Stanbic IBTC', 'Standard Chartered',\n",
       "       'Sterling Bank', 'UBA', 'Union Bank', 'Unity Bank', 'Wema Bank',\n",
       "       'Zenith Bank', 'Contract', 'Employment_not-given', 'Permanent',\n",
       "       'Retired', 'Self-Employed', 'Student', 'Unemployed',\n",
       "       'Education_not-given', 'Graduate', 'Post-Graduate', 'Primary',\n",
       "       'Secondary'],\n",
       "      dtype='object')"
      ]
     },
     "execution_count": 1990,
     "metadata": {},
     "output_type": "execute_result"
    }
   ],
   "source": [
    "X_train.columns"
   ]
  },
  {
   "cell_type": "code",
   "execution_count": 1991,
   "id": "14c0b827",
   "metadata": {},
   "outputs": [
    {
     "name": "stdout",
     "output_type": "stream",
     "text": [
      "<class 'pandas.core.frame.DataFrame'>\n",
      "Int64Index: 10938 entries, 2894 to 1146\n",
      "Data columns (total 47 columns):\n",
      " #   Column                Non-Null Count  Dtype  \n",
      "---  ------                --------------  -----  \n",
      " 0   loannumber            10938 non-null  int64  \n",
      " 1   loanamount            10938 non-null  float64\n",
      " 2   totaldue              10938 non-null  float64\n",
      " 3   termdays              10938 non-null  int64  \n",
      " 4   perf_loannumber       10938 non-null  int64  \n",
      " 5   perf_loanamount       10938 non-null  float64\n",
      " 6   perf_totaldue         10938 non-null  float64\n",
      " 7   perf_termdays         10938 non-null  int64  \n",
      " 8   longitude_gps         10938 non-null  float64\n",
      " 9   latitude_gps          10938 non-null  float64\n",
      " 10  age                   10938 non-null  float64\n",
      " 11  loanlife              10938 non-null  float64\n",
      " 12  LateFirstPay          10938 non-null  float64\n",
      " 13  EarlyFirstPay         10938 non-null  float64\n",
      " 14  Current               10938 non-null  uint8  \n",
      " 15  Other                 10938 non-null  uint8  \n",
      " 16  Savings               10938 non-null  uint8  \n",
      " 17  Access Bank           10938 non-null  uint8  \n",
      " 18  Diamond Bank          10938 non-null  uint8  \n",
      " 19  EcoBank               10938 non-null  uint8  \n",
      " 20  FCMB                  10938 non-null  uint8  \n",
      " 21  Fidelity Bank         10938 non-null  uint8  \n",
      " 22  First Bank            10938 non-null  uint8  \n",
      " 23  GT Bank               10938 non-null  uint8  \n",
      " 24  Heritage Bank         10938 non-null  uint8  \n",
      " 25  Keystone Bank         10938 non-null  uint8  \n",
      " 26  Skye Bank             10938 non-null  uint8  \n",
      " 27  Stanbic IBTC          10938 non-null  uint8  \n",
      " 28  Standard Chartered    10938 non-null  uint8  \n",
      " 29  Sterling Bank         10938 non-null  uint8  \n",
      " 30  UBA                   10938 non-null  uint8  \n",
      " 31  Union Bank            10938 non-null  uint8  \n",
      " 32  Unity Bank            10938 non-null  uint8  \n",
      " 33  Wema Bank             10938 non-null  uint8  \n",
      " 34  Zenith Bank           10938 non-null  uint8  \n",
      " 35  Contract              10938 non-null  uint8  \n",
      " 36  Employment_not-given  10938 non-null  uint8  \n",
      " 37  Permanent             10938 non-null  uint8  \n",
      " 38  Retired               10938 non-null  uint8  \n",
      " 39  Self-Employed         10938 non-null  uint8  \n",
      " 40  Student               10938 non-null  uint8  \n",
      " 41  Unemployed            10938 non-null  uint8  \n",
      " 42  Education_not-given   10938 non-null  uint8  \n",
      " 43  Graduate              10938 non-null  uint8  \n",
      " 44  Post-Graduate         10938 non-null  uint8  \n",
      " 45  Primary               10938 non-null  uint8  \n",
      " 46  Secondary             10938 non-null  uint8  \n",
      "dtypes: float64(10), int64(4), uint8(33)\n",
      "memory usage: 1.6 MB\n"
     ]
    }
   ],
   "source": [
    "X_train.info()"
   ]
  },
  {
   "cell_type": "code",
   "execution_count": 1992,
   "id": "971d77a0",
   "metadata": {},
   "outputs": [
    {
     "name": "stdout",
     "output_type": "stream",
     "text": [
      "<class 'pandas.core.frame.DataFrame'>\n",
      "Int64Index: 2735 entries, 5339 to 12030\n",
      "Data columns (total 47 columns):\n",
      " #   Column                Non-Null Count  Dtype  \n",
      "---  ------                --------------  -----  \n",
      " 0   loannumber            2735 non-null   int64  \n",
      " 1   loanamount            2735 non-null   float64\n",
      " 2   totaldue              2735 non-null   float64\n",
      " 3   termdays              2735 non-null   int64  \n",
      " 4   perf_loannumber       2735 non-null   int64  \n",
      " 5   perf_loanamount       2735 non-null   float64\n",
      " 6   perf_totaldue         2735 non-null   float64\n",
      " 7   perf_termdays         2735 non-null   int64  \n",
      " 8   longitude_gps         2735 non-null   float64\n",
      " 9   latitude_gps          2735 non-null   float64\n",
      " 10  age                   2735 non-null   float64\n",
      " 11  loanlife              2735 non-null   float64\n",
      " 12  LateFirstPay          2735 non-null   float64\n",
      " 13  EarlyFirstPay         2735 non-null   float64\n",
      " 14  Current               2735 non-null   uint8  \n",
      " 15  Other                 2735 non-null   uint8  \n",
      " 16  Savings               2735 non-null   uint8  \n",
      " 17  Access Bank           2735 non-null   uint8  \n",
      " 18  Diamond Bank          2735 non-null   uint8  \n",
      " 19  EcoBank               2735 non-null   uint8  \n",
      " 20  FCMB                  2735 non-null   uint8  \n",
      " 21  Fidelity Bank         2735 non-null   uint8  \n",
      " 22  First Bank            2735 non-null   uint8  \n",
      " 23  GT Bank               2735 non-null   uint8  \n",
      " 24  Heritage Bank         2735 non-null   uint8  \n",
      " 25  Keystone Bank         2735 non-null   uint8  \n",
      " 26  Skye Bank             2735 non-null   uint8  \n",
      " 27  Stanbic IBTC          2735 non-null   uint8  \n",
      " 28  Standard Chartered    2735 non-null   uint8  \n",
      " 29  Sterling Bank         2735 non-null   uint8  \n",
      " 30  UBA                   2735 non-null   uint8  \n",
      " 31  Union Bank            2735 non-null   uint8  \n",
      " 32  Unity Bank            2735 non-null   uint8  \n",
      " 33  Wema Bank             2735 non-null   uint8  \n",
      " 34  Zenith Bank           2735 non-null   uint8  \n",
      " 35  Contract              2735 non-null   uint8  \n",
      " 36  Employment_not-given  2735 non-null   uint8  \n",
      " 37  Permanent             2735 non-null   uint8  \n",
      " 38  Retired               2735 non-null   uint8  \n",
      " 39  Self-Employed         2735 non-null   uint8  \n",
      " 40  Student               2735 non-null   uint8  \n",
      " 41  Unemployed            2735 non-null   uint8  \n",
      " 42  Education_not-given   2735 non-null   uint8  \n",
      " 43  Graduate              2735 non-null   uint8  \n",
      " 44  Post-Graduate         2735 non-null   uint8  \n",
      " 45  Primary               2735 non-null   uint8  \n",
      " 46  Secondary             2735 non-null   uint8  \n",
      "dtypes: float64(10), int64(4), uint8(33)\n",
      "memory usage: 408.6 KB\n"
     ]
    }
   ],
   "source": [
    "X_test.info()"
   ]
  },
  {
   "cell_type": "markdown",
   "id": "b1faea4a",
   "metadata": {},
   "source": [
    "No missing values in the training and testing data"
   ]
  },
  {
   "cell_type": "markdown",
   "id": "96164906",
   "metadata": {},
   "source": [
    "##### Scaling of the data"
   ]
  },
  {
   "cell_type": "code",
   "execution_count": 1993,
   "id": "9e82898c",
   "metadata": {},
   "outputs": [],
   "source": [
    "cols = X_train.columns"
   ]
  },
  {
   "cell_type": "code",
   "execution_count": 1994,
   "id": "5da68414",
   "metadata": {},
   "outputs": [],
   "source": [
    "#Going to use a standard scaler\n",
    "scaler = StandardScaler()\n",
    "\n",
    "X_train = scaler.fit_transform(X_train)\n",
    "X_test = scaler.transform(X_test)"
   ]
  },
  {
   "cell_type": "markdown",
   "id": "1bd4e6bd",
   "metadata": {},
   "source": [
    "In the next section, we are going to be building our model.\n",
    "From earlier in our notebook, we noticed that our data was imbalanced with the number of bad loans much smaller than the number of good loans. This doesn't give our models enough data to learn from about what a bad loan could look like.\n",
    "\n",
    "We are going to deal with the imbalanced data but first, we want to see what would happen if we trained our data with the imbalanced dataset."
   ]
  },
  {
   "cell_type": "markdown",
   "id": "94e01c49",
   "metadata": {},
   "source": [
    "## Logistic Regression\n",
    "### with imbalanced data"
   ]
  },
  {
   "cell_type": "markdown",
   "id": "821e29e3",
   "metadata": {},
   "source": [
    "The first model we are building is a logistic regression model and it is dealing with the imbalanced data."
   ]
  },
  {
   "cell_type": "code",
   "execution_count": 1995,
   "id": "679b2ea6",
   "metadata": {},
   "outputs": [
    {
     "data": {
      "text/html": [
       "<style>#sk-container-id-30 {color: black;background-color: white;}#sk-container-id-30 pre{padding: 0;}#sk-container-id-30 div.sk-toggleable {background-color: white;}#sk-container-id-30 label.sk-toggleable__label {cursor: pointer;display: block;width: 100%;margin-bottom: 0;padding: 0.3em;box-sizing: border-box;text-align: center;}#sk-container-id-30 label.sk-toggleable__label-arrow:before {content: \"▸\";float: left;margin-right: 0.25em;color: #696969;}#sk-container-id-30 label.sk-toggleable__label-arrow:hover:before {color: black;}#sk-container-id-30 div.sk-estimator:hover label.sk-toggleable__label-arrow:before {color: black;}#sk-container-id-30 div.sk-toggleable__content {max-height: 0;max-width: 0;overflow: hidden;text-align: left;background-color: #f0f8ff;}#sk-container-id-30 div.sk-toggleable__content pre {margin: 0.2em;color: black;border-radius: 0.25em;background-color: #f0f8ff;}#sk-container-id-30 input.sk-toggleable__control:checked~div.sk-toggleable__content {max-height: 200px;max-width: 100%;overflow: auto;}#sk-container-id-30 input.sk-toggleable__control:checked~label.sk-toggleable__label-arrow:before {content: \"▾\";}#sk-container-id-30 div.sk-estimator input.sk-toggleable__control:checked~label.sk-toggleable__label {background-color: #d4ebff;}#sk-container-id-30 div.sk-label input.sk-toggleable__control:checked~label.sk-toggleable__label {background-color: #d4ebff;}#sk-container-id-30 input.sk-hidden--visually {border: 0;clip: rect(1px 1px 1px 1px);clip: rect(1px, 1px, 1px, 1px);height: 1px;margin: -1px;overflow: hidden;padding: 0;position: absolute;width: 1px;}#sk-container-id-30 div.sk-estimator {font-family: monospace;background-color: #f0f8ff;border: 1px dotted black;border-radius: 0.25em;box-sizing: border-box;margin-bottom: 0.5em;}#sk-container-id-30 div.sk-estimator:hover {background-color: #d4ebff;}#sk-container-id-30 div.sk-parallel-item::after {content: \"\";width: 100%;border-bottom: 1px solid gray;flex-grow: 1;}#sk-container-id-30 div.sk-label:hover label.sk-toggleable__label {background-color: #d4ebff;}#sk-container-id-30 div.sk-serial::before {content: \"\";position: absolute;border-left: 1px solid gray;box-sizing: border-box;top: 0;bottom: 0;left: 50%;z-index: 0;}#sk-container-id-30 div.sk-serial {display: flex;flex-direction: column;align-items: center;background-color: white;padding-right: 0.2em;padding-left: 0.2em;position: relative;}#sk-container-id-30 div.sk-item {position: relative;z-index: 1;}#sk-container-id-30 div.sk-parallel {display: flex;align-items: stretch;justify-content: center;background-color: white;position: relative;}#sk-container-id-30 div.sk-item::before, #sk-container-id-30 div.sk-parallel-item::before {content: \"\";position: absolute;border-left: 1px solid gray;box-sizing: border-box;top: 0;bottom: 0;left: 50%;z-index: -1;}#sk-container-id-30 div.sk-parallel-item {display: flex;flex-direction: column;z-index: 1;position: relative;background-color: white;}#sk-container-id-30 div.sk-parallel-item:first-child::after {align-self: flex-end;width: 50%;}#sk-container-id-30 div.sk-parallel-item:last-child::after {align-self: flex-start;width: 50%;}#sk-container-id-30 div.sk-parallel-item:only-child::after {width: 0;}#sk-container-id-30 div.sk-dashed-wrapped {border: 1px dashed gray;margin: 0 0.4em 0.5em 0.4em;box-sizing: border-box;padding-bottom: 0.4em;background-color: white;}#sk-container-id-30 div.sk-label label {font-family: monospace;font-weight: bold;display: inline-block;line-height: 1.2em;}#sk-container-id-30 div.sk-label-container {text-align: center;}#sk-container-id-30 div.sk-container {/* jupyter's `normalize.less` sets `[hidden] { display: none; }` but bootstrap.min.css set `[hidden] { display: none !important; }` so we also need the `!important` here to be able to override the default hidden behavior on the sphinx rendered scikit-learn.org. See: https://github.com/scikit-learn/scikit-learn/issues/21755 */display: inline-block !important;position: relative;}#sk-container-id-30 div.sk-text-repr-fallback {display: none;}</style><div id=\"sk-container-id-30\" class=\"sk-top-container\"><div class=\"sk-text-repr-fallback\"><pre>LogisticRegression(random_state=0, solver=&#x27;liblinear&#x27;)</pre><b>In a Jupyter environment, please rerun this cell to show the HTML representation or trust the notebook. <br />On GitHub, the HTML representation is unable to render, please try loading this page with nbviewer.org.</b></div><div class=\"sk-container\" hidden><div class=\"sk-item\"><div class=\"sk-estimator sk-toggleable\"><input class=\"sk-toggleable__control sk-hidden--visually\" id=\"sk-estimator-id-30\" type=\"checkbox\" checked><label for=\"sk-estimator-id-30\" class=\"sk-toggleable__label sk-toggleable__label-arrow\">LogisticRegression</label><div class=\"sk-toggleable__content\"><pre>LogisticRegression(random_state=0, solver=&#x27;liblinear&#x27;)</pre></div></div></div></div></div>"
      ],
      "text/plain": [
       "LogisticRegression(random_state=0, solver='liblinear')"
      ]
     },
     "execution_count": 1995,
     "metadata": {},
     "output_type": "execute_result"
    }
   ],
   "source": [
    "#Building our logistic regression model\n",
    "logreg = LogisticRegression(solver='liblinear', random_state=0)\n",
    "\n",
    "logreg.fit(X_train, y_train)"
   ]
  },
  {
   "cell_type": "code",
   "execution_count": 1996,
   "id": "9d8c48e6",
   "metadata": {},
   "outputs": [],
   "source": [
    "#Providing our testing data for predictions\n",
    "y_pred_test = logreg.predict(X_test)"
   ]
  },
  {
   "cell_type": "code",
   "execution_count": 1997,
   "id": "2931d473",
   "metadata": {},
   "outputs": [
    {
     "data": {
      "text/plain": [
       "array(['Good', 'Good', 'Good', ..., 'Good', 'Good', 'Good'], dtype=object)"
      ]
     },
     "execution_count": 1997,
     "metadata": {},
     "output_type": "execute_result"
    }
   ],
   "source": [
    "#looking at the predictions given by the model\n",
    "y_pred_test"
   ]
  },
  {
   "cell_type": "code",
   "execution_count": 1998,
   "id": "03627095",
   "metadata": {},
   "outputs": [
    {
     "name": "stdout",
     "output_type": "stream",
     "text": [
      "Model accuracy score(test):  0.83327239488117\n"
     ]
    }
   ],
   "source": [
    "print('Model accuracy score(test): ', accuracy_score(y_test, y_pred_test))"
   ]
  },
  {
   "cell_type": "code",
   "execution_count": 1999,
   "id": "d38932dc",
   "metadata": {},
   "outputs": [
    {
     "name": "stdout",
     "output_type": "stream",
     "text": [
      "Model accuracy score(train):  0.811848601206802\n"
     ]
    }
   ],
   "source": [
    "y_pred_train = logreg.predict(X_train)\n",
    "\n",
    "print('Model accuracy score(train): ', accuracy_score(y_train, y_pred_train))"
   ]
  },
  {
   "cell_type": "markdown",
   "id": "26e259b0",
   "metadata": {},
   "source": [
    "From the two cells above, we can see that the model's accuracy seems to be very high. This seems very strange considering we have imbalanced data"
   ]
  },
  {
   "cell_type": "code",
   "execution_count": 2000,
   "id": "19fb095a",
   "metadata": {},
   "outputs": [
    {
     "data": {
      "text/plain": [
       "Good    2275\n",
       "Bad      460\n",
       "Name: good_bad_flag, dtype: int64"
      ]
     },
     "execution_count": 2000,
     "metadata": {},
     "output_type": "execute_result"
    }
   ],
   "source": [
    "y_test.value_counts()"
   ]
  },
  {
   "cell_type": "code",
   "execution_count": 2001,
   "id": "97612bbd",
   "metadata": {},
   "outputs": [],
   "source": [
    "#confusion matrix for our model\n",
    "cm =confusion_matrix(y_test, y_pred_test)"
   ]
  },
  {
   "cell_type": "code",
   "execution_count": 2002,
   "id": "9d9a716f",
   "metadata": {},
   "outputs": [
    {
     "data": {
      "text/plain": [
       "array([[  11,  449],\n",
       "       [   7, 2268]])"
      ]
     },
     "execution_count": 2002,
     "metadata": {},
     "output_type": "execute_result"
    }
   ],
   "source": [
    "cm"
   ]
  },
  {
   "cell_type": "code",
   "execution_count": 2003,
   "id": "d3d1fae7",
   "metadata": {},
   "outputs": [],
   "source": [
    "disp = ConfusionMatrixDisplay(confusion_matrix=cm, display_labels=logreg.classes_)"
   ]
  },
  {
   "cell_type": "code",
   "execution_count": 2004,
   "id": "466cb4d2",
   "metadata": {},
   "outputs": [
    {
     "data": {
      "text/plain": [
       "<sklearn.metrics._plot.confusion_matrix.ConfusionMatrixDisplay at 0x7f2a05c93b50>"
      ]
     },
     "execution_count": 2004,
     "metadata": {},
     "output_type": "execute_result"
    },
    {
     "data": {
      "image/png": "[encoded data removed]",
      "text/plain": [
       "<Figure size 432x288 with 2 Axes>"
      ]
     },
     "metadata": {
      "needs_background": "light"
     },
     "output_type": "display_data"
    }
   ],
   "source": [
    "disp.plot()"
   ]
  },
  {
   "cell_type": "markdown",
   "id": "e9d1e0a8",
   "metadata": {},
   "source": [
    "From the confusion matrix above, we can see that the model is predicting good loans correctly: 2268 good loans were correctly precdicted with only 7 missclassified.\n",
    "\n",
    "We can also see that it is only accurately predicted only 11 bad loans as bad. 449 bad loans were wrongly classified as good loans. \n",
    "This can be attributed to the fact that the model has a lot of data on good loans but not enough on bad loans."
   ]
  },
  {
   "cell_type": "code",
   "execution_count": 2005,
   "id": "3091dd1b",
   "metadata": {},
   "outputs": [
    {
     "name": "stdout",
     "output_type": "stream",
     "text": [
      "              precision    recall  f1-score   support\n",
      "\n",
      "         Bad       0.61      0.02      0.05       460\n",
      "        Good       0.83      1.00      0.91      2275\n",
      "\n",
      "    accuracy                           0.83      2735\n",
      "   macro avg       0.72      0.51      0.48      2735\n",
      "weighted avg       0.80      0.83      0.76      2735\n",
      "\n"
     ]
    }
   ],
   "source": [
    "print(classification_report(y_test, y_pred_test))"
   ]
  },
  {
   "cell_type": "markdown",
   "id": "5ca644f6",
   "metadata": {},
   "source": [
    "From the classification report above, we can still see the model doing very well on the good loans but very poorly for the bad loans\n",
    "We see we only have 460 instances of bad loans to train on. \n",
    "The macro average is low also show that data is imbalanced."
   ]
  },
  {
   "cell_type": "markdown",
   "id": "30c18c15",
   "metadata": {},
   "source": [
    "##### Dealing with imbalanced data\n",
    "Now that we've seen the effect of imbalanced data, we can deal with this by creating new data from the existing data that we can then use to train our model."
   ]
  },
  {
   "cell_type": "code",
   "execution_count": 2006,
   "id": "27acaf9b",
   "metadata": {},
   "outputs": [],
   "source": [
    "X = newdf.drop(['good_bad_flag'], axis=1)\n",
    "y = newdf['good_bad_flag']"
   ]
  },
  {
   "cell_type": "code",
   "execution_count": 2007,
   "id": "bcc12d83",
   "metadata": {},
   "outputs": [],
   "source": [
    "#SMOTE is an oversampling technique that creates new data from existing \n",
    "#for the minority class in this case, bad loans\n",
    "#the sampling strategy chosen is \n",
    "smote_algo = SMOTE(sampling_strategy='all',random_state=0)\n",
    "smote_data_X, smote_data_Y = smote_algo.fit_resample(X,y)\n",
    "smote_data_X = pd.DataFrame(data=smote_data_X, columns=X.columns)\n",
    "smote_data_Y = pd.DataFrame(data=smote_data_Y, columns=['good_bad_flag'])\n"
   ]
  },
  {
   "cell_type": "code",
   "execution_count": 2008,
   "id": "a693b5f8",
   "metadata": {},
   "outputs": [],
   "source": [
    "smote_data = smote_data_X\n",
    "smote_data['good_bad_flag'] = smote_data_Y['good_bad_flag']"
   ]
  },
  {
   "cell_type": "code",
   "execution_count": 2009,
   "id": "7bca0a62",
   "metadata": {},
   "outputs": [
    {
     "name": "stdout",
     "output_type": "stream",
     "text": [
      "<class 'pandas.core.frame.DataFrame'>\n",
      "Int64Index: 22292 entries, 0 to 22291\n",
      "Data columns (total 48 columns):\n",
      " #   Column                Non-Null Count  Dtype  \n",
      "---  ------                --------------  -----  \n",
      " 0   loannumber            22292 non-null  int64  \n",
      " 1   loanamount            22292 non-null  float64\n",
      " 2   totaldue              22292 non-null  float64\n",
      " 3   termdays              22292 non-null  int64  \n",
      " 4   perf_loannumber       22292 non-null  int64  \n",
      " 5   perf_loanamount       22292 non-null  float64\n",
      " 6   perf_totaldue         22292 non-null  float64\n",
      " 7   perf_termdays         22292 non-null  int64  \n",
      " 8   longitude_gps         22292 non-null  float64\n",
      " 9   latitude_gps          22292 non-null  float64\n",
      " 10  age                   22292 non-null  float64\n",
      " 11  loanlife              22292 non-null  float64\n",
      " 12  LateFirstPay          22292 non-null  float64\n",
      " 13  EarlyFirstPay         22292 non-null  float64\n",
      " 14  Current               22292 non-null  uint8  \n",
      " 15  Other                 22292 non-null  uint8  \n",
      " 16  Savings               22292 non-null  uint8  \n",
      " 17  Access Bank           22292 non-null  uint8  \n",
      " 18  Diamond Bank          22292 non-null  uint8  \n",
      " 19  EcoBank               22292 non-null  uint8  \n",
      " 20  FCMB                  22292 non-null  uint8  \n",
      " 21  Fidelity Bank         22292 non-null  uint8  \n",
      " 22  First Bank            22292 non-null  uint8  \n",
      " 23  GT Bank               22292 non-null  uint8  \n",
      " 24  Heritage Bank         22292 non-null  uint8  \n",
      " 25  Keystone Bank         22292 non-null  uint8  \n",
      " 26  Skye Bank             22292 non-null  uint8  \n",
      " 27  Stanbic IBTC          22292 non-null  uint8  \n",
      " 28  Standard Chartered    22292 non-null  uint8  \n",
      " 29  Sterling Bank         22292 non-null  uint8  \n",
      " 30  UBA                   22292 non-null  uint8  \n",
      " 31  Union Bank            22292 non-null  uint8  \n",
      " 32  Unity Bank            22292 non-null  uint8  \n",
      " 33  Wema Bank             22292 non-null  uint8  \n",
      " 34  Zenith Bank           22292 non-null  uint8  \n",
      " 35  Contract              22292 non-null  uint8  \n",
      " 36  Employment_not-given  22292 non-null  uint8  \n",
      " 37  Permanent             22292 non-null  uint8  \n",
      " 38  Retired               22292 non-null  uint8  \n",
      " 39  Self-Employed         22292 non-null  uint8  \n",
      " 40  Student               22292 non-null  uint8  \n",
      " 41  Unemployed            22292 non-null  uint8  \n",
      " 42  Education_not-given   22292 non-null  uint8  \n",
      " 43  Graduate              22292 non-null  uint8  \n",
      " 44  Post-Graduate         22292 non-null  uint8  \n",
      " 45  Primary               22292 non-null  uint8  \n",
      " 46  Secondary             22292 non-null  uint8  \n",
      " 47  good_bad_flag         22292 non-null  object \n",
      "dtypes: float64(10), int64(4), object(1), uint8(33)\n",
      "memory usage: 3.4+ MB\n"
     ]
    }
   ],
   "source": [
    "smote_data.drop_duplicates(keep=\"first\", inplace=True) #removing duplicate data if any\n",
    "smote_data.info()"
   ]
  },
  {
   "cell_type": "markdown",
   "id": "165fae2d",
   "metadata": {},
   "source": [
    "After applying SMOTE, we now have over 20,000 entries as compared to the 10,000 we had originally trained with for the first model instance.\n",
    "Now we can go ahead and train a new model using this more balanced data."
   ]
  },
  {
   "cell_type": "code",
   "execution_count": 2010,
   "id": "d2355e90",
   "metadata": {},
   "outputs": [],
   "source": [
    "X = smote_data.drop(['good_bad_flag'],axis=1)\n",
    "y = smote_data['good_bad_flag']"
   ]
  },
  {
   "cell_type": "code",
   "execution_count": 2011,
   "id": "51f8603f",
   "metadata": {},
   "outputs": [],
   "source": [
    "X_train, X_test, y_train, y_test = train_test_split(X, y, test_size=0.2, random_state= 2)"
   ]
  },
  {
   "cell_type": "code",
   "execution_count": 2012,
   "id": "9d155431",
   "metadata": {},
   "outputs": [],
   "source": [
    "X_train = scaler.fit_transform(X_train)\n",
    "X_test = scaler.transform(X_test)"
   ]
  },
  {
   "cell_type": "code",
   "execution_count": 2013,
   "id": "c7ae0fbd",
   "metadata": {},
   "outputs": [
    {
     "data": {
      "text/plain": [
       "((17833, 47), (4459, 47))"
      ]
     },
     "execution_count": 2013,
     "metadata": {},
     "output_type": "execute_result"
    }
   ],
   "source": [
    "X_train.shape, X_test.shape"
   ]
  },
  {
   "cell_type": "code",
   "execution_count": 2014,
   "id": "5c764be3",
   "metadata": {},
   "outputs": [],
   "source": [
    "logreg = LogisticRegression(solver='liblinear', random_state=3)"
   ]
  },
  {
   "cell_type": "code",
   "execution_count": 2015,
   "id": "dc523640",
   "metadata": {},
   "outputs": [
    {
     "data": {
      "text/html": [
       "<style>#sk-container-id-31 {color: black;background-color: white;}#sk-container-id-31 pre{padding: 0;}#sk-container-id-31 div.sk-toggleable {background-color: white;}#sk-container-id-31 label.sk-toggleable__label {cursor: pointer;display: block;width: 100%;margin-bottom: 0;padding: 0.3em;box-sizing: border-box;text-align: center;}#sk-container-id-31 label.sk-toggleable__label-arrow:before {content: \"▸\";float: left;margin-right: 0.25em;color: #696969;}#sk-container-id-31 label.sk-toggleable__label-arrow:hover:before {color: black;}#sk-container-id-31 div.sk-estimator:hover label.sk-toggleable__label-arrow:before {color: black;}#sk-container-id-31 div.sk-toggleable__content {max-height: 0;max-width: 0;overflow: hidden;text-align: left;background-color: #f0f8ff;}#sk-container-id-31 div.sk-toggleable__content pre {margin: 0.2em;color: black;border-radius: 0.25em;background-color: #f0f8ff;}#sk-container-id-31 input.sk-toggleable__control:checked~div.sk-toggleable__content {max-height: 200px;max-width: 100%;overflow: auto;}#sk-container-id-31 input.sk-toggleable__control:checked~label.sk-toggleable__label-arrow:before {content: \"▾\";}#sk-container-id-31 div.sk-estimator input.sk-toggleable__control:checked~label.sk-toggleable__label {background-color: #d4ebff;}#sk-container-id-31 div.sk-label input.sk-toggleable__control:checked~label.sk-toggleable__label {background-color: #d4ebff;}#sk-container-id-31 input.sk-hidden--visually {border: 0;clip: rect(1px 1px 1px 1px);clip: rect(1px, 1px, 1px, 1px);height: 1px;margin: -1px;overflow: hidden;padding: 0;position: absolute;width: 1px;}#sk-container-id-31 div.sk-estimator {font-family: monospace;background-color: #f0f8ff;border: 1px dotted black;border-radius: 0.25em;box-sizing: border-box;margin-bottom: 0.5em;}#sk-container-id-31 div.sk-estimator:hover {background-color: #d4ebff;}#sk-container-id-31 div.sk-parallel-item::after {content: \"\";width: 100%;border-bottom: 1px solid gray;flex-grow: 1;}#sk-container-id-31 div.sk-label:hover label.sk-toggleable__label {background-color: #d4ebff;}#sk-container-id-31 div.sk-serial::before {content: \"\";position: absolute;border-left: 1px solid gray;box-sizing: border-box;top: 0;bottom: 0;left: 50%;z-index: 0;}#sk-container-id-31 div.sk-serial {display: flex;flex-direction: column;align-items: center;background-color: white;padding-right: 0.2em;padding-left: 0.2em;position: relative;}#sk-container-id-31 div.sk-item {position: relative;z-index: 1;}#sk-container-id-31 div.sk-parallel {display: flex;align-items: stretch;justify-content: center;background-color: white;position: relative;}#sk-container-id-31 div.sk-item::before, #sk-container-id-31 div.sk-parallel-item::before {content: \"\";position: absolute;border-left: 1px solid gray;box-sizing: border-box;top: 0;bottom: 0;left: 50%;z-index: -1;}#sk-container-id-31 div.sk-parallel-item {display: flex;flex-direction: column;z-index: 1;position: relative;background-color: white;}#sk-container-id-31 div.sk-parallel-item:first-child::after {align-self: flex-end;width: 50%;}#sk-container-id-31 div.sk-parallel-item:last-child::after {align-self: flex-start;width: 50%;}#sk-container-id-31 div.sk-parallel-item:only-child::after {width: 0;}#sk-container-id-31 div.sk-dashed-wrapped {border: 1px dashed gray;margin: 0 0.4em 0.5em 0.4em;box-sizing: border-box;padding-bottom: 0.4em;background-color: white;}#sk-container-id-31 div.sk-label label {font-family: monospace;font-weight: bold;display: inline-block;line-height: 1.2em;}#sk-container-id-31 div.sk-label-container {text-align: center;}#sk-container-id-31 div.sk-container {/* jupyter's `normalize.less` sets `[hidden] { display: none; }` but bootstrap.min.css set `[hidden] { display: none !important; }` so we also need the `!important` here to be able to override the default hidden behavior on the sphinx rendered scikit-learn.org. See: https://github.com/scikit-learn/scikit-learn/issues/21755 */display: inline-block !important;position: relative;}#sk-container-id-31 div.sk-text-repr-fallback {display: none;}</style><div id=\"sk-container-id-31\" class=\"sk-top-container\"><div class=\"sk-text-repr-fallback\"><pre>LogisticRegression(random_state=3, solver=&#x27;liblinear&#x27;)</pre><b>In a Jupyter environment, please rerun this cell to show the HTML representation or trust the notebook. <br />On GitHub, the HTML representation is unable to render, please try loading this page with nbviewer.org.</b></div><div class=\"sk-container\" hidden><div class=\"sk-item\"><div class=\"sk-estimator sk-toggleable\"><input class=\"sk-toggleable__control sk-hidden--visually\" id=\"sk-estimator-id-31\" type=\"checkbox\" checked><label for=\"sk-estimator-id-31\" class=\"sk-toggleable__label sk-toggleable__label-arrow\">LogisticRegression</label><div class=\"sk-toggleable__content\"><pre>LogisticRegression(random_state=3, solver=&#x27;liblinear&#x27;)</pre></div></div></div></div></div>"
      ],
      "text/plain": [
       "LogisticRegression(random_state=3, solver='liblinear')"
      ]
     },
     "execution_count": 2015,
     "metadata": {},
     "output_type": "execute_result"
    }
   ],
   "source": [
    "logreg.fit(X_train, y_train)"
   ]
  },
  {
   "cell_type": "code",
   "execution_count": 2016,
   "id": "b44876e5",
   "metadata": {},
   "outputs": [
    {
     "data": {
      "text/plain": [
       "array(['Good', 'Bad', 'Good', ..., 'Bad', 'Bad', 'Good'], dtype=object)"
      ]
     },
     "execution_count": 2016,
     "metadata": {},
     "output_type": "execute_result"
    }
   ],
   "source": [
    "y_pred_test = logreg.predict(X_test)\n",
    "y_pred_test"
   ]
  },
  {
   "cell_type": "code",
   "execution_count": 2017,
   "id": "0897bfc5",
   "metadata": {},
   "outputs": [
    {
     "name": "stdout",
     "output_type": "stream",
     "text": [
      "Model accuracy score(test):  0.8176721237945728\n"
     ]
    }
   ],
   "source": [
    "print('Model accuracy score(test): ', accuracy_score(y_test, y_pred_test))"
   ]
  },
  {
   "cell_type": "code",
   "execution_count": 2018,
   "id": "6f4244c3",
   "metadata": {},
   "outputs": [
    {
     "name": "stdout",
     "output_type": "stream",
     "text": [
      "Model accuracy score(train):  0.8080524869623731\n"
     ]
    }
   ],
   "source": [
    "y_pred_train = logreg.predict(X_train)\n",
    "\n",
    "print('Model accuracy score(train): ', accuracy_score(y_train, y_pred_train))"
   ]
  },
  {
   "cell_type": "code",
   "execution_count": 2019,
   "id": "43f75fc1",
   "metadata": {},
   "outputs": [
    {
     "data": {
      "text/plain": [
       "Bad     2245\n",
       "Good    2214\n",
       "Name: good_bad_flag, dtype: int64"
      ]
     },
     "execution_count": 2019,
     "metadata": {},
     "output_type": "execute_result"
    }
   ],
   "source": [
    "y_test.value_counts()"
   ]
  },
  {
   "cell_type": "code",
   "execution_count": 2020,
   "id": "c07d2801",
   "metadata": {},
   "outputs": [],
   "source": [
    "null_accuracy = 1831/(len(y_test))"
   ]
  },
  {
   "cell_type": "code",
   "execution_count": 2021,
   "id": "8ea067c6",
   "metadata": {},
   "outputs": [
    {
     "data": {
      "text/plain": [
       "0.4106301861403902"
      ]
     },
     "execution_count": 2021,
     "metadata": {},
     "output_type": "execute_result"
    }
   ],
   "source": [
    "null_accuracy"
   ]
  },
  {
   "cell_type": "code",
   "execution_count": 2022,
   "id": "8cad79fb",
   "metadata": {},
   "outputs": [],
   "source": [
    "cm =confusion_matrix(y_test, y_pred_test)"
   ]
  },
  {
   "cell_type": "code",
   "execution_count": 2023,
   "id": "5d00d741",
   "metadata": {},
   "outputs": [],
   "source": [
    "disp = ConfusionMatrixDisplay(confusion_matrix=cm, display_labels=logreg.classes_)"
   ]
  },
  {
   "cell_type": "code",
   "execution_count": 2024,
   "id": "7be5c5ee",
   "metadata": {},
   "outputs": [
    {
     "data": {
      "text/plain": [
       "<sklearn.metrics._plot.confusion_matrix.ConfusionMatrixDisplay at 0x7f2a05bbd730>"
      ]
     },
     "execution_count": 2024,
     "metadata": {},
     "output_type": "execute_result"
    },
    {
     "data": {
      "image/png": "[encoded data removed]",
      "text/plain": [
       "<Figure size 432x288 with 2 Axes>"
      ]
     },
     "metadata": {
      "needs_background": "light"
     },
     "output_type": "display_data"
    }
   ],
   "source": [
    "disp.plot()"
   ]
  },
  {
   "cell_type": "markdown",
   "id": "f435a187",
   "metadata": {},
   "source": [
    "From the matrix above, we can see that with this balance data set, the model was able to correctly predict 1513 bad loans. Although this is better than our initial model, the model still misclassified 732 bad loans as good.\n",
    "\n",
    "The performance of the model at predicting good loans is still high."
   ]
  },
  {
   "cell_type": "code",
   "execution_count": 2025,
   "id": "7379a504",
   "metadata": {},
   "outputs": [
    {
     "name": "stdout",
     "output_type": "stream",
     "text": [
      "              precision    recall  f1-score   support\n",
      "\n",
      "         Bad       0.95      0.67      0.79      2245\n",
      "        Good       0.74      0.96      0.84      2214\n",
      "\n",
      "    accuracy                           0.82      4459\n",
      "   macro avg       0.85      0.82      0.81      4459\n",
      "weighted avg       0.85      0.82      0.81      4459\n",
      "\n"
     ]
    }
   ],
   "source": [
    "print(classification_report(y_test, y_pred_test))"
   ]
  },
  {
   "cell_type": "markdown",
   "id": "594bbb89",
   "metadata": {},
   "source": [
    "Since our data is now balanced, we can see the macro average increased as well.\n",
    "\n",
    "We can see the model is performing a little better, not yet best, at predicting bad loans.\n",
    "We can adjust the thresholds to help it perform better."
   ]
  },
  {
   "cell_type": "code",
   "execution_count": 2026,
   "id": "3dd80439",
   "metadata": {},
   "outputs": [
    {
     "data": {
      "text/plain": [
       "array([[2.90457869e-01, 7.09542131e-01],\n",
       "       [9.84903910e-01, 1.50960903e-02],\n",
       "       [4.67182440e-01, 5.32817560e-01],\n",
       "       ...,\n",
       "       [9.99955978e-01, 4.40219528e-05],\n",
       "       [6.62205155e-01, 3.37794845e-01],\n",
       "       [1.16296540e-01, 8.83703460e-01]])"
      ]
     },
     "execution_count": 2026,
     "metadata": {},
     "output_type": "execute_result"
    }
   ],
   "source": [
    "#getting the bad and good loan probabilities for each of our testing data\n",
    "y_pred_prob = logreg.predict_proba(X_test)\n",
    "y_pred_prob"
   ]
  },
  {
   "cell_type": "code",
   "execution_count": 2027,
   "id": "68b6777f",
   "metadata": {},
   "outputs": [
    {
     "data": {
      "text/html": [
       "<div>\n",
       "<style scoped>\n",
       "    .dataframe tbody tr th:only-of-type {\n",
       "        vertical-align: middle;\n",
       "    }\n",
       "\n",
       "    .dataframe tbody tr th {\n",
       "        vertical-align: top;\n",
       "    }\n",
       "\n",
       "    .dataframe thead th {\n",
       "        text-align: right;\n",
       "    }\n",
       "</style>\n",
       "<table border=\"1\" class=\"dataframe\">\n",
       "  <thead>\n",
       "    <tr style=\"text-align: right;\">\n",
       "      <th></th>\n",
       "      <th>Probability of Good loan (0)</th>\n",
       "      <th>Probability of Bad loan (1)</th>\n",
       "    </tr>\n",
       "  </thead>\n",
       "  <tbody>\n",
       "    <tr>\n",
       "      <th>0</th>\n",
       "      <td>0.290458</td>\n",
       "      <td>0.709542</td>\n",
       "    </tr>\n",
       "    <tr>\n",
       "      <th>1</th>\n",
       "      <td>0.984904</td>\n",
       "      <td>0.015096</td>\n",
       "    </tr>\n",
       "    <tr>\n",
       "      <th>2</th>\n",
       "      <td>0.467182</td>\n",
       "      <td>0.532818</td>\n",
       "    </tr>\n",
       "    <tr>\n",
       "      <th>3</th>\n",
       "      <td>0.376942</td>\n",
       "      <td>0.623058</td>\n",
       "    </tr>\n",
       "    <tr>\n",
       "      <th>4</th>\n",
       "      <td>0.370688</td>\n",
       "      <td>0.629312</td>\n",
       "    </tr>\n",
       "    <tr>\n",
       "      <th>...</th>\n",
       "      <td>...</td>\n",
       "      <td>...</td>\n",
       "    </tr>\n",
       "    <tr>\n",
       "      <th>4454</th>\n",
       "      <td>0.199690</td>\n",
       "      <td>0.800310</td>\n",
       "    </tr>\n",
       "    <tr>\n",
       "      <th>4455</th>\n",
       "      <td>0.996376</td>\n",
       "      <td>0.003624</td>\n",
       "    </tr>\n",
       "    <tr>\n",
       "      <th>4456</th>\n",
       "      <td>0.999956</td>\n",
       "      <td>0.000044</td>\n",
       "    </tr>\n",
       "    <tr>\n",
       "      <th>4457</th>\n",
       "      <td>0.662205</td>\n",
       "      <td>0.337795</td>\n",
       "    </tr>\n",
       "    <tr>\n",
       "      <th>4458</th>\n",
       "      <td>0.116297</td>\n",
       "      <td>0.883703</td>\n",
       "    </tr>\n",
       "  </tbody>\n",
       "</table>\n",
       "<p>4459 rows × 2 columns</p>\n",
       "</div>"
      ],
      "text/plain": [
       "      Probability of Good loan (0)  Probability of Bad loan (1)\n",
       "0                         0.290458                     0.709542\n",
       "1                         0.984904                     0.015096\n",
       "2                         0.467182                     0.532818\n",
       "3                         0.376942                     0.623058\n",
       "4                         0.370688                     0.629312\n",
       "...                            ...                          ...\n",
       "4454                      0.199690                     0.800310\n",
       "4455                      0.996376                     0.003624\n",
       "4456                      0.999956                     0.000044\n",
       "4457                      0.662205                     0.337795\n",
       "4458                      0.116297                     0.883703\n",
       "\n",
       "[4459 rows x 2 columns]"
      ]
     },
     "execution_count": 2027,
     "metadata": {},
     "output_type": "execute_result"
    }
   ],
   "source": [
    "#storing the probabilities in a dataframe\n",
    "y_pred_prob_df = pd.DataFrame(data=y_pred_prob, columns=['Probability of Good loan (0)',\n",
    "                                                         'Probability of Bad loan (1)'])\n",
    "\n",
    "y_pred_prob_df"
   ]
  },
  {
   "cell_type": "code",
   "execution_count": 2028,
   "id": "74d9c92c",
   "metadata": {},
   "outputs": [],
   "source": [
    "y_pred1 = logreg.predict_proba(X_test)[:,1]\n",
    "y_pred0 = logreg.predict_proba(X_test)[:,0]"
   ]
  },
  {
   "cell_type": "code",
   "execution_count": 2029,
   "id": "3c7ad457",
   "metadata": {},
   "outputs": [
    {
     "data": {
      "text/plain": [
       "(4459,)"
      ]
     },
     "execution_count": 2029,
     "metadata": {},
     "output_type": "execute_result"
    }
   ],
   "source": [
    "y_pred1.shape"
   ]
  },
  {
   "cell_type": "code",
   "execution_count": 2030,
   "id": "cb086819",
   "metadata": {},
   "outputs": [],
   "source": [
    "#plot ROC curve\n",
    "\n",
    "from sklearn.metrics import roc_curve\n",
    "\n",
    "fpr, tpr, thresholds = roc_curve(y_test, y_pred1, pos_label='Good')"
   ]
  },
  {
   "cell_type": "code",
   "execution_count": 2031,
   "id": "dfbbf9af",
   "metadata": {},
   "outputs": [
    {
     "data": {
      "image/png": "[encoded data removed]",
      "text/plain": [
       "<Figure size 432x288 with 1 Axes>"
      ]
     },
     "metadata": {
      "needs_background": "light"
     },
     "output_type": "display_data"
    }
   ],
   "source": [
    "plt.figure(figsize = (6,4))\n",
    "plt.plot(fpr, tpr, linewidth=2)\n",
    "plt.plot([0,1], [0,1], '--')\n",
    "plt.title('ROC curve for loan classifier')\n",
    "plt.xlabel('False positive rate')\n",
    "plt.ylabel('True positve rate')\n",
    "plt.show()"
   ]
  },
  {
   "cell_type": "code",
   "execution_count": 2032,
   "id": "344cf390",
   "metadata": {},
   "outputs": [
    {
     "name": "stdout",
     "output_type": "stream",
     "text": [
      "0.884905732502017\n"
     ]
    }
   ],
   "source": [
    "#computing AUC \n",
    "\n",
    "from sklearn.metrics import roc_auc_score\n",
    "\n",
    "ROC_AUC = roc_auc_score(y_test, y_pred1)\n",
    "\n",
    "print(ROC_AUC)"
   ]
  },
  {
   "cell_type": "code",
   "execution_count": 2033,
   "id": "cf7c12b7",
   "metadata": {},
   "outputs": [
    {
     "data": {
      "text/plain": [
       "array([1.99987745e+00, 9.99877449e-01, 9.53397201e-01, ...,\n",
       "       1.71440258e-02, 1.67310481e-02, 3.04478426e-11])"
      ]
     },
     "execution_count": 2033,
     "metadata": {},
     "output_type": "execute_result"
    }
   ],
   "source": [
    "thresholds"
   ]
  },
  {
   "cell_type": "code",
   "execution_count": 2034,
   "id": "f633d6d7",
   "metadata": {},
   "outputs": [],
   "source": [
    "#y_pred1 = logreg.predict_proba(X_test)[:,1]\n",
    "y_pred_prob= y_pred1.reshape(1,-1)"
   ]
  },
  {
   "cell_type": "code",
   "execution_count": 2035,
   "id": "9ff3f71b",
   "metadata": {},
   "outputs": [
    {
     "data": {
      "text/plain": [
       "array([[7.09542131e-01, 1.50960903e-02, 5.32817560e-01, ...,\n",
       "        4.40219528e-05, 3.37794845e-01, 8.83703460e-01]])"
      ]
     },
     "execution_count": 2035,
     "metadata": {},
     "output_type": "execute_result"
    }
   ],
   "source": [
    "y_pred_prob"
   ]
  },
  {
   "cell_type": "code",
   "execution_count": 2036,
   "id": "09b1edcb",
   "metadata": {},
   "outputs": [
    {
     "data": {
      "text/plain": [
       "(1, 4459)"
      ]
     },
     "execution_count": 2036,
     "metadata": {},
     "output_type": "execute_result"
    }
   ],
   "source": [
    "y_pred_prob.shape"
   ]
  },
  {
   "cell_type": "markdown",
   "id": "0ab1bd3c",
   "metadata": {},
   "source": [
    "Tuning the threshold to improve model performance. The threshold can changed multiple times to see if the performance of the logistic model's prediction will improve. "
   ]
  },
  {
   "cell_type": "code",
   "execution_count": 2089,
   "id": "ff543b52",
   "metadata": {},
   "outputs": [
    {
     "data": {
      "text/plain": [
       "array([0., 0., 0., ..., 0., 0., 0.])"
      ]
     },
     "execution_count": 2089,
     "metadata": {},
     "output_type": "execute_result"
    }
   ],
   "source": [
    "y_pred_class = binarize(y_pred_prob, threshold=1.99987700e+00)[0]\n",
    "y_pred_class"
   ]
  },
  {
   "cell_type": "code",
   "execution_count": 2070,
   "id": "36241605",
   "metadata": {},
   "outputs": [
    {
     "data": {
      "text/plain": [
       "3092     0\n",
       "17257    0\n",
       "10882    0\n",
       "9413     0\n",
       "11331    0\n",
       "        ..\n",
       "3321     0\n",
       "15499    0\n",
       "17287    0\n",
       "473      0\n",
       "7265     0\n",
       "Name: good_bad_flag, Length: 4459, dtype: int64"
      ]
     },
     "execution_count": 2070,
     "metadata": {},
     "output_type": "execute_result"
    }
   ],
   "source": [
    "y_test"
   ]
  },
  {
   "cell_type": "code",
   "execution_count": null,
   "id": "637fa493",
   "metadata": {},
   "outputs": [],
   "source": [
    "y_test = y_test.apply(lambda x: 0 if x <= 'Good' else 1)"
   ]
  },
  {
   "cell_type": "code",
   "execution_count": 2090,
   "id": "b5404b2a",
   "metadata": {},
   "outputs": [
    {
     "data": {
      "text/plain": [
       "array([[4459]])"
      ]
     },
     "execution_count": 2090,
     "metadata": {},
     "output_type": "execute_result"
    }
   ],
   "source": [
    "cm =confusion_matrix(y_test, y_pred_class)\n",
    "cm"
   ]
  },
  {
   "cell_type": "markdown",
   "id": "1318cb91",
   "metadata": {},
   "source": [
    "### K-nearest neighbours"
   ]
  },
  {
   "cell_type": "code",
   "execution_count": 2049,
   "id": "ee477f7f",
   "metadata": {},
   "outputs": [],
   "source": [
    "#we're going to build three models testing out a different number of nearest neighbours to \n",
    "#see which number is best performing\n",
    "\n",
    "#model where n_neighbors = 10\n",
    "knnr = KNeighborsClassifier(n_neighbors = 2 , metric='minkowski',p=2)\n"
   ]
  },
  {
   "cell_type": "code",
   "execution_count": 2050,
   "id": "f97957ca",
   "metadata": {},
   "outputs": [
    {
     "data": {
      "text/html": [
       "<style>#sk-container-id-32 {color: black;background-color: white;}#sk-container-id-32 pre{padding: 0;}#sk-container-id-32 div.sk-toggleable {background-color: white;}#sk-container-id-32 label.sk-toggleable__label {cursor: pointer;display: block;width: 100%;margin-bottom: 0;padding: 0.3em;box-sizing: border-box;text-align: center;}#sk-container-id-32 label.sk-toggleable__label-arrow:before {content: \"▸\";float: left;margin-right: 0.25em;color: #696969;}#sk-container-id-32 label.sk-toggleable__label-arrow:hover:before {color: black;}#sk-container-id-32 div.sk-estimator:hover label.sk-toggleable__label-arrow:before {color: black;}#sk-container-id-32 div.sk-toggleable__content {max-height: 0;max-width: 0;overflow: hidden;text-align: left;background-color: #f0f8ff;}#sk-container-id-32 div.sk-toggleable__content pre {margin: 0.2em;color: black;border-radius: 0.25em;background-color: #f0f8ff;}#sk-container-id-32 input.sk-toggleable__control:checked~div.sk-toggleable__content {max-height: 200px;max-width: 100%;overflow: auto;}#sk-container-id-32 input.sk-toggleable__control:checked~label.sk-toggleable__label-arrow:before {content: \"▾\";}#sk-container-id-32 div.sk-estimator input.sk-toggleable__control:checked~label.sk-toggleable__label {background-color: #d4ebff;}#sk-container-id-32 div.sk-label input.sk-toggleable__control:checked~label.sk-toggleable__label {background-color: #d4ebff;}#sk-container-id-32 input.sk-hidden--visually {border: 0;clip: rect(1px 1px 1px 1px);clip: rect(1px, 1px, 1px, 1px);height: 1px;margin: -1px;overflow: hidden;padding: 0;position: absolute;width: 1px;}#sk-container-id-32 div.sk-estimator {font-family: monospace;background-color: #f0f8ff;border: 1px dotted black;border-radius: 0.25em;box-sizing: border-box;margin-bottom: 0.5em;}#sk-container-id-32 div.sk-estimator:hover {background-color: #d4ebff;}#sk-container-id-32 div.sk-parallel-item::after {content: \"\";width: 100%;border-bottom: 1px solid gray;flex-grow: 1;}#sk-container-id-32 div.sk-label:hover label.sk-toggleable__label {background-color: #d4ebff;}#sk-container-id-32 div.sk-serial::before {content: \"\";position: absolute;border-left: 1px solid gray;box-sizing: border-box;top: 0;bottom: 0;left: 50%;z-index: 0;}#sk-container-id-32 div.sk-serial {display: flex;flex-direction: column;align-items: center;background-color: white;padding-right: 0.2em;padding-left: 0.2em;position: relative;}#sk-container-id-32 div.sk-item {position: relative;z-index: 1;}#sk-container-id-32 div.sk-parallel {display: flex;align-items: stretch;justify-content: center;background-color: white;position: relative;}#sk-container-id-32 div.sk-item::before, #sk-container-id-32 div.sk-parallel-item::before {content: \"\";position: absolute;border-left: 1px solid gray;box-sizing: border-box;top: 0;bottom: 0;left: 50%;z-index: -1;}#sk-container-id-32 div.sk-parallel-item {display: flex;flex-direction: column;z-index: 1;position: relative;background-color: white;}#sk-container-id-32 div.sk-parallel-item:first-child::after {align-self: flex-end;width: 50%;}#sk-container-id-32 div.sk-parallel-item:last-child::after {align-self: flex-start;width: 50%;}#sk-container-id-32 div.sk-parallel-item:only-child::after {width: 0;}#sk-container-id-32 div.sk-dashed-wrapped {border: 1px dashed gray;margin: 0 0.4em 0.5em 0.4em;box-sizing: border-box;padding-bottom: 0.4em;background-color: white;}#sk-container-id-32 div.sk-label label {font-family: monospace;font-weight: bold;display: inline-block;line-height: 1.2em;}#sk-container-id-32 div.sk-label-container {text-align: center;}#sk-container-id-32 div.sk-container {/* jupyter's `normalize.less` sets `[hidden] { display: none; }` but bootstrap.min.css set `[hidden] { display: none !important; }` so we also need the `!important` here to be able to override the default hidden behavior on the sphinx rendered scikit-learn.org. See: https://github.com/scikit-learn/scikit-learn/issues/21755 */display: inline-block !important;position: relative;}#sk-container-id-32 div.sk-text-repr-fallback {display: none;}</style><div id=\"sk-container-id-32\" class=\"sk-top-container\"><div class=\"sk-text-repr-fallback\"><pre>KNeighborsClassifier(n_neighbors=2)</pre><b>In a Jupyter environment, please rerun this cell to show the HTML representation or trust the notebook. <br />On GitHub, the HTML representation is unable to render, please try loading this page with nbviewer.org.</b></div><div class=\"sk-container\" hidden><div class=\"sk-item\"><div class=\"sk-estimator sk-toggleable\"><input class=\"sk-toggleable__control sk-hidden--visually\" id=\"sk-estimator-id-32\" type=\"checkbox\" checked><label for=\"sk-estimator-id-32\" class=\"sk-toggleable__label sk-toggleable__label-arrow\">KNeighborsClassifier</label><div class=\"sk-toggleable__content\"><pre>KNeighborsClassifier(n_neighbors=2)</pre></div></div></div></div></div>"
      ],
      "text/plain": [
       "KNeighborsClassifier(n_neighbors=2)"
      ]
     },
     "execution_count": 2050,
     "metadata": {},
     "output_type": "execute_result"
    }
   ],
   "source": [
    "knnr.fit(X_train, y_train)"
   ]
  },
  {
   "cell_type": "code",
   "execution_count": 2051,
   "id": "4bdf9b04",
   "metadata": {},
   "outputs": [],
   "source": [
    "y_pred = knnr.predict(X_test)"
   ]
  },
  {
   "cell_type": "code",
   "execution_count": 2052,
   "id": "7974ce76",
   "metadata": {},
   "outputs": [
    {
     "data": {
      "text/plain": [
       "0.902220228750841"
      ]
     },
     "execution_count": 2052,
     "metadata": {},
     "output_type": "execute_result"
    }
   ],
   "source": [
    "accuracy_score= accuracy_score(y_test, y_pred)\n",
    "accuracy_score"
   ]
  },
  {
   "cell_type": "code",
   "execution_count": 2053,
   "id": "57741b51",
   "metadata": {},
   "outputs": [
    {
     "data": {
      "text/plain": [
       "array([[2169,   76],\n",
       "       [ 360, 1854]])"
      ]
     },
     "execution_count": 2053,
     "metadata": {},
     "output_type": "execute_result"
    }
   ],
   "source": [
    "confusion_matrix = confusion_matrix(y_test, y_pred)\n",
    "confusion_matrix"
   ]
  },
  {
   "cell_type": "code",
   "execution_count": 2054,
   "id": "9e681999",
   "metadata": {},
   "outputs": [
    {
     "name": "stdout",
     "output_type": "stream",
     "text": [
      "              precision    recall  f1-score   support\n",
      "\n",
      "         Bad       0.86      0.97      0.91      2245\n",
      "        Good       0.96      0.84      0.89      2214\n",
      "\n",
      "    accuracy                           0.90      4459\n",
      "   macro avg       0.91      0.90      0.90      4459\n",
      "weighted avg       0.91      0.90      0.90      4459\n",
      "\n"
     ]
    }
   ],
   "source": [
    "print(classification_report(y_test, y_pred))"
   ]
  },
  {
   "cell_type": "markdown",
   "id": "ba11d028",
   "metadata": {},
   "source": [
    "For n_neighbours=10, we can see the model is performing really well predicting the loan classes.\n",
    "In the next cell we have accuracies and classification reports for n_neighbours=15, 20, 5,3"
   ]
  },
  {
   "cell_type": "markdown",
   "id": "9a7355df",
   "metadata": {},
   "source": [
    "#### n_neighbours = 15\n",
    "\n",
    "|  | precision | recall | f1-score | support\n",
    "| :- | -: | :-: |:-: |:-: |\n",
    "| Bad | 0.88 | 0.86 | 0.87 | 2245\n",
    "| Good | 0.87 | 0.88 | 0.87 | 2214\n",
    "| accuracy | |  | 0.87 | 4459\n",
    "| macro avg |0.87 | 0.87 | 0.87 | 4459\n",
    "| weighted avg |0.87 | 0.87 | 0.87 | 4459"
   ]
  },
  {
   "cell_type": "markdown",
   "id": "3f1bb072",
   "metadata": {},
   "source": [
    "#### n_neighbours = 20\n",
    "\n",
    "|  | precision | recall | f1-score | support\n",
    "| :- | -: | :-: |:-: |:-: |\n",
    "| Bad | 0.87 | 0.86 | 0.86 | 2245\n",
    "| Good | 0.86 | 0.87 | 0.86 | 2214\n",
    "| accuracy | |  | 0.86 | 4459\n",
    "| macro avg |0.86 | 0.86 | 0.86 | 4459\n",
    "| weighted avg |0.86 | 0.86 | 0.86 | 4459"
   ]
  },
  {
   "cell_type": "markdown",
   "id": "beaf1289",
   "metadata": {},
   "source": [
    "#### n_neighbours = 5\n",
    "\n",
    "|  | precision | recall | f1-score | support\n",
    "| :- | -: | :-: |:-: |:-: |\n",
    "| Bad | 0.90 | 0.92 | 0.91 | 2245\n",
    "| Good | 0.92 | 0.90 | 0.91 | 2214\n",
    "| accuracy | |  | 0.91 | 4459\n",
    "| macro avg |0.91 | 0.91 | 0.91 | 4459\n",
    "| weighted avg |0.91 | 0.91 | 0.91 | 4459"
   ]
  },
  {
   "cell_type": "markdown",
   "id": "2c2d2c82",
   "metadata": {},
   "source": [
    "#### n_neighbours = 3\n",
    "\n",
    "|  | precision | recall | f1-score | support\n",
    "| :- | -: | :-: |:-: |:-: |\n",
    "| Bad | 0.91 | 0.94 | 0.92 | 2245\n",
    "| Good | 0.93 | 0.91 | 0.92 | 2214\n",
    "| accuracy | |  | 0.92 | 4459\n",
    "| macro avg |0.92 | 0.92 | 0.92 | 4459\n",
    "| weighted avg |0.92 | 0.92 | 0.92 | 4459"
   ]
  },
  {
   "cell_type": "markdown",
   "id": "87b70de2",
   "metadata": {},
   "source": [
    "From the reports and accuracies above, we can see that n_neighbours=3 yields the best results for our loan classifier for both identifiying the good and bad loans."
   ]
  },
  {
   "cell_type": "markdown",
   "id": "690e64eb",
   "metadata": {},
   "source": [
    "Let us see if n_neighbours = 2 will yield even better results\n",
    "\n",
    "#### n_neighbours = 2\n",
    "\n",
    "|  | precision | recall | f1-score | support\n",
    "| :- | -: | :-: |:-: |:-: |\n",
    "| Bad | 0.86| 0.97 | 0.91 | 2245\n",
    "| Good | 0.96 | 0.84 | 0.89 | 2214\n",
    "| accuracy | |  | 0.90 | 4459\n",
    "| macro avg |0.91 | 0.90 | 0.90 | 4459\n",
    "| weighted avg |0.91 | 0.90 | 0.90 | 4459"
   ]
  },
  {
   "cell_type": "markdown",
   "id": "c3b435a5",
   "metadata": {},
   "source": [
    "n_neighbours =2 doesn't give better results and so we shall take n_neighbours=3"
   ]
  },
  {
   "cell_type": "code",
   "execution_count": 2056,
   "id": "7098c7ce",
   "metadata": {},
   "outputs": [],
   "source": [
    "#Applying cross validation\n",
    "K = 5\n",
    "kf = KFold(n_splits=K, random_state=None, shuffle=True)"
   ]
  },
  {
   "cell_type": "code",
   "execution_count": 2058,
   "id": "8631812d",
   "metadata": {},
   "outputs": [
    {
     "name": "stdout",
     "output_type": "stream",
     "text": [
      "split 0:\n",
      "training indices: [    0     1     2 ... 17830 17831 17832]\n",
      "testing indices: [    4    18    22 ... 17814 17826 17827]\n",
      "\n",
      "split 1:\n",
      "training indices: [    2     3     4 ... 17830 17831 17832]\n",
      "testing indices: [    0     1     8 ... 17822 17823 17828]\n",
      "\n",
      "split 2:\n",
      "training indices: [    0     1     4 ... 17829 17830 17832]\n",
      "testing indices: [    2     3     5 ... 17816 17824 17831]\n",
      "\n",
      "split 3:\n",
      "training indices: [    0     1     2 ... 17829 17830 17831]\n",
      "testing indices: [    7    13    20 ... 17820 17825 17832]\n",
      "\n",
      "split 4:\n",
      "training indices: [    0     1     2 ... 17828 17831 17832]\n",
      "testing indices: [    6     9    10 ... 17821 17829 17830]\n",
      "\n"
     ]
    }
   ],
   "source": [
    "for i, (train, test) in enumerate(kf.split(X_train)):\n",
    "    print('split {}:'.format(i))\n",
    "    print('training indices: {}'.format(train))\n",
    "    print('testing indices: {}'.format(test))\n",
    "    print()"
   ]
  }
 ],
 "metadata": {
  "kernelspec": {
   "display_name": "Python 3 (ipykernel)",
   "language": "python",
   "name": "python3"
  },
  "language_info": {
   "codemirror_mode": {
    "name": "ipython",
    "version": 3
   },
   "file_extension": ".py",
   "mimetype": "text/x-python",
   "name": "python",
   "nbconvert_exporter": "python",
   "pygments_lexer": "ipython3",
   "version": "3.9.7"
  }
 },
 "nbformat": 4,
 "nbformat_minor": 5
}
